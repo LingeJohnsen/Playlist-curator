{
 "cells": [
  {
   "cell_type": "code",
   "execution_count": 42,
   "id": "exposed-seven",
   "metadata": {},
   "outputs": [],
   "source": [
    "import pandas as pd\n",
    "import numpy as np\n",
    "\n",
    "from sklearn.pipeline import Pipeline\n",
    "from sklearn.preprocessing import OneHotEncoder\n",
    "from sklearn.compose import ColumnTransformer\n",
    "from sklearn.impute import SimpleImputer\n",
    "from sklearn.model_selection import PredefinedSplit\n",
    "from sklearn.model_selection import RandomizedSearchCV\n",
    "from sklearn.metrics import make_scorer, average_precision_score\n",
    "import sklearn.metrics as smt\n",
    "\n",
    "from xgboost import XGBClassifier\n",
    "\n",
    "from scipy.stats import uniform, randint, genexpon"
   ]
  },
  {
   "cell_type": "markdown",
   "id": "sorted-victoria",
   "metadata": {},
   "source": [
    "### Load and prepare data"
   ]
  },
  {
   "cell_type": "code",
   "execution_count": 2,
   "id": "refined-recognition",
   "metadata": {},
   "outputs": [],
   "source": [
    "train_df = pd.read_csv('hip_hop_train.csv', sep='|')\n",
    "dev_df = pd.read_csv('nor_hip_hop_dev.csv', sep='|')\n",
    "test_df = pd.read_csv('nor_hip_hop_test.csv', sep='|')"
   ]
  },
  {
   "cell_type": "code",
   "execution_count": 3,
   "id": "enabling-grenada",
   "metadata": {},
   "outputs": [
    {
     "name": "stdout",
     "output_type": "stream",
     "text": [
      "Dataset size is 5250 for training set, 3013 for dev set, and 3050 for test set.\n"
     ]
    }
   ],
   "source": [
    "print('Dataset size is {} for training set, {} for dev set, and {} for test set.'.format(train_df.shape[0], dev_df.shape[0], test_df.shape[0]))"
   ]
  },
  {
   "cell_type": "code",
   "execution_count": 4,
   "id": "random-conjunction",
   "metadata": {},
   "outputs": [],
   "source": [
    "# Define features to analyze\n",
    "features = [\n",
    "            'danceability',\n",
    "            'energy',\n",
    "            'speechiness',\n",
    "            'acousticness',\n",
    "            'instrumentalness',\n",
    "            'liveness',\n",
    "            'valence',\n",
    "            'num_samples',\n",
    "            'end_of_fade_in',\n",
    "            'loudness',\n",
    "            'tempo',\n",
    "            'key',\n",
    "            'mode',\n",
    "            'bars_num',\n",
    "            'bars_duration_var',\n",
    "            'beats_duration_var',\n",
    "            'sections_num',\n",
    "            'sections_duration_mean',\n",
    "            'sections_duration_var',\n",
    "            'loudness_var',\n",
    "            'tempo_var',\n",
    "            'key_var',\n",
    "            'mode_var',\n",
    "            'segments_duration_var',\n",
    "            'segments_duration_mean',\n",
    "            'pitches_mean',\n",
    "            'pitches_var',\n",
    "            'timbre_mean',\n",
    "            'timbre_var',\n",
    "            'tatums_duration_var'\n",
    "           ]\n",
    "# Shuffle data to ungroup class rows\n",
    "train = train_df[features+['label']].copy()\n",
    "train = train.sample(frac=1, random_state=42).reset_index(drop=True)\n",
    "dev = dev_df[features+['label']].copy()\n",
    "dev = dev.sample(frac=1, random_state=42).reset_index(drop=True)\n",
    "test = test_df[features+['label']].copy()\n",
    "test = test.sample(frac=1, random_state=42).reset_index(drop=True)"
   ]
  },
  {
   "cell_type": "markdown",
   "id": "original-cemetery",
   "metadata": {},
   "source": [
    "Combine train and dev into one df X_train with train and dev labelled so they can be used together in cross-validation"
   ]
  },
  {
   "cell_type": "code",
   "execution_count": 5,
   "id": "prerequisite-cleveland",
   "metadata": {},
   "outputs": [],
   "source": [
    "train['dev_flag'] = -1\n",
    "dev['dev_flag'] = 0\n",
    "\n",
    "X_train = pd.concat([train, dev]).reset_index()\n",
    "X_train.drop(columns=['index'], inplace=True)\n",
    "y_train = X_train.pop('label')"
   ]
  },
  {
   "cell_type": "code",
   "execution_count": 6,
   "id": "relative-venue",
   "metadata": {},
   "outputs": [
    {
     "data": {
      "text/plain": [
       "danceability               839\n",
       "energy                     975\n",
       "speechiness               1312\n",
       "acousticness              2737\n",
       "instrumentalness          2810\n",
       "liveness                  1403\n",
       "valence                   1110\n",
       "num_samples               7163\n",
       "end_of_fade_in            3366\n",
       "loudness                  5937\n",
       "tempo                     7647\n",
       "key                         12\n",
       "mode                         2\n",
       "bars_num                   370\n",
       "bars_duration_var         8209\n",
       "beats_duration_var        8209\n",
       "sections_num                45\n",
       "sections_duration_mean    8142\n",
       "sections_duration_var     8208\n",
       "loudness_var              8208\n",
       "tempo_var                 8205\n",
       "key_var                   3649\n",
       "mode_var                   140\n",
       "segments_duration_var     8222\n",
       "segments_duration_mean    8222\n",
       "pitches_mean              8223\n",
       "pitches_var               8223\n",
       "timbre_mean               8224\n",
       "timbre_var                8224\n",
       "tatums_duration_var       8209\n",
       "dev_flag                     2\n",
       "dtype: int64"
      ]
     },
     "execution_count": 6,
     "metadata": {},
     "output_type": "execute_result"
    }
   ],
   "source": [
    "X_train.nunique()"
   ]
  },
  {
   "cell_type": "code",
   "execution_count": 7,
   "id": "driving-cream",
   "metadata": {},
   "outputs": [],
   "source": [
    "num_cols = [\n",
    "            'bars_num',                \n",
    "            'bars_duration_var',       \n",
    "            'beats_duration_var',      \n",
    "            'sections_num',            \n",
    "            'sections_duration_mean',  \n",
    "            'sections_duration_var',   \n",
    "            'loudness_var',            \n",
    "            'tempo_var',               \n",
    "            'key_var',                 \n",
    "            'mode_var',                \n",
    "            'segments_duration_var',   \n",
    "            'segments_duration_mean',  \n",
    "            'pitches_mean',            \n",
    "            'pitches_var',             \n",
    "            'timbre_mean',             \n",
    "            'timbre_var',              \n",
    "            'tatums_duration_var',\n",
    "            'danceability',             \n",
    "            'energy',                   \n",
    "            'speechiness',              \n",
    "            'acousticness',             \n",
    "            'instrumentalness',         \n",
    "            'liveness',                 \n",
    "            'valence',                  \n",
    "            'num_samples',              \n",
    "            'end_of_fade_in',           \n",
    "            'loudness',                 \n",
    "            'tempo'\n",
    "           ]\n",
    "\n",
    "cat_cols = ['key', 'mode']"
   ]
  },
  {
   "cell_type": "code",
   "execution_count": 8,
   "id": "mysterious-research",
   "metadata": {},
   "outputs": [
    {
     "data": {
      "text/plain": [
       "0    4805\n",
       "1    3458\n",
       "Name: label, dtype: int64"
      ]
     },
     "execution_count": 8,
     "metadata": {},
     "output_type": "execute_result"
    }
   ],
   "source": [
    "y_train.value_counts()"
   ]
  },
  {
   "cell_type": "code",
   "execution_count": 9,
   "id": "medium-falls",
   "metadata": {},
   "outputs": [
    {
     "name": "stdout",
     "output_type": "stream",
     "text": [
      "3458\n",
      "4805\n",
      "1.3895315211104684\n"
     ]
    }
   ],
   "source": [
    "hip_hop_tracks = y_train.value_counts()[1]\n",
    "print(hip_hop_tracks)\n",
    "other_tracks = y_train.value_counts()[0]\n",
    "print(other_tracks)\n",
    "\n",
    "ratio = other_tracks / hip_hop_tracks\n",
    "print(ratio)"
   ]
  },
  {
   "cell_type": "code",
   "execution_count": 10,
   "id": "colonial-nightlife",
   "metadata": {},
   "outputs": [],
   "source": [
    "encoder = OneHotEncoder(handle_unknown='ignore')\n",
    "imputer = SimpleImputer(strategy='mean')\n",
    "cat_pre = Pipeline(steps=[('imp1', imputer), ('enc', encoder)])\n",
    "preprocessor = ColumnTransformer([('cat', cat_pre, cat_cols), ('imp2', imputer, num_cols)], remainder='drop')\n",
    "classifier = XGBClassifier(scale_pos_weight=ratio, verbosity=0, label_encoder=False)\n",
    "\n",
    "model_pipeline = Pipeline(steps=[('pre', preprocessor), ('clf', classifier)])"
   ]
  },
  {
   "cell_type": "code",
   "execution_count": 11,
   "id": "turkish-nickel",
   "metadata": {},
   "outputs": [],
   "source": [
    "# Set up cross validation with Random Search\n",
    "\n",
    "ps = PredefinedSplit(X_train['dev_flag'])\n",
    "\n",
    "distributions = {\n",
    "                 'clf__learning_rate': genexpon(1,10,10),\n",
    "                 'clf__gamma': genexpon(1,10,10),\n",
    "                 'clf__max_depth': randint(3, 11),\n",
    "                 'clf__min_child_weight': randint(1, 20),\n",
    "                 'clf__subsample': uniform(0.5, 0.5),\n",
    "                 'clf__colsample_bytree': uniform(),\n",
    "                 'clf__lambda': genexpon(0.001,0.1,10),\n",
    "                 'clf__alpha': genexpon(0.001,0.1,10)\n",
    "                }\n",
    "\n",
    "cv = RandomizedSearchCV(\n",
    "                        estimator = model_pipeline,\n",
    "                        param_distributions = distributions,\n",
    "                        n_iter = 1000,\n",
    "                        scoring = make_scorer(average_precision_score),\n",
    "                        n_jobs = 4,\n",
    "                        refit = False,\n",
    "                        cv = ps,\n",
    "                        verbose = 2,\n",
    "                        return_train_score = True\n",
    "                       )"
   ]
  },
  {
   "cell_type": "code",
   "execution_count": 12,
   "id": "decimal-kernel",
   "metadata": {},
   "outputs": [
    {
     "name": "stdout",
     "output_type": "stream",
     "text": [
      "Fitting 1 folds for each of 1000 candidates, totalling 1000 fits\n"
     ]
    }
   ],
   "source": [
    "cv_run = cv.fit(X_train, y_train)"
   ]
  },
  {
   "cell_type": "code",
   "execution_count": 13,
   "id": "imperial-wells",
   "metadata": {},
   "outputs": [
    {
     "data": {
      "text/plain": [
       "0.8600179946360816"
      ]
     },
     "execution_count": 13,
     "metadata": {},
     "output_type": "execute_result"
    }
   ],
   "source": [
    "cv_run.best_score_"
   ]
  },
  {
   "cell_type": "code",
   "execution_count": 14,
   "id": "excited-newsletter",
   "metadata": {},
   "outputs": [],
   "source": [
    "best_params = cv_run.best_params_"
   ]
  },
  {
   "cell_type": "markdown",
   "id": "smooth-pastor",
   "metadata": {},
   "source": [
    "Best score is 0.85 on dev set, which is very good! Time to evaluate test set."
   ]
  },
  {
   "cell_type": "code",
   "execution_count": 15,
   "id": "tender-bicycle",
   "metadata": {},
   "outputs": [
    {
     "name": "stderr",
     "output_type": "stream",
     "text": [
      "C:\\Users\\Alexander\\anaconda3\\envs\\playlistenv\\lib\\site-packages\\xgboost\\sklearn.py:1146: UserWarning: The use of label encoder in XGBClassifier is deprecated and will be removed in a future release. To remove this warning, do the following: 1) Pass option use_label_encoder=False when constructing XGBClassifier object; and 2) Encode your labels (y) as integers starting with 0, i.e. 0, 1, 2, ..., [num_class - 1].\n",
      "  warnings.warn(label_encoder_deprecation_msg, UserWarning)\n"
     ]
    }
   ],
   "source": [
    "# Fit best model\n",
    "best_classifier = XGBClassifier(\n",
    "                                scale_pos_weight = ratio,\n",
    "                                verbosity = 0,\n",
    "                                label_encoder = False,\n",
    "                                alpha = best_params['clf__alpha'],\n",
    "                                colsample_bytree = best_params['clf__colsample_bytree'],\n",
    "                                gamma = best_params['clf__gamma'],\n",
    "                                reg_lambda = best_params['clf__lambda'],\n",
    "                                eta = best_params['clf__learning_rate'],\n",
    "                                max_depth = best_params['clf__max_depth'],\n",
    "                                min_child_weight = best_params['clf__min_child_weight'],\n",
    "                                subsample = best_params['clf__subsample']\n",
    "                               )\n",
    "\n",
    "best_pipeline = Pipeline(steps=[('pre', preprocessor), ('clf', best_classifier)])\n",
    "\n",
    "model = best_pipeline.fit(train.drop(columns='label'), train['label'])"
   ]
  },
  {
   "cell_type": "code",
   "execution_count": 16,
   "id": "capable-blackjack",
   "metadata": {},
   "outputs": [],
   "source": [
    "y_test = test.pop('label')"
   ]
  },
  {
   "cell_type": "code",
   "execution_count": 17,
   "id": "intensive-colleague",
   "metadata": {},
   "outputs": [],
   "source": [
    "test['dev_flag'] = -1\n",
    "predictions = model.predict(test)\n",
    "predictions_proba = model.predict_proba(test)"
   ]
  },
  {
   "cell_type": "code",
   "execution_count": 18,
   "id": "armed-print",
   "metadata": {},
   "outputs": [
    {
     "data": {
      "text/plain": [
       "array([1, 0, 0, ..., 1, 1, 1], dtype=int64)"
      ]
     },
     "execution_count": 18,
     "metadata": {},
     "output_type": "execute_result"
    }
   ],
   "source": [
    "predictions"
   ]
  },
  {
   "cell_type": "code",
   "execution_count": 19,
   "id": "trying-canvas",
   "metadata": {},
   "outputs": [
    {
     "data": {
      "text/plain": [
       "array([[0.07319713, 0.9268029 ],\n",
       "       [0.8702225 , 0.12977749],\n",
       "       [0.9599307 , 0.04006928],\n",
       "       ...,\n",
       "       [0.15592289, 0.8440771 ],\n",
       "       [0.26652044, 0.73347956],\n",
       "       [0.23718166, 0.76281834]], dtype=float32)"
      ]
     },
     "execution_count": 19,
     "metadata": {},
     "output_type": "execute_result"
    }
   ],
   "source": [
    "predictions_proba"
   ]
  },
  {
   "cell_type": "code",
   "execution_count": 36,
   "id": "opponent-norwegian",
   "metadata": {},
   "outputs": [
    {
     "name": "stdout",
     "output_type": "stream",
     "text": [
      "Average precision score on test set is 0.97\n",
      "Accuracy on test set is 0.88\n",
      "ROC AUC score on test set is 0.97\n",
      "Precision on test set is 0.95\n",
      "Recall on test set is 0.8\n",
      "[[1465   58]\n",
      " [ 303 1224]]\n"
     ]
    }
   ],
   "source": [
    "# Get some metrics:\n",
    "avp = round(average_precision_score(y_test, predictions_proba[:, 1]),2)\n",
    "print(f'Average precision score on test set is {avp}')\n",
    "\n",
    "acc = round(smt.accuracy_score(y_test, predictions),2)\n",
    "print(f'Accuracy on test set is {acc}')\n",
    "\n",
    "roc = round(smt.roc_auc_score(y_test, predictions_proba[:, 1]), 2)\n",
    "print(f'ROC AUC score on test set is {roc}')\n",
    "\n",
    "prc = round(smt.precision_score(y_test, predictions), 2)\n",
    "print(f'Precision on test set is {prc}')\n",
    "\n",
    "recall = round(smt.recall_score(y_test, predictions), 2)\n",
    "print(f'Recall on test set is {recall}')\n",
    "\n",
    "print(smt.confusion_matrix(y_test, predictions))"
   ]
  },
  {
   "cell_type": "code",
   "execution_count": 37,
   "id": "institutional-vietnam",
   "metadata": {},
   "outputs": [
    {
     "data": {
      "text/plain": [
       "<sklearn.metrics._plot.confusion_matrix.ConfusionMatrixDisplay at 0x1ff4f137220>"
      ]
     },
     "execution_count": 37,
     "metadata": {},
     "output_type": "execute_result"
    },
    {
     "data": {
      "image/png": "[encoded data removed]",
      "text/plain": [
       "<Figure size 432x288 with 2 Axes>"
      ]
     },
     "metadata": {
      "needs_background": "light"
     },
     "output_type": "display_data"
    }
   ],
   "source": [
    "smt.plot_confusion_matrix(model, test, y_test)"
   ]
  },
  {
   "cell_type": "code",
   "execution_count": 39,
   "id": "dependent-soldier",
   "metadata": {},
   "outputs": [
    {
     "data": {
      "text/plain": [
       "<sklearn.metrics._plot.precision_recall_curve.PrecisionRecallDisplay at 0x1ff50e70be0>"
      ]
     },
     "execution_count": 39,
     "metadata": {},
     "output_type": "execute_result"
    },
    {
     "data": {
      "image/png": "[encoded data removed]",
      "text/plain": [
       "<Figure size 432x288 with 1 Axes>"
      ]
     },
     "metadata": {
      "needs_background": "light"
     },
     "output_type": "display_data"
    }
   ],
   "source": [
    "smt.plot_precision_recall_curve(model, test, y_test)"
   ]
  },
  {
   "cell_type": "code",
   "execution_count": 40,
   "id": "directed-engineer",
   "metadata": {},
   "outputs": [],
   "source": [
    "test['scores'] = model.predict_proba(test)[:,1]"
   ]
  },
  {
   "cell_type": "code",
   "execution_count": 41,
   "id": "subjective-childhood",
   "metadata": {},
   "outputs": [
    {
     "data": {
      "text/html": [
       "<div>\n",
       "<style scoped>\n",
       "    .dataframe tbody tr th:only-of-type {\n",
       "        vertical-align: middle;\n",
       "    }\n",
       "\n",
       "    .dataframe tbody tr th {\n",
       "        vertical-align: top;\n",
       "    }\n",
       "\n",
       "    .dataframe thead th {\n",
       "        text-align: right;\n",
       "    }\n",
       "</style>\n",
       "<table border=\"1\" class=\"dataframe\">\n",
       "  <thead>\n",
       "    <tr style=\"text-align: right;\">\n",
       "      <th></th>\n",
       "      <th>danceability</th>\n",
       "      <th>energy</th>\n",
       "      <th>speechiness</th>\n",
       "      <th>acousticness</th>\n",
       "      <th>instrumentalness</th>\n",
       "      <th>liveness</th>\n",
       "      <th>valence</th>\n",
       "      <th>num_samples</th>\n",
       "      <th>end_of_fade_in</th>\n",
       "      <th>loudness</th>\n",
       "      <th>...</th>\n",
       "      <th>mode_var</th>\n",
       "      <th>segments_duration_var</th>\n",
       "      <th>segments_duration_mean</th>\n",
       "      <th>pitches_mean</th>\n",
       "      <th>pitches_var</th>\n",
       "      <th>timbre_mean</th>\n",
       "      <th>timbre_var</th>\n",
       "      <th>tatums_duration_var</th>\n",
       "      <th>dev_flag</th>\n",
       "      <th>scores</th>\n",
       "    </tr>\n",
       "  </thead>\n",
       "  <tbody>\n",
       "    <tr>\n",
       "      <th>0</th>\n",
       "      <td>0.707</td>\n",
       "      <td>0.830</td>\n",
       "      <td>0.2410</td>\n",
       "      <td>0.42300</td>\n",
       "      <td>0.000000</td>\n",
       "      <td>0.217</td>\n",
       "      <td>0.598</td>\n",
       "      <td>4500623</td>\n",
       "      <td>0.26689</td>\n",
       "      <td>-2.892</td>\n",
       "      <td>...</td>\n",
       "      <td>0.000000</td>\n",
       "      <td>0.112323</td>\n",
       "      <td>0.237337</td>\n",
       "      <td>0.393391</td>\n",
       "      <td>0.133352</td>\n",
       "      <td>12.062743</td>\n",
       "      <td>8.263999</td>\n",
       "      <td>0.004732</td>\n",
       "      <td>-1</td>\n",
       "      <td>0.926803</td>\n",
       "    </tr>\n",
       "    <tr>\n",
       "      <th>1</th>\n",
       "      <td>0.475</td>\n",
       "      <td>0.908</td>\n",
       "      <td>0.0912</td>\n",
       "      <td>0.04360</td>\n",
       "      <td>0.000000</td>\n",
       "      <td>0.883</td>\n",
       "      <td>0.815</td>\n",
       "      <td>4517016</td>\n",
       "      <td>0.28458</td>\n",
       "      <td>-4.345</td>\n",
       "      <td>...</td>\n",
       "      <td>0.471405</td>\n",
       "      <td>0.196960</td>\n",
       "      <td>0.248307</td>\n",
       "      <td>0.397819</td>\n",
       "      <td>0.133881</td>\n",
       "      <td>8.371906</td>\n",
       "      <td>6.716301</td>\n",
       "      <td>0.005685</td>\n",
       "      <td>-1</td>\n",
       "      <td>0.129777</td>\n",
       "    </tr>\n",
       "    <tr>\n",
       "      <th>2</th>\n",
       "      <td>0.531</td>\n",
       "      <td>0.786</td>\n",
       "      <td>0.0312</td>\n",
       "      <td>0.19700</td>\n",
       "      <td>0.000002</td>\n",
       "      <td>0.126</td>\n",
       "      <td>0.793</td>\n",
       "      <td>5974029</td>\n",
       "      <td>0.00000</td>\n",
       "      <td>-6.561</td>\n",
       "      <td>...</td>\n",
       "      <td>0.000000</td>\n",
       "      <td>0.133227</td>\n",
       "      <td>0.246750</td>\n",
       "      <td>0.352082</td>\n",
       "      <td>0.118124</td>\n",
       "      <td>8.135614</td>\n",
       "      <td>5.435024</td>\n",
       "      <td>0.000953</td>\n",
       "      <td>-1</td>\n",
       "      <td>0.040069</td>\n",
       "    </tr>\n",
       "    <tr>\n",
       "      <th>3</th>\n",
       "      <td>0.444</td>\n",
       "      <td>0.721</td>\n",
       "      <td>0.6710</td>\n",
       "      <td>0.07040</td>\n",
       "      <td>0.000001</td>\n",
       "      <td>0.765</td>\n",
       "      <td>0.721</td>\n",
       "      <td>6065220</td>\n",
       "      <td>0.30757</td>\n",
       "      <td>-10.826</td>\n",
       "      <td>...</td>\n",
       "      <td>0.314270</td>\n",
       "      <td>0.118472</td>\n",
       "      <td>0.229031</td>\n",
       "      <td>0.441833</td>\n",
       "      <td>0.158574</td>\n",
       "      <td>11.302083</td>\n",
       "      <td>12.892645</td>\n",
       "      <td>0.124879</td>\n",
       "      <td>-1</td>\n",
       "      <td>0.899756</td>\n",
       "    </tr>\n",
       "    <tr>\n",
       "      <th>4</th>\n",
       "      <td>0.665</td>\n",
       "      <td>0.751</td>\n",
       "      <td>0.0670</td>\n",
       "      <td>0.00195</td>\n",
       "      <td>0.000006</td>\n",
       "      <td>0.130</td>\n",
       "      <td>0.961</td>\n",
       "      <td>4210374</td>\n",
       "      <td>0.11156</td>\n",
       "      <td>-6.094</td>\n",
       "      <td>...</td>\n",
       "      <td>0.276385</td>\n",
       "      <td>0.204455</td>\n",
       "      <td>0.247983</td>\n",
       "      <td>0.398918</td>\n",
       "      <td>0.131242</td>\n",
       "      <td>7.406008</td>\n",
       "      <td>7.211849</td>\n",
       "      <td>0.001745</td>\n",
       "      <td>-1</td>\n",
       "      <td>0.026387</td>\n",
       "    </tr>\n",
       "  </tbody>\n",
       "</table>\n",
       "<p>5 rows × 32 columns</p>\n",
       "</div>"
      ],
      "text/plain": [
       "   danceability  energy  speechiness  acousticness  instrumentalness  \\\n",
       "0         0.707   0.830       0.2410       0.42300          0.000000   \n",
       "1         0.475   0.908       0.0912       0.04360          0.000000   \n",
       "2         0.531   0.786       0.0312       0.19700          0.000002   \n",
       "3         0.444   0.721       0.6710       0.07040          0.000001   \n",
       "4         0.665   0.751       0.0670       0.00195          0.000006   \n",
       "\n",
       "   liveness  valence  num_samples  end_of_fade_in  loudness  ...  mode_var  \\\n",
       "0     0.217    0.598      4500623         0.26689    -2.892  ...  0.000000   \n",
       "1     0.883    0.815      4517016         0.28458    -4.345  ...  0.471405   \n",
       "2     0.126    0.793      5974029         0.00000    -6.561  ...  0.000000   \n",
       "3     0.765    0.721      6065220         0.30757   -10.826  ...  0.314270   \n",
       "4     0.130    0.961      4210374         0.11156    -6.094  ...  0.276385   \n",
       "\n",
       "   segments_duration_var  segments_duration_mean  pitches_mean  pitches_var  \\\n",
       "0               0.112323                0.237337      0.393391     0.133352   \n",
       "1               0.196960                0.248307      0.397819     0.133881   \n",
       "2               0.133227                0.246750      0.352082     0.118124   \n",
       "3               0.118472                0.229031      0.441833     0.158574   \n",
       "4               0.204455                0.247983      0.398918     0.131242   \n",
       "\n",
       "   timbre_mean  timbre_var  tatums_duration_var  dev_flag    scores  \n",
       "0    12.062743    8.263999             0.004732        -1  0.926803  \n",
       "1     8.371906    6.716301             0.005685        -1  0.129777  \n",
       "2     8.135614    5.435024             0.000953        -1  0.040069  \n",
       "3    11.302083   12.892645             0.124879        -1  0.899756  \n",
       "4     7.406008    7.211849             0.001745        -1  0.026387  \n",
       "\n",
       "[5 rows x 32 columns]"
      ]
     },
     "execution_count": 41,
     "metadata": {},
     "output_type": "execute_result"
    }
   ],
   "source": [
    "test.head()"
   ]
  },
  {
   "cell_type": "markdown",
   "id": "outdoor-spotlight",
   "metadata": {},
   "source": [
    "Test out different thresholds"
   ]
  },
  {
   "cell_type": "code",
   "execution_count": 79,
   "id": "adjusted-fiction",
   "metadata": {},
   "outputs": [],
   "source": [
    "test['preds'] = np.where(test['scores']>0.25, 1, 0)"
   ]
  },
  {
   "cell_type": "code",
   "execution_count": 80,
   "id": "former-dakota",
   "metadata": {},
   "outputs": [
    {
     "name": "stdout",
     "output_type": "stream",
     "text": [
      "Precision on test set is 0.91\n",
      "Recall on test set is 0.9\n"
     ]
    }
   ],
   "source": [
    "prc = round(smt.precision_score(y_test, test['preds']), 2)\n",
    "print(f'Precision on test set is {prc}')\n",
    "\n",
    "recall = round(smt.recall_score(y_test, test['preds']), 2)\n",
    "print(f'Recall on test set is {recall}')"
   ]
  },
  {
   "cell_type": "code",
   "execution_count": 81,
   "id": "colored-newman",
   "metadata": {},
   "outputs": [
    {
     "name": "stdout",
     "output_type": "stream",
     "text": [
      "[[1394  129]\n",
      " [ 150 1377]]\n"
     ]
    }
   ],
   "source": [
    "print(smt.confusion_matrix(y_test, test['preds']))"
   ]
  },
  {
   "cell_type": "code",
   "execution_count": null,
   "id": "partial-above",
   "metadata": {},
   "outputs": [],
   "source": []
  }
 ],
 "metadata": {
  "kernelspec": {
   "display_name": "playlistenv",
   "language": "python",
   "name": "playlistenv"
  },
  "language_info": {
   "codemirror_mode": {
    "name": "ipython",
    "version": 3
   },
   "file_extension": ".py",
   "mimetype": "text/x-python",
   "name": "python",
   "nbconvert_exporter": "python",
   "pygments_lexer": "ipython3",
   "version": "3.8.8"
  }
 },
 "nbformat": 4,
 "nbformat_minor": 5
}
