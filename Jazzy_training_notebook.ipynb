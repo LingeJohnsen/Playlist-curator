{
 "cells": [
  {
   "cell_type": "code",
   "execution_count": 1,
   "id": "changed-scientist",
   "metadata": {},
   "outputs": [],
   "source": [
    "import pandas as pd\n",
    "import numpy as np\n",
    "from joblib import dump, load\n",
    "import time\n",
    "import datetime\n",
    "import operator\n",
    "\n",
    "from sklearn.model_selection import train_test_split\n",
    "from sklearn.pipeline import Pipeline\n",
    "from sklearn.preprocessing import StandardScaler\n",
    "from sklearn.impute import SimpleImputer\n",
    "\n",
    "import tensorflow as tf\n",
    "import tensorflow.keras as tfk\n",
    "from tensorflow.keras.models import Sequential\n",
    "from tensorflow.keras.layers import Dense\n",
    "from tensorflow.keras.optimizers import Adam\n",
    "from tensorflow.keras.regularizers import l2\n",
    "from tensorflow.keras import callbacks\n",
    "\n",
    "from matplotlib import pyplot as plt"
   ]
  },
  {
   "cell_type": "code",
   "execution_count": 2,
   "id": "spoken-spray",
   "metadata": {},
   "outputs": [],
   "source": [
    "%load_ext tensorboard"
   ]
  },
  {
   "cell_type": "markdown",
   "id": "dangerous-emperor",
   "metadata": {},
   "source": [
    "### Some useful functions"
   ]
  },
  {
   "cell_type": "code",
   "execution_count": 3,
   "id": "clean-belle",
   "metadata": {},
   "outputs": [],
   "source": [
    "def get_confusion_matrix(true_pos, false_pos, true_neg, false_neg):\n",
    "    conf_matrix = np.array([\n",
    "                            [true_pos, false_pos],\n",
    "                            [false_neg, true_neg]\n",
    "                           ])\n",
    "    \n",
    "    return pd.DataFrame(conf_matrix, columns=['1', '0'], index=['1', '0'])"
   ]
  },
  {
   "cell_type": "code",
   "execution_count": 4,
   "id": "saving-branch",
   "metadata": {},
   "outputs": [],
   "source": [
    "def learning_plot(model, metric):\n",
    "    \n",
    "    fig = plt.figure()\n",
    "    \n",
    "    fig = plt.plot(model.history[metric], color='black')\n",
    "    fig = plt.plot(model.history['val_'+metric], color='blue')\n",
    "\n",
    "    plt.title('Changes in {} over training run'.format(metric))\n",
    "    plt.xlabel('Epoch')\n",
    "    plt.ylabel(metric)\n",
    "    \n",
    "    plt.legend(['train', 'val'], loc='upper right')\n",
    "    \n",
    "    return fig"
   ]
  },
  {
   "cell_type": "code",
   "execution_count": 5,
   "id": "handed-recording",
   "metadata": {},
   "outputs": [],
   "source": [
    "def learning_recall(model, positives_flag=True):\n",
    "    \n",
    "    if positives_flag:\n",
    "        recall = [tp / (tp+fn) for tp, fn in zip(model.history['true_positives'], model.history['false_negatives'])]\n",
    "        val_recall = [tp / (tp+fn) for tp, fn in zip(model.history['val_true_positives'], model.history['val_false_negatives'])]\n",
    "        recall_type = 'positive'\n",
    "    else:\n",
    "        recall = [tn / (tn+fp) for tn, fp in zip(model.history['true_negatives'], model.history['false_positives'])]\n",
    "        val_recall = [tn / (tn+fp) for tn, fp in zip(model.history['val_true_negatives'], model.history['val_false_positives'])]\n",
    "        recall_type = 'negative'\n",
    "        \n",
    "    fig = plt.figure()\n",
    "    \n",
    "    fig = plt.plot(recall, color='black')\n",
    "    fig = plt.plot(val_recall, color='blue')\n",
    "    \n",
    "    plt.title('Changes in {} recall rate over training run.'.format(recall_type))\n",
    "    plt.xlabel('Epoch')\n",
    "    plt.ylabel('{} recall rate'.format(recall_type))\n",
    "    \n",
    "    return fig"
   ]
  },
  {
   "cell_type": "code",
   "execution_count": 6,
   "id": "binding-planning",
   "metadata": {},
   "outputs": [],
   "source": [
    "def random_search_models(num_models, input_dims, compile_metrics, seed):\n",
    "    \n",
    "    np.random.seed(seed)\n",
    "    \n",
    "    all_models = []\n",
    "    \n",
    "    for m in range(num_models): \n",
    "        \n",
    "        num_hidden_layers = np.random.randint(1, 11)\n",
    "        all_models.append(build_model(num_hidden_layers, input_dims, compile_metrics))\n",
    "    \n",
    "    return all_models\n",
    "\n",
    "def build_layers(num_layers, input_dims):\n",
    "\n",
    "    layers = []\n",
    "    \n",
    "    for i in range(num_layers):\n",
    "        \n",
    "        num_units = np.random.randint(2, 27)\n",
    "        reg_val = 10**(-4*np.random.rand())\n",
    "        if i==0:\n",
    "            layers.append(Dense(\n",
    "                                units = num_units,\n",
    "                                input_dim = input_dims,\n",
    "                                activation = 'relu',\n",
    "                                kernel_regularizer = l2(l2=reg_val)\n",
    "                               ))\n",
    "        else:\n",
    "            layers.append(Dense(\n",
    "                                units = num_units,\n",
    "                                activation = 'relu',\n",
    "                                kernel_regularizer = l2(l2=reg_val)\n",
    "                               ))\n",
    "    reg_val = 10**(-4*np.random.rand())\n",
    "    layers.append(Dense(\n",
    "                        units = 1,\n",
    "                        activation = 'sigmoid',\n",
    "                        kernel_regularizer = l2(l2=reg_val)\n",
    "                       ))\n",
    "    return layers\n",
    "\n",
    "def build_model(num_hidden_layers, input_dims, compile_metrics):\n",
    "\n",
    "    model = Sequential()\n",
    "    \n",
    "    layers = build_layers(num_hidden_layers, input_dims)\n",
    "    for l in layers:\n",
    "        model.add(l)\n",
    "    \n",
    "    learning_rate = 10**(-4*np.random.rand())\n",
    "    model.compile(optimizer = Adam(learning_rate), loss='binary_crossentropy', metrics=[compile_metrics])\n",
    "    \n",
    "    return model"
   ]
  },
  {
   "cell_type": "code",
   "execution_count": 7,
   "id": "nominated-alcohol",
   "metadata": {},
   "outputs": [],
   "source": [
    "def get_best_models(model_list, metric, descending, num_models):\n",
    "    \n",
    "    m_tuples = []\n",
    "    for model, history in model_list:\n",
    "        m_tuples.append((model, history, history.history[metric][-1]))\n",
    "        \n",
    "    m_tuples.sort(key=operator.itemgetter(2), reverse=descending)\n",
    "    \n",
    "    if num_models:\n",
    "        return m_tuples[:num_models]\n",
    "    else:\n",
    "        return m_tuples"
   ]
  },
  {
   "cell_type": "markdown",
   "id": "vanilla-commercial",
   "metadata": {},
   "source": [
    "### Load and prepare data"
   ]
  },
  {
   "cell_type": "code",
   "execution_count": 8,
   "id": "statutory-retreat",
   "metadata": {},
   "outputs": [],
   "source": [
    "df = pd.read_csv('jazz.csv', sep='|')"
   ]
  },
  {
   "cell_type": "code",
   "execution_count": 9,
   "id": "latter-joyce",
   "metadata": {},
   "outputs": [],
   "source": [
    "# Define features to analyze\n",
    "features = [\n",
    "            'danceability',\n",
    "            'energy',\n",
    "            'speechiness',\n",
    "            'acousticness',\n",
    "            'instrumentalness',\n",
    "            'liveness',\n",
    "            'valence',\n",
    "            'num_samples',\n",
    "            'end_of_fade_in',\n",
    "            'loudness',\n",
    "            'tempo',\n",
    "            'key',\n",
    "            'mode',\n",
    "            'bars_num',\n",
    "            'bars_duration_var',\n",
    "            'beats_duration_var',\n",
    "            'sections_num',\n",
    "            'sections_duration_mean',\n",
    "            'sections_duration_var',\n",
    "            'loudness_var',\n",
    "            'tempo_var',\n",
    "            'key_var',\n",
    "            'mode_var',\n",
    "            'segments_duration_var',\n",
    "            'segments_duration_mean',\n",
    "            'pitches_mean',\n",
    "            'pitches_var',\n",
    "            'timbre_mean',\n",
    "            'timbre_var',\n",
    "            'tatums_duration_var'\n",
    "           ]\n",
    "\n",
    "df = df[features+['label']]\n",
    "\n",
    "# Shuffle data to ungroup class rows\n",
    "df = df.sample(frac=1, random_state=12).reset_index(drop=True)"
   ]
  },
  {
   "cell_type": "code",
   "execution_count": 10,
   "id": "sought-passion",
   "metadata": {},
   "outputs": [
    {
     "data": {
      "text/plain": [
       "(1560, 31)"
      ]
     },
     "execution_count": 10,
     "metadata": {},
     "output_type": "execute_result"
    }
   ],
   "source": [
    "df[df['label']==1].shape"
   ]
  },
  {
   "cell_type": "markdown",
   "id": "likely-drink",
   "metadata": {},
   "source": [
    "Split dataset into training, validation, and test. 60/20/20 gives ~936 positive training samples, and ~312 each of positive validation and test samples. Quite small, but hopefully big enough to be meaningful."
   ]
  },
  {
   "cell_type": "code",
   "execution_count": 11,
   "id": "allied-november",
   "metadata": {},
   "outputs": [],
   "source": [
    "X = df[features].copy()\n",
    "Y = df['label'].copy()\n",
    "\n",
    "X_train, X_test, y_train, y_test = train_test_split(\n",
    "                                                    X,\n",
    "                                                    Y, \n",
    "                                                    stratify = Y,\n",
    "                                                    test_size = 0.2,\n",
    "                                                    random_state = 42\n",
    "                                                   )"
   ]
  },
  {
   "cell_type": "markdown",
   "id": "reverse-wildlife",
   "metadata": {},
   "source": [
    "# Start building model"
   ]
  },
  {
   "cell_type": "code",
   "execution_count": 12,
   "id": "sweet-lodging",
   "metadata": {},
   "outputs": [
    {
     "data": {
      "text/plain": [
       "['scaler.joblib']"
      ]
     },
     "execution_count": 12,
     "metadata": {},
     "output_type": "execute_result"
    }
   ],
   "source": [
    "# First fit how to scale data for the model\n",
    "pipeline = Pipeline(steps=[('scaler', StandardScaler()), ('imputer', SimpleImputer(strategy='median'))])\n",
    "\n",
    "scale_model = pipeline.fit(X_train)\n",
    "X_train = scale_model.transform(X_train)\n",
    "X_test = scale_model.transform(X_test)\n",
    "\n",
    "# Save for later use\n",
    "dump(scale_model, 'scaler.joblib') "
   ]
  },
  {
   "cell_type": "code",
   "execution_count": 13,
   "id": "amateur-booking",
   "metadata": {},
   "outputs": [
    {
     "name": "stdout",
     "output_type": "stream",
     "text": [
      "WARNING:tensorflow:From C:\\Users\\Alexander\\anaconda3\\envs\\playlistenv\\lib\\site-packages\\tensorflow\\python\\ops\\summary_ops_v2.py:1277: stop (from tensorflow.python.eager.profiler) is deprecated and will be removed after 2020-07-01.\n",
      "Instructions for updating:\n",
      "use `tf.profiler.experimental.stop` instead.\n",
      "WARNING:tensorflow:Callbacks method `on_train_batch_end` is slow compared to the batch time (batch time: 0.0010s vs `on_train_batch_end` time: 0.0362s). Check your callbacks.\n",
      "Average validation loss for model  1 :  1.2035179035663606\n",
      "WARNING:tensorflow:Callbacks method `on_train_batch_end` is slow compared to the batch time (batch time: 0.0010s vs `on_train_batch_end` time: 1.6342s). Check your callbacks.\n",
      "Average validation loss for model  2 :  0.7794862763881684\n",
      "WARNING:tensorflow:Callbacks method `on_train_batch_end` is slow compared to the batch time (batch time: 0.0020s vs `on_train_batch_end` time: 2.0665s). Check your callbacks.\n",
      "Average validation loss for model  3 :  0.7491164590120316\n",
      "WARNING:tensorflow:Callbacks method `on_train_batch_end` is slow compared to the batch time (batch time: 0.0020s vs `on_train_batch_end` time: 1.8108s). Check your callbacks.\n",
      "Average validation loss for model  4 :  0.7110158059597015\n",
      "WARNING:tensorflow:Callbacks method `on_train_batch_end` is slow compared to the batch time (batch time: 0.0020s vs `on_train_batch_end` time: 2.3067s). Check your callbacks.\n",
      "Average validation loss for model  5 :  0.6903858382701874\n",
      "WARNING:tensorflow:Callbacks method `on_train_batch_end` is slow compared to the batch time (batch time: 0.0019s vs `on_train_batch_end` time: 1.8341s). Check your callbacks.\n",
      "Average validation loss for model  6 :  0.7380453287363052\n",
      "WARNING:tensorflow:Callbacks method `on_train_batch_end` is slow compared to the batch time (batch time: 0.0007s vs `on_train_batch_end` time: 2.0093s). Check your callbacks.\n",
      "Average validation loss for model  7 :  1.1316582872867584\n",
      "WARNING:tensorflow:Callbacks method `on_train_batch_end` is slow compared to the batch time (batch time: 0.0010s vs `on_train_batch_end` time: 1.8944s). Check your callbacks.\n",
      "Average validation loss for model  8 :  0.5489197136163712\n",
      "WARNING:tensorflow:Callbacks method `on_train_batch_end` is slow compared to the batch time (batch time: 0.0017s vs `on_train_batch_end` time: 1.8879s). Check your callbacks.\n",
      "Average validation loss for model  9 :  0.6323059469461441\n",
      "WARNING:tensorflow:Callbacks method `on_train_batch_end` is slow compared to the batch time (batch time: 0.0010s vs `on_train_batch_end` time: 2.1136s). Check your callbacks.\n",
      "Average validation loss for model  10 :  0.6871961886882783\n",
      "WARNING:tensorflow:Callbacks method `on_train_batch_end` is slow compared to the batch time (batch time: 0.0010s vs `on_train_batch_end` time: 1.9837s). Check your callbacks.\n",
      "Average validation loss for model  11 :  0.5344650441408157\n",
      "WARNING:tensorflow:Callbacks method `on_train_batch_end` is slow compared to the batch time (batch time: 0.0010s vs `on_train_batch_end` time: 2.6532s). Check your callbacks.\n",
      "Average validation loss for model  12 :  0.7783581628799439\n",
      "WARNING:tensorflow:Callbacks method `on_train_batch_end` is slow compared to the batch time (batch time: 0.0020s vs `on_train_batch_end` time: 2.5778s). Check your callbacks.\n",
      "Average validation loss for model  13 :  2.164799843549728\n",
      "WARNING:tensorflow:Callbacks method `on_train_batch_end` is slow compared to the batch time (batch time: 0.0020s vs `on_train_batch_end` time: 2.4055s). Check your callbacks.\n",
      "Average validation loss for model  14 :  0.5384274446964263\n",
      "WARNING:tensorflow:Callbacks method `on_train_batch_end` is slow compared to the batch time (batch time: 0.0020s vs `on_train_batch_end` time: 1.3323s). Check your callbacks.\n",
      "Average validation loss for model  15 :  0.8239258939027786\n",
      "WARNING:tensorflow:Callbacks method `on_train_batch_end` is slow compared to the batch time (batch time: 0.0010s vs `on_train_batch_end` time: 1.3420s). Check your callbacks.\n",
      "Average validation loss for model  16 :  0.6875098662376404\n",
      "WARNING:tensorflow:Callbacks method `on_train_batch_end` is slow compared to the batch time (batch time: 0.0020s vs `on_train_batch_end` time: 2.7246s). Check your callbacks.\n",
      "Average validation loss for model  17 :  0.6944287192821502\n",
      "WARNING:tensorflow:Callbacks method `on_train_batch_end` is slow compared to the batch time (batch time: 0.0010s vs `on_train_batch_end` time: 3.0147s). Check your callbacks.\n",
      "Average validation loss for model  18 :  0.5381949635744094\n",
      "WARNING:tensorflow:Callbacks method `on_train_batch_end` is slow compared to the batch time (batch time: 0.0020s vs `on_train_batch_end` time: 1.4383s). Check your callbacks.\n",
      "Average validation loss for model  19 :  0.5845187560319901\n",
      "WARNING:tensorflow:Callbacks method `on_train_batch_end` is slow compared to the batch time (batch time: 0.0010s vs `on_train_batch_end` time: 3.3477s). Check your callbacks.\n",
      "Average validation loss for model  20 :  1.2570811808109283\n",
      "WARNING:tensorflow:Callbacks method `on_train_batch_end` is slow compared to the batch time (batch time: 0.0010s vs `on_train_batch_end` time: 1.6074s). Check your callbacks.\n",
      "Average validation loss for model  21 :  0.6869919601678848\n",
      "WARNING:tensorflow:Callbacks method `on_train_batch_end` is slow compared to the batch time (batch time: 0.0020s vs `on_train_batch_end` time: 2.7118s). Check your callbacks.\n",
      "Average validation loss for model  22 :  0.7552698078155518\n",
      "WARNING:tensorflow:Callbacks method `on_train_batch_end` is slow compared to the batch time (batch time: 0.0009s vs `on_train_batch_end` time: 1.5608s). Check your callbacks.\n",
      "Average validation loss for model  23 :  0.6869201563596725\n",
      "WARNING:tensorflow:Callbacks method `on_train_batch_end` is slow compared to the batch time (batch time: 0.0010s vs `on_train_batch_end` time: 1.1648s). Check your callbacks.\n",
      "Average validation loss for model  24 :  0.7091210948228837\n",
      "WARNING:tensorflow:Callbacks method `on_train_batch_end` is slow compared to the batch time (batch time: 0.0020s vs `on_train_batch_end` time: 1.4129s). Check your callbacks.\n",
      "Average validation loss for model  25 :  1.0905687959194184\n"
     ]
    }
   ],
   "source": [
    "logdir = 'logs/scalars/' + datetime.datetime.now().strftime('%Y%m%d-%H%M%S')\n",
    "tensorboard_callback = callbacks.TensorBoard(log_dir=logdir)\n",
    "\n",
    "metrics = [\n",
    "           tfk.metrics.Precision(),\n",
    "           tfk.metrics.TruePositives(),\n",
    "           tfk.metrics.TrueNegatives(),\n",
    "           tfk.metrics.FalsePositives(),\n",
    "           tfk.metrics.FalseNegatives(),\n",
    "           tfk.metrics.AUC(curve='PR')\n",
    "          ]\n",
    "\n",
    "models = random_search_models(num_models=25, input_dims=len(features), compile_metrics=metrics, seed=42)\n",
    "\n",
    "model_list = []\n",
    "\n",
    "for i, model in enumerate(models):\n",
    "\n",
    "    training_history = model.fit(\n",
    "                                 X_train,\n",
    "                                 y_train,\n",
    "                                 batch_size = 128,\n",
    "                                 verbose = 0,\n",
    "                                 epochs = 500,\n",
    "                                 validation_split = 0.2,\n",
    "                                 callbacks=[callbacks.TensorBoard(log_dir=logdir+'-'+str(i))],\n",
    "                                )\n",
    "    model_list.append((model, training_history))\n",
    "    \n",
    "    print('Average validation loss for model ', str(i+1), ': ', np.average(training_history.history['val_loss']))"
   ]
  },
  {
   "cell_type": "code",
   "execution_count": 26,
   "id": "fuzzy-substitute",
   "metadata": {
    "scrolled": false
   },
   "outputs": [
    {
     "data": {
      "text/plain": [
       "Reusing TensorBoard on port 6006 (pid 444), started 0:01:35 ago. (Use '!kill 444' to kill it.)"
      ]
     },
     "metadata": {},
     "output_type": "display_data"
    },
    {
     "data": {
      "text/html": [
       "\n",
       "      <iframe id=\"tensorboard-frame-d1f7ab620bd9dcb1\" width=\"100%\" height=\"800\" frameborder=\"0\">\n",
       "      </iframe>\n",
       "      <script>\n",
       "        (function() {\n",
       "          const frame = document.getElementById(\"tensorboard-frame-d1f7ab620bd9dcb1\");\n",
       "          const url = new URL(\"/\", window.location);\n",
       "          const port = 6006;\n",
       "          if (port) {\n",
       "            url.port = port;\n",
       "          }\n",
       "          frame.src = url;\n",
       "        })();\n",
       "      </script>\n",
       "    "
      ],
      "text/plain": [
       "<IPython.core.display.HTML object>"
      ]
     },
     "metadata": {},
     "output_type": "display_data"
    }
   ],
   "source": [
    "%tensorboard --logdir logs/scalars"
   ]
  },
  {
   "cell_type": "code",
   "execution_count": 17,
   "id": "monthly-insulation",
   "metadata": {},
   "outputs": [],
   "source": [
    "# Get five best models to evaluate on Tensorboard\n",
    "model_list_sorted = get_best_models(model_list, 'val_auc', descending=True, num_models=5)"
   ]
  },
  {
   "cell_type": "code",
   "execution_count": 34,
   "id": "regional-universal",
   "metadata": {},
   "outputs": [],
   "source": [
    "best_model = model_list_sorted[0][0]\n",
    "best_history = model_list_sorted[0][1]"
   ]
  },
  {
   "cell_type": "markdown",
   "id": "peripheral-study",
   "metadata": {},
   "source": [
    "# Evaluate model on validation set"
   ]
  },
  {
   "cell_type": "code",
   "execution_count": 35,
   "id": "conventional-flash",
   "metadata": {},
   "outputs": [
    {
     "data": {
      "text/plain": [
       "[<matplotlib.lines.Line2D at 0x1a3f9272160>]"
      ]
     },
     "execution_count": 35,
     "metadata": {},
     "output_type": "execute_result"
    },
    {
     "data": {
      "image/png": "[encoded data removed]",
      "text/plain": [
       "<Figure size 432x288 with 1 Axes>"
      ]
     },
     "metadata": {
      "needs_background": "light"
     },
     "output_type": "display_data"
    }
   ],
   "source": [
    "learning_plot(best_history, 'loss')"
   ]
  },
  {
   "cell_type": "code",
   "execution_count": 36,
   "id": "embedded-difference",
   "metadata": {},
   "outputs": [
    {
     "data": {
      "text/plain": [
       "[<matplotlib.lines.Line2D at 0x1a3f958f370>]"
      ]
     },
     "execution_count": 36,
     "metadata": {},
     "output_type": "execute_result"
    },
    {
     "data": {
      "image/png": "[encoded data removed]",
      "text/plain": [
       "<Figure size 432x288 with 1 Axes>"
      ]
     },
     "metadata": {
      "needs_background": "light"
     },
     "output_type": "display_data"
    }
   ],
   "source": [
    "learning_plot(best_history, 'auc')"
   ]
  },
  {
   "cell_type": "code",
   "execution_count": 37,
   "id": "mediterranean-viewer",
   "metadata": {},
   "outputs": [
    {
     "data": {
      "text/plain": [
       "[<matplotlib.lines.Line2D at 0x1a3f95f31f0>]"
      ]
     },
     "execution_count": 37,
     "metadata": {},
     "output_type": "execute_result"
    },
    {
     "data": {
      "image/png": "[encoded data removed]",
      "text/plain": [
       "<Figure size 432x288 with 1 Axes>"
      ]
     },
     "metadata": {
      "needs_background": "light"
     },
     "output_type": "display_data"
    }
   ],
   "source": [
    "learning_plot(best_history, 'precision')"
   ]
  },
  {
   "cell_type": "code",
   "execution_count": 38,
   "id": "separated-buyer",
   "metadata": {},
   "outputs": [
    {
     "data": {
      "text/plain": [
       "[<matplotlib.lines.Line2D at 0x1a3f9656a00>]"
      ]
     },
     "execution_count": 38,
     "metadata": {},
     "output_type": "execute_result"
    },
    {
     "data": {
      "image/png": "[encoded data removed]",
      "text/plain": [
       "<Figure size 432x288 with 1 Axes>"
      ]
     },
     "metadata": {
      "needs_background": "light"
     },
     "output_type": "display_data"
    }
   ],
   "source": [
    "learning_recall(best_history, True)"
   ]
  },
  {
   "cell_type": "code",
   "execution_count": 39,
   "id": "stunning-thanks",
   "metadata": {},
   "outputs": [
    {
     "data": {
      "text/plain": [
       "[<matplotlib.lines.Line2D at 0x1a3f96b1670>]"
      ]
     },
     "execution_count": 39,
     "metadata": {},
     "output_type": "execute_result"
    },
    {
     "data": {
      "image/png": "[encoded data removed]",
      "text/plain": [
       "<Figure size 432x288 with 1 Axes>"
      ]
     },
     "metadata": {
      "needs_background": "light"
     },
     "output_type": "display_data"
    }
   ],
   "source": [
    "learning_recall(best_history, False)"
   ]
  },
  {
   "cell_type": "code",
   "execution_count": 40,
   "id": "humanitarian-charleston",
   "metadata": {},
   "outputs": [
    {
     "name": "stdout",
     "output_type": "stream",
     "text": [
      "Loss for training set is 0.4655, while loss for validation set is 0.5318. This gives a difference of 0.0663\n"
     ]
    }
   ],
   "source": [
    "loss = best_history.history['loss'][-1]\n",
    "val_loss = best_history.history['val_loss'][-1]\n",
    "print('Loss for training set is {}, while loss for validation set is {}. This gives a difference of {}'\\\n",
    "      .format(\n",
    "              round(loss,4),\n",
    "              round(val_loss,4), \n",
    "              round(val_loss-loss, 4))\n",
    "             )"
   ]
  },
  {
   "cell_type": "code",
   "execution_count": 41,
   "id": "configured-difficulty",
   "metadata": {},
   "outputs": [
    {
     "name": "stdout",
     "output_type": "stream",
     "text": [
      "AUC for training set is 0.88, while AUC for validation set is 0.84. This gives a difference of 0.04\n"
     ]
    }
   ],
   "source": [
    "auc = best_history.history['auc'][-1]\n",
    "val_auc = best_history.history['val_auc'][-1]\n",
    "print('AUC for training set is {}, while AUC for validation set is {}. This gives a difference of {}'\\\n",
    "      .format(round(auc, 2), round(val_auc, 2), round(auc-val_auc,2)))"
   ]
  },
  {
   "cell_type": "code",
   "execution_count": 42,
   "id": "focused-williams",
   "metadata": {},
   "outputs": [
    {
     "name": "stdout",
     "output_type": "stream",
     "text": [
      "Confusion_matrix:\n",
      "       1      0\n",
      "1  198.0   58.0\n",
      "0   64.0  279.0\n"
     ]
    }
   ],
   "source": [
    "true_positives_val = best_history.history['val_true_positives'][-1]\n",
    "false_positives_val = best_history.history['val_false_positives'][-1]\n",
    "true_negatives_val = best_history.history['val_true_negatives'][-1]\n",
    "false_negatives_val = best_history.history['val_false_negatives'][-1]\n",
    "\n",
    "val_conf_matrix = get_confusion_matrix(\n",
    "                                       true_positives_val,\n",
    "                                       false_positives_val,\n",
    "                                       true_negatives_val,\n",
    "                                       false_negatives_val\n",
    "                                      )\n",
    "\n",
    "print('Confusion_matrix:\\n{}'.format(val_conf_matrix))"
   ]
  },
  {
   "cell_type": "code",
   "execution_count": 43,
   "id": "adaptive-andorra",
   "metadata": {},
   "outputs": [
    {
     "name": "stdout",
     "output_type": "stream",
     "text": [
      "True recall rate is 0.76\n",
      "Precision is 0.7734375\n"
     ]
    }
   ],
   "source": [
    "print('True recall rate is {}'\\\n",
    "      .format(round(val_conf_matrix.loc['1', '1']/(val_conf_matrix.loc['1', '1']+val_conf_matrix.loc['0', '1']),2)))\n",
    "print('Precision is {}'.format(best_history.history['val_precision'][-1]))"
   ]
  },
  {
   "cell_type": "markdown",
   "id": "persistent-harbor",
   "metadata": {},
   "source": [
    "Looks very promising on validation set! Let's check test set"
   ]
  },
  {
   "cell_type": "code",
   "execution_count": 44,
   "id": "criminal-surgeon",
   "metadata": {},
   "outputs": [
    {
     "name": "stdout",
     "output_type": "stream",
     "text": [
      "24/24 [==============================] - 0s 1ms/step - loss: 0.5367 - precision: 0.7581 - true_positives: 235.0000 - true_negatives: 362.0000 - false_positives: 75.0000 - false_negatives: 77.0000 - auc: 0.8141\n"
     ]
    }
   ],
   "source": [
    "loss_test, precision_test, true_positives_test, true_negatives_test, false_positives_test, false_negatives_test, auc_test = best_model.evaluate(X_test, y_test)"
   ]
  },
  {
   "cell_type": "code",
   "execution_count": 45,
   "id": "historic-continuity",
   "metadata": {},
   "outputs": [
    {
     "name": "stdout",
     "output_type": "stream",
     "text": [
      "AUC for test set is 0.81.\n"
     ]
    }
   ],
   "source": [
    "print('AUC for test set is {}.'.format(round(auc_test,2)))"
   ]
  },
  {
   "cell_type": "code",
   "execution_count": 46,
   "id": "chronic-crystal",
   "metadata": {},
   "outputs": [],
   "source": [
    "confusion_matrix = get_confusion_matrix(\n",
    "                                        true_positives_test,\n",
    "                                        false_positives_test,\n",
    "                                        true_negatives_test,\n",
    "                                        false_negatives_test\n",
    "                                       )"
   ]
  },
  {
   "cell_type": "code",
   "execution_count": 47,
   "id": "behavioral-emission",
   "metadata": {},
   "outputs": [
    {
     "name": "stdout",
     "output_type": "stream",
     "text": [
      "       1      0\n",
      "1  235.0   75.0\n",
      "0   77.0  362.0\n"
     ]
    }
   ],
   "source": [
    "print(confusion_matrix)"
   ]
  },
  {
   "cell_type": "code",
   "execution_count": 48,
   "id": "legal-murray",
   "metadata": {},
   "outputs": [
    {
     "name": "stdout",
     "output_type": "stream",
     "text": [
      "True recall rate is 0.75\n",
      "Precision is 0.76\n"
     ]
    }
   ],
   "source": [
    "print(\n",
    "      'True recall rate is {}'\\\n",
    "      .format(round(\n",
    "                    confusion_matrix.loc['1', '1']/\n",
    "                    (confusion_matrix.loc['1', '1']+confusion_matrix.loc['0', '1']),\n",
    "                    2\n",
    "                   )\n",
    "             )\n",
    "     )\n",
    "print('Precision is {}'.format(round(precision_test,2)))"
   ]
  },
  {
   "cell_type": "markdown",
   "id": "choice-traveler",
   "metadata": {},
   "source": [
    "# Save model"
   ]
  },
  {
   "cell_type": "code",
   "execution_count": 49,
   "id": "ahead-style",
   "metadata": {},
   "outputs": [
    {
     "name": "stdout",
     "output_type": "stream",
     "text": [
      "WARNING:tensorflow:From C:\\Users\\Alexander\\anaconda3\\envs\\playlistenv\\lib\\site-packages\\tensorflow\\python\\training\\tracking\\tracking.py:111: Model.state_updates (from tensorflow.python.keras.engine.training) is deprecated and will be removed in a future version.\n",
      "Instructions for updating:\n",
      "This property should not be used in TensorFlow 2.0, as updates are applied automatically.\n",
      "WARNING:tensorflow:From C:\\Users\\Alexander\\anaconda3\\envs\\playlistenv\\lib\\site-packages\\tensorflow\\python\\training\\tracking\\tracking.py:111: Layer.updates (from tensorflow.python.keras.engine.base_layer) is deprecated and will be removed in a future version.\n",
      "Instructions for updating:\n",
      "This property should not be used in TensorFlow 2.0, as updates are applied automatically.\n",
      "INFO:tensorflow:Assets written to: jazz_model\\assets\n"
     ]
    }
   ],
   "source": [
    "best_model.save('jazz_model')"
   ]
  }
 ],
 "metadata": {
  "kernelspec": {
   "display_name": "playlistenv",
   "language": "python",
   "name": "playlistenv"
  },
  "language_info": {
   "codemirror_mode": {
    "name": "ipython",
    "version": 3
   },
   "file_extension": ".py",
   "mimetype": "text/x-python",
   "name": "python",
   "nbconvert_exporter": "python",
   "pygments_lexer": "ipython3",
   "version": "3.8.8"
  }
 },
 "nbformat": 4,
 "nbformat_minor": 5
}
