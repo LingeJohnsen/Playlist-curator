{
 "cells": [
  {
   "cell_type": "code",
   "execution_count": 1,
   "id": "eastern-crest",
   "metadata": {},
   "outputs": [],
   "source": [
    "import pandas as pd\n",
    "import numpy as np\n",
    "from joblib import dump, load\n",
    "import time\n",
    "import datetime\n",
    "import operator\n",
    "\n",
    "from sklearn.model_selection import train_test_split\n",
    "from sklearn.pipeline import Pipeline\n",
    "from sklearn.preprocessing import StandardScaler\n",
    "from sklearn.impute import SimpleImputer\n",
    "\n",
    "import tensorflow as tf\n",
    "import tensorflow.keras as tfk\n",
    "from tensorflow.keras.models import Sequential\n",
    "from tensorflow.keras.layers import Dense\n",
    "from tensorflow.keras.optimizers import Adam\n",
    "from tensorflow.keras.regularizers import l2\n",
    "from tensorflow.keras import callbacks\n",
    "\n",
    "from matplotlib import pyplot as plt"
   ]
  },
  {
   "cell_type": "code",
   "execution_count": 2,
   "id": "saved-input",
   "metadata": {},
   "outputs": [],
   "source": [
    "%load_ext tensorboard"
   ]
  },
  {
   "cell_type": "markdown",
   "id": "celtic-monte",
   "metadata": {},
   "source": [
    "### Some useful functions"
   ]
  },
  {
   "cell_type": "code",
   "execution_count": 3,
   "id": "supported-abuse",
   "metadata": {},
   "outputs": [],
   "source": [
    "def get_confusion_matrix(true_pos, false_pos, true_neg, false_neg):\n",
    "    conf_matrix = np.array([\n",
    "                            [true_pos, false_pos],\n",
    "                            [false_neg, true_neg]\n",
    "                           ])\n",
    "    \n",
    "    return pd.DataFrame(conf_matrix, columns=['1', '0'], index=['1', '0'])"
   ]
  },
  {
   "cell_type": "code",
   "execution_count": 4,
   "id": "victorian-lingerie",
   "metadata": {},
   "outputs": [],
   "source": [
    "def learning_plot(model, metric):\n",
    "    \n",
    "    fig = plt.figure()\n",
    "    \n",
    "    fig = plt.plot(model.history[metric], color='black')\n",
    "    fig = plt.plot(model.history['val_'+metric], color='blue')\n",
    "\n",
    "    plt.title('Changes in {} over training run'.format(metric))\n",
    "    plt.xlabel('Epoch')\n",
    "    plt.ylabel(metric)\n",
    "    \n",
    "    plt.legend(['train', 'val'], loc='upper right')\n",
    "    \n",
    "    return fig"
   ]
  },
  {
   "cell_type": "code",
   "execution_count": 5,
   "id": "identical-peter",
   "metadata": {},
   "outputs": [],
   "source": [
    "def learning_recall(model, positives_flag=True):\n",
    "    \n",
    "    if positives_flag:\n",
    "        recall = [tp / (tp+fn) for tp, fn in zip(model.history['true_positives'], model.history['false_negatives'])]\n",
    "        val_recall = [tp / (tp+fn) for tp, fn in zip(model.history['val_true_positives'], model.history['val_false_negatives'])]\n",
    "        recall_type = 'positive'\n",
    "    else:\n",
    "        recall = [tn / (tn+fp) for tn, fp in zip(model.history['true_negatives'], model.history['false_positives'])]\n",
    "        val_recall = [tn / (tn+fp) for tn, fp in zip(model.history['val_true_negatives'], model.history['val_false_positives'])]\n",
    "        recall_type = 'negative'\n",
    "        \n",
    "    fig = plt.figure()\n",
    "    \n",
    "    fig = plt.plot(recall, color='black')\n",
    "    fig = plt.plot(val_recall, color='blue')\n",
    "    \n",
    "    plt.title('Changes in {} recall rate over training run.'.format(recall_type))\n",
    "    plt.xlabel('Epoch')\n",
    "    plt.ylabel('{} recall rate'.format(recall_type))\n",
    "    \n",
    "    return fig"
   ]
  },
  {
   "cell_type": "code",
   "execution_count": 6,
   "id": "recreational-genius",
   "metadata": {},
   "outputs": [],
   "source": [
    "def random_search_models(num_models, input_dims, compile_metrics, seed):\n",
    "    \n",
    "    np.random.seed(seed)\n",
    "    \n",
    "    all_models = []\n",
    "    \n",
    "    for m in range(num_models): \n",
    "        \n",
    "        num_hidden_layers = np.random.randint(1, 11)\n",
    "        all_models.append(build_model(num_hidden_layers, input_dims, compile_metrics))\n",
    "    \n",
    "    return all_models\n",
    "\n",
    "def build_layers(num_layers, input_dims):\n",
    "\n",
    "    layers = []\n",
    "    \n",
    "    for i in range(num_layers):\n",
    "        \n",
    "        num_units = np.random.randint(2, 27)\n",
    "        reg_val = 10**(-4*np.random.rand())\n",
    "        if i==0:\n",
    "            layers.append(Dense(\n",
    "                                units = num_units,\n",
    "                                input_dim = input_dims,\n",
    "                                activation = 'relu',\n",
    "                                kernel_regularizer = l2(l2=reg_val)\n",
    "                               ))\n",
    "        else:\n",
    "            layers.append(Dense(\n",
    "                                units = num_units,\n",
    "                                activation = 'relu',\n",
    "                                kernel_regularizer = l2(l2=reg_val)\n",
    "                               ))\n",
    "    reg_val = 10**(-4*np.random.rand())\n",
    "    layers.append(Dense(\n",
    "                        units = 1,\n",
    "                        activation = 'sigmoid',\n",
    "                        kernel_regularizer = l2(l2=reg_val)\n",
    "                       ))\n",
    "    return layers\n",
    "\n",
    "def build_model(num_hidden_layers, input_dims, compile_metrics):\n",
    "\n",
    "    model = Sequential()\n",
    "    \n",
    "    layers = build_layers(num_hidden_layers, input_dims)\n",
    "    for l in layers:\n",
    "        model.add(l)\n",
    "    \n",
    "    learning_rate = 10**(-4*np.random.rand())\n",
    "    model.compile(optimizer = Adam(learning_rate), loss='binary_crossentropy', metrics=[compile_metrics])\n",
    "    \n",
    "    return model"
   ]
  },
  {
   "cell_type": "code",
   "execution_count": 7,
   "id": "painted-collectible",
   "metadata": {},
   "outputs": [],
   "source": [
    "def get_best_models(model_list, metric, descending, num_models):\n",
    "    \n",
    "    m_tuples = []\n",
    "    for model, history in model_list:\n",
    "        m_tuples.append((model, history, history.history[metric][-1]))\n",
    "        \n",
    "    m_tuples.sort(key=operator.itemgetter(2), reverse=descending)\n",
    "    \n",
    "    if num_models:\n",
    "        return m_tuples[:num_models]\n",
    "    else:\n",
    "        return m_tuples"
   ]
  },
  {
   "cell_type": "markdown",
   "id": "cordless-fifty",
   "metadata": {},
   "source": [
    "### Load and prepare data"
   ]
  },
  {
   "cell_type": "code",
   "execution_count": 8,
   "id": "young-campaign",
   "metadata": {},
   "outputs": [],
   "source": [
    "df = pd.read_csv('jazz.csv', sep='|')"
   ]
  },
  {
   "cell_type": "code",
   "execution_count": 9,
   "id": "least-stress",
   "metadata": {},
   "outputs": [],
   "source": [
    "# Define features to analyze\n",
    "features = [\n",
    "            'danceability',\n",
    "            'energy',\n",
    "            'speechiness',\n",
    "            'acousticness',\n",
    "            'instrumentalness',\n",
    "            'liveness',\n",
    "            'valence',\n",
    "            'num_samples',\n",
    "            'end_of_fade_in',\n",
    "            'loudness',\n",
    "            'tempo',\n",
    "            'key',\n",
    "            'mode',\n",
    "            'bars_num',\n",
    "            'bars_duration_var',\n",
    "            'beats_duration_var',\n",
    "            'sections_num',\n",
    "            'sections_duration_mean',\n",
    "            'sections_duration_var',\n",
    "            'loudness_var',\n",
    "            'tempo_var',\n",
    "            'key_var',\n",
    "            'mode_var',\n",
    "            'segments_duration_var',\n",
    "            'segments_duration_mean',\n",
    "            'pitches_mean',\n",
    "            'pitches_var',\n",
    "            'timbre_mean',\n",
    "            'timbre_var',\n",
    "            'tatums_duration_var'\n",
    "           ]\n",
    "\n",
    "df = df[features+['label']]\n",
    "\n",
    "# Shuffle data to ungroup class rows\n",
    "df = df.sample(frac=1, random_state=12).reset_index(drop=True)"
   ]
  },
  {
   "cell_type": "code",
   "execution_count": 10,
   "id": "ready-playing",
   "metadata": {},
   "outputs": [
    {
     "data": {
      "text/plain": [
       "(1560, 31)"
      ]
     },
     "execution_count": 10,
     "metadata": {},
     "output_type": "execute_result"
    }
   ],
   "source": [
    "df[df['label']==1].shape"
   ]
  },
  {
   "cell_type": "markdown",
   "id": "heard-basement",
   "metadata": {},
   "source": [
    "Split dataset into training, validation, and test. 60/20/20 gives ~936 positive training samples, and ~312 each of positive validation and test samples. Quite small, but hopefully big enough to be meaningful."
   ]
  },
  {
   "cell_type": "code",
   "execution_count": 11,
   "id": "serious-citizen",
   "metadata": {},
   "outputs": [],
   "source": [
    "X = df[features].copy()\n",
    "Y = df['label'].copy()\n",
    "\n",
    "X_train, X_test, y_train, y_test = train_test_split(\n",
    "                                                    X,\n",
    "                                                    Y, \n",
    "                                                    stratify = Y,\n",
    "                                                    test_size = 0.2,\n",
    "                                                    random_state = 42\n",
    "                                                   )"
   ]
  },
  {
   "cell_type": "markdown",
   "id": "coastal-patch",
   "metadata": {},
   "source": [
    "# Start building model"
   ]
  },
  {
   "cell_type": "code",
   "execution_count": 12,
   "id": "thermal-parent",
   "metadata": {},
   "outputs": [
    {
     "data": {
      "text/plain": [
       "['scaler.joblib']"
      ]
     },
     "execution_count": 12,
     "metadata": {},
     "output_type": "execute_result"
    }
   ],
   "source": [
    "# First fit how to scale data for the model\n",
    "pipeline = Pipeline(steps=[('scaler', StandardScaler()), ('imputer', SimpleImputer(strategy='median'))])\n",
    "\n",
    "scale_model = pipeline.fit(X_train)\n",
    "X_train = scale_model.transform(X_train)\n",
    "X_test = scale_model.transform(X_test)\n",
    "\n",
    "# Save for later use\n",
    "dump(scale_model, 'scaler.joblib') "
   ]
  },
  {
   "cell_type": "code",
   "execution_count": 13,
   "id": "lovely-housing",
   "metadata": {},
   "outputs": [
    {
     "name": "stdout",
     "output_type": "stream",
     "text": [
      "WARNING:tensorflow:From C:\\Users\\Alexander\\anaconda3\\envs\\playlistenv\\lib\\site-packages\\tensorflow\\python\\ops\\summary_ops_v2.py:1277: stop (from tensorflow.python.eager.profiler) is deprecated and will be removed after 2020-07-01.\n",
      "Instructions for updating:\n",
      "use `tf.profiler.experimental.stop` instead.\n",
      "WARNING:tensorflow:Callbacks method `on_train_batch_end` is slow compared to the batch time (batch time: 0.0031s vs `on_train_batch_end` time: 0.1098s). Check your callbacks.\n",
      "Average validation loss for model  1 :  1.2508745682239533\n",
      "WARNING:tensorflow:Callbacks method `on_train_batch_end` is slow compared to the batch time (batch time: 0.0010s vs `on_train_batch_end` time: 1.5548s). Check your callbacks.\n",
      "Average validation loss for model  2 :  0.7753959165811539\n",
      "WARNING:tensorflow:Callbacks method `on_train_batch_end` is slow compared to the batch time (batch time: 0.0012s vs `on_train_batch_end` time: 1.9991s). Check your callbacks.\n",
      "Average validation loss for model  3 :  0.7926709327697754\n",
      "WARNING:tensorflow:Callbacks method `on_train_batch_end` is slow compared to the batch time (batch time: 0.0020s vs `on_train_batch_end` time: 2.0837s). Check your callbacks.\n",
      "Average validation loss for model  4 :  0.7098618816137314\n",
      "WARNING:tensorflow:Callbacks method `on_train_batch_end` is slow compared to the batch time (batch time: 0.0019s vs `on_train_batch_end` time: 1.7799s). Check your callbacks.\n",
      "Average validation loss for model  5 :  0.6904952417612076\n",
      "WARNING:tensorflow:Callbacks method `on_train_batch_end` is slow compared to the batch time (batch time: 0.0010s vs `on_train_batch_end` time: 1.8243s). Check your callbacks.\n",
      "Average validation loss for model  6 :  0.7491241655349732\n",
      "WARNING:tensorflow:Callbacks method `on_train_batch_end` is slow compared to the batch time (batch time: 0.0019s vs `on_train_batch_end` time: 1.9524s). Check your callbacks.\n",
      "Average validation loss for model  7 :  1.1150947971343994\n",
      "WARNING:tensorflow:Callbacks method `on_train_batch_end` is slow compared to the batch time (batch time: 0.0010s vs `on_train_batch_end` time: 1.6890s). Check your callbacks.\n",
      "Average validation loss for model  8 :  0.5481753768324852\n",
      "WARNING:tensorflow:Callbacks method `on_train_batch_end` is slow compared to the batch time (batch time: 0.0020s vs `on_train_batch_end` time: 1.2358s). Check your callbacks.\n",
      "Average validation loss for model  9 :  0.695370208978653\n",
      "WARNING:tensorflow:Callbacks method `on_train_batch_end` is slow compared to the batch time (batch time: 0.0009s vs `on_train_batch_end` time: 2.3044s). Check your callbacks.\n",
      "Average validation loss for model  10 :  0.687155349612236\n",
      "WARNING:tensorflow:Callbacks method `on_train_batch_end` is slow compared to the batch time (batch time: 0.0010s vs `on_train_batch_end` time: 2.1114s). Check your callbacks.\n",
      "Average validation loss for model  11 :  0.5356590348482132\n",
      "WARNING:tensorflow:Callbacks method `on_train_batch_end` is slow compared to the batch time (batch time: 0.0009s vs `on_train_batch_end` time: 1.2747s). Check your callbacks.\n",
      "Average validation loss for model  12 :  0.7003069986104965\n",
      "WARNING:tensorflow:Callbacks method `on_train_batch_end` is slow compared to the batch time (batch time: 0.0010s vs `on_train_batch_end` time: 1.4009s). Check your callbacks.\n",
      "Average validation loss for model  13 :  0.9633011518716812\n",
      "WARNING:tensorflow:Callbacks method `on_train_batch_end` is slow compared to the batch time (batch time: 0.0010s vs `on_train_batch_end` time: 1.2954s). Check your callbacks.\n",
      "Average validation loss for model  14 :  0.5422413829565048\n",
      "WARNING:tensorflow:Callbacks method `on_train_batch_end` is slow compared to the batch time (batch time: 0.0020s vs `on_train_batch_end` time: 1.2681s). Check your callbacks.\n",
      "Average validation loss for model  15 :  0.817962370634079\n",
      "WARNING:tensorflow:Callbacks method `on_train_batch_end` is slow compared to the batch time (batch time: 0.0009s vs `on_train_batch_end` time: 2.5610s). Check your callbacks.\n",
      "Average validation loss for model  16 :  0.6874144403934479\n",
      "WARNING:tensorflow:Callbacks method `on_train_batch_end` is slow compared to the batch time (batch time: 0.0020s vs `on_train_batch_end` time: 2.7540s). Check your callbacks.\n",
      "Average validation loss for model  17 :  0.693978764295578\n",
      "WARNING:tensorflow:Callbacks method `on_train_batch_end` is slow compared to the batch time (batch time: 0.0010s vs `on_train_batch_end` time: 1.2475s). Check your callbacks.\n",
      "Average validation loss for model  18 :  0.542782889008522\n",
      "WARNING:tensorflow:Callbacks method `on_train_batch_end` is slow compared to the batch time (batch time: 0.0018s vs `on_train_batch_end` time: 2.5197s). Check your callbacks.\n",
      "Average validation loss for model  19 :  0.5833935326337815\n",
      "WARNING:tensorflow:Callbacks method `on_train_batch_end` is slow compared to the batch time (batch time: 0.0009s vs `on_train_batch_end` time: 1.2474s). Check your callbacks.\n",
      "Average validation loss for model  20 :  1.4374932777881622\n",
      "WARNING:tensorflow:Callbacks method `on_train_batch_end` is slow compared to the batch time (batch time: 0.0010s vs `on_train_batch_end` time: 1.1436s). Check your callbacks.\n",
      "Average validation loss for model  21 :  0.5417537440657616\n",
      "WARNING:tensorflow:Callbacks method `on_train_batch_end` is slow compared to the batch time (batch time: 0.0010s vs `on_train_batch_end` time: 3.3488s). Check your callbacks.\n",
      "Average validation loss for model  22 :  0.7476134147644043\n",
      "WARNING:tensorflow:Callbacks method `on_train_batch_end` is slow compared to the batch time (batch time: 0.0010s vs `on_train_batch_end` time: 1.3991s). Check your callbacks.\n",
      "Average validation loss for model  23 :  0.6005419194698334\n",
      "WARNING:tensorflow:Callbacks method `on_train_batch_end` is slow compared to the batch time (batch time: 0.0019s vs `on_train_batch_end` time: 3.0406s). Check your callbacks.\n",
      "Average validation loss for model  24 :  0.709920744895935\n",
      "WARNING:tensorflow:Callbacks method `on_train_batch_end` is slow compared to the batch time (batch time: 0.0010s vs `on_train_batch_end` time: 1.2753s). Check your callbacks.\n",
      "Average validation loss for model  25 :  0.7828720955848694\n"
     ]
    }
   ],
   "source": [
    "logdir = 'logs/scalars/' + datetime.datetime.now().strftime('%Y%m%d-%H%M%S')\n",
    "tensorboard_callback = callbacks.TensorBoard(log_dir=logdir)\n",
    "\n",
    "metrics = [\n",
    "           tfk.metrics.Precision(),\n",
    "           tfk.metrics.TruePositives(),\n",
    "           tfk.metrics.TrueNegatives(),\n",
    "           tfk.metrics.FalsePositives(),\n",
    "           tfk.metrics.FalseNegatives(),\n",
    "           tfk.metrics.AUC(curve='PR')\n",
    "          ]\n",
    "\n",
    "models = random_search_models(num_models=25, input_dims=len(features), compile_metrics=metrics, seed=42)\n",
    "\n",
    "model_list = []\n",
    "\n",
    "for i, model in enumerate(models):\n",
    "\n",
    "    training_history = model.fit(\n",
    "                                 X_train,\n",
    "                                 y_train,\n",
    "                                 batch_size = 128,\n",
    "                                 verbose = 0,\n",
    "                                 epochs = 500,\n",
    "                                 validation_split = 0.2,\n",
    "                                 callbacks=[callbacks.TensorBoard(log_dir=logdir+'-'+str(i))],\n",
    "                                )\n",
    "    model_list.append((model, training_history))\n",
    "    \n",
    "    print('Average validation loss for model ', str(i+1), ': ', np.average(training_history.history['val_loss']))"
   ]
  },
  {
   "cell_type": "code",
   "execution_count": 14,
   "id": "foreign-stanley",
   "metadata": {
    "scrolled": false
   },
   "outputs": [
    {
     "data": {
      "text/plain": [
       "Reusing TensorBoard on port 6006 (pid 444), started 4 days, 7:14:27 ago. (Use '!kill 444' to kill it.)"
      ]
     },
     "metadata": {},
     "output_type": "display_data"
    },
    {
     "data": {
      "text/html": [
       "\n",
       "      <iframe id=\"tensorboard-frame-81988ee2fbeb081e\" width=\"100%\" height=\"800\" frameborder=\"0\">\n",
       "      </iframe>\n",
       "      <script>\n",
       "        (function() {\n",
       "          const frame = document.getElementById(\"tensorboard-frame-81988ee2fbeb081e\");\n",
       "          const url = new URL(\"/\", window.location);\n",
       "          const port = 6006;\n",
       "          if (port) {\n",
       "            url.port = port;\n",
       "          }\n",
       "          frame.src = url;\n",
       "        })();\n",
       "      </script>\n",
       "    "
      ],
      "text/plain": [
       "<IPython.core.display.HTML object>"
      ]
     },
     "metadata": {},
     "output_type": "display_data"
    }
   ],
   "source": [
    "%tensorboard --logdir logs/scalars"
   ]
  },
  {
   "cell_type": "code",
   "execution_count": 15,
   "id": "contemporary-residence",
   "metadata": {},
   "outputs": [],
   "source": [
    "# Get five best models to evaluate on Tensorboard\n",
    "model_list_sorted = get_best_models(model_list, 'val_auc', descending=True, num_models=5)"
   ]
  },
  {
   "cell_type": "code",
   "execution_count": 16,
   "id": "killing-biology",
   "metadata": {},
   "outputs": [],
   "source": [
    "best_model = model_list_sorted[0][0]\n",
    "best_history = model_list_sorted[0][1]"
   ]
  },
  {
   "cell_type": "code",
   "execution_count": 17,
   "id": "solid-found",
   "metadata": {},
   "outputs": [
    {
     "name": "stdout",
     "output_type": "stream",
     "text": [
      "Model: \"sequential\"\n",
      "_________________________________________________________________\n",
      "Layer (type)                 Output Shape              Param #   \n",
      "=================================================================\n",
      "dense (Dense)                (None, 21)                651       \n",
      "_________________________________________________________________\n",
      "dense_1 (Dense)              (None, 12)                264       \n",
      "_________________________________________________________________\n",
      "dense_2 (Dense)              (None, 22)                286       \n",
      "_________________________________________________________________\n",
      "dense_3 (Dense)              (None, 20)                460       \n",
      "_________________________________________________________________\n",
      "dense_4 (Dense)              (None, 12)                252       \n",
      "_________________________________________________________________\n",
      "dense_5 (Dense)              (None, 5)                 65        \n",
      "_________________________________________________________________\n",
      "dense_6 (Dense)              (None, 4)                 24        \n",
      "_________________________________________________________________\n",
      "dense_7 (Dense)              (None, 1)                 5         \n",
      "=================================================================\n",
      "Total params: 2,007\n",
      "Trainable params: 2,007\n",
      "Non-trainable params: 0\n",
      "_________________________________________________________________\n"
     ]
    }
   ],
   "source": [
    "best_model.summary()"
   ]
  },
  {
   "cell_type": "markdown",
   "id": "sublime-sessions",
   "metadata": {},
   "source": [
    "# Evaluate model on validation set"
   ]
  },
  {
   "cell_type": "code",
   "execution_count": 18,
   "id": "irish-survey",
   "metadata": {},
   "outputs": [
    {
     "data": {
      "text/plain": [
       "[<matplotlib.lines.Line2D at 0x23f79a9ee20>]"
      ]
     },
     "execution_count": 18,
     "metadata": {},
     "output_type": "execute_result"
    },
    {
     "data": {
      "image/png": "[encoded data removed]",
      "text/plain": [
       "<Figure size 432x288 with 1 Axes>"
      ]
     },
     "metadata": {
      "needs_background": "light"
     },
     "output_type": "display_data"
    }
   ],
   "source": [
    "learning_plot(best_history, 'loss')"
   ]
  },
  {
   "cell_type": "code",
   "execution_count": 19,
   "id": "binding-ballet",
   "metadata": {},
   "outputs": [
    {
     "data": {
      "text/plain": [
       "[<matplotlib.lines.Line2D at 0x23f79ddd280>]"
      ]
     },
     "execution_count": 19,
     "metadata": {},
     "output_type": "execute_result"
    },
    {
     "data": {
      "image/png": "[encoded data removed]",
      "text/plain": [
       "<Figure size 432x288 with 1 Axes>"
      ]
     },
     "metadata": {
      "needs_background": "light"
     },
     "output_type": "display_data"
    }
   ],
   "source": [
    "learning_plot(best_history, 'auc')"
   ]
  },
  {
   "cell_type": "code",
   "execution_count": 20,
   "id": "pregnant-clarity",
   "metadata": {},
   "outputs": [
    {
     "data": {
      "text/plain": [
       "[<matplotlib.lines.Line2D at 0x23f79dc4dc0>]"
      ]
     },
     "execution_count": 20,
     "metadata": {},
     "output_type": "execute_result"
    },
    {
     "data": {
      "image/png": "[encoded data removed]",
      "text/plain": [
       "<Figure size 432x288 with 1 Axes>"
      ]
     },
     "metadata": {
      "needs_background": "light"
     },
     "output_type": "display_data"
    }
   ],
   "source": [
    "learning_plot(best_history, 'precision')"
   ]
  },
  {
   "cell_type": "code",
   "execution_count": 21,
   "id": "bored-acoustic",
   "metadata": {},
   "outputs": [
    {
     "data": {
      "text/plain": [
       "[<matplotlib.lines.Line2D at 0x23f79f3eb20>]"
      ]
     },
     "execution_count": 21,
     "metadata": {},
     "output_type": "execute_result"
    },
    {
     "data": {
      "image/png": "[encoded data removed]",
      "text/plain": [
       "<Figure size 432x288 with 1 Axes>"
      ]
     },
     "metadata": {
      "needs_background": "light"
     },
     "output_type": "display_data"
    }
   ],
   "source": [
    "learning_recall(best_history, True)"
   ]
  },
  {
   "cell_type": "code",
   "execution_count": 22,
   "id": "opponent-sleeve",
   "metadata": {},
   "outputs": [
    {
     "data": {
      "text/plain": [
       "[<matplotlib.lines.Line2D at 0x23f79f1d370>]"
      ]
     },
     "execution_count": 22,
     "metadata": {},
     "output_type": "execute_result"
    },
    {
     "data": {
      "image/png": "[encoded data removed]",
      "text/plain": [
       "<Figure size 432x288 with 1 Axes>"
      ]
     },
     "metadata": {
      "needs_background": "light"
     },
     "output_type": "display_data"
    }
   ],
   "source": [
    "learning_recall(best_history, False)"
   ]
  },
  {
   "cell_type": "code",
   "execution_count": 23,
   "id": "quantitative-profession",
   "metadata": {},
   "outputs": [
    {
     "name": "stdout",
     "output_type": "stream",
     "text": [
      "Loss for training set is 0.5282, while loss for validation set is 0.5944. This gives a difference of 0.0662\n"
     ]
    }
   ],
   "source": [
    "loss = best_history.history['loss'][-1]\n",
    "val_loss = best_history.history['val_loss'][-1]\n",
    "print('Loss for training set is {}, while loss for validation set is {}. This gives a difference of {}'\\\n",
    "      .format(\n",
    "              round(loss,4),\n",
    "              round(val_loss,4), \n",
    "              round(val_loss-loss, 4))\n",
    "             )"
   ]
  },
  {
   "cell_type": "code",
   "execution_count": 24,
   "id": "about-action",
   "metadata": {},
   "outputs": [
    {
     "name": "stdout",
     "output_type": "stream",
     "text": [
      "AUC for training set is 0.89, while AUC for validation set is 0.84. This gives a difference of 0.05\n"
     ]
    }
   ],
   "source": [
    "auc = best_history.history['auc'][-1]\n",
    "val_auc = best_history.history['val_auc'][-1]\n",
    "print('AUC for training set is {}, while AUC for validation set is {}. This gives a difference of {}'\\\n",
    "      .format(round(auc, 2), round(val_auc, 2), round(auc-val_auc,2)))"
   ]
  },
  {
   "cell_type": "code",
   "execution_count": 25,
   "id": "modular-welsh",
   "metadata": {},
   "outputs": [
    {
     "name": "stdout",
     "output_type": "stream",
     "text": [
      "Confusion_matrix:\n",
      "       1      0\n",
      "1  212.0   66.0\n",
      "0   50.0  271.0\n"
     ]
    }
   ],
   "source": [
    "true_positives_val = best_history.history['val_true_positives'][-1]\n",
    "false_positives_val = best_history.history['val_false_positives'][-1]\n",
    "true_negatives_val = best_history.history['val_true_negatives'][-1]\n",
    "false_negatives_val = best_history.history['val_false_negatives'][-1]\n",
    "\n",
    "val_conf_matrix = get_confusion_matrix(\n",
    "                                       true_positives_val,\n",
    "                                       false_positives_val,\n",
    "                                       true_negatives_val,\n",
    "                                       false_negatives_val\n",
    "                                      )\n",
    "\n",
    "print('Confusion_matrix:\\n{}'.format(val_conf_matrix))"
   ]
  },
  {
   "cell_type": "code",
   "execution_count": 26,
   "id": "dangerous-arkansas",
   "metadata": {},
   "outputs": [
    {
     "name": "stdout",
     "output_type": "stream",
     "text": [
      "True recall rate is 0.81\n",
      "Precision is 0.7625899314880371\n"
     ]
    }
   ],
   "source": [
    "print('True recall rate is {}'\\\n",
    "      .format(round(val_conf_matrix.loc['1', '1']/(val_conf_matrix.loc['1', '1']+val_conf_matrix.loc['0', '1']),2)))\n",
    "print('Precision is {}'.format(best_history.history['val_precision'][-1]))"
   ]
  },
  {
   "cell_type": "markdown",
   "id": "thousand-indie",
   "metadata": {},
   "source": [
    "Looks very promising on validation set! Let's check test set"
   ]
  },
  {
   "cell_type": "code",
   "execution_count": 27,
   "id": "trained-employer",
   "metadata": {},
   "outputs": [
    {
     "name": "stdout",
     "output_type": "stream",
     "text": [
      "24/24 [==============================] - 0s 949us/step - loss: 0.5984 - precision: 0.7477 - true_positives: 246.0000 - true_negatives: 354.0000 - false_positives: 83.0000 - false_negatives: 66.0000 - auc: 0.8285\n"
     ]
    }
   ],
   "source": [
    "loss_test, precision_test, true_positives_test, true_negatives_test, false_positives_test, false_negatives_test, auc_test = best_model.evaluate(X_test, y_test)"
   ]
  },
  {
   "cell_type": "code",
   "execution_count": 28,
   "id": "detailed-glenn",
   "metadata": {},
   "outputs": [
    {
     "name": "stdout",
     "output_type": "stream",
     "text": [
      "AUC for test set is 0.83.\n"
     ]
    }
   ],
   "source": [
    "print('AUC for test set is {}.'.format(round(auc_test,2)))"
   ]
  },
  {
   "cell_type": "code",
   "execution_count": 29,
   "id": "acoustic-stockholm",
   "metadata": {},
   "outputs": [],
   "source": [
    "confusion_matrix = get_confusion_matrix(\n",
    "                                        true_positives_test,\n",
    "                                        false_positives_test,\n",
    "                                        true_negatives_test,\n",
    "                                        false_negatives_test\n",
    "                                       )"
   ]
  },
  {
   "cell_type": "code",
   "execution_count": 30,
   "id": "front-contract",
   "metadata": {},
   "outputs": [
    {
     "name": "stdout",
     "output_type": "stream",
     "text": [
      "       1      0\n",
      "1  246.0   83.0\n",
      "0   66.0  354.0\n"
     ]
    }
   ],
   "source": [
    "print(confusion_matrix)"
   ]
  },
  {
   "cell_type": "code",
   "execution_count": 31,
   "id": "boring-sailing",
   "metadata": {},
   "outputs": [
    {
     "name": "stdout",
     "output_type": "stream",
     "text": [
      "True recall rate is 0.79\n",
      "Precision is 0.75\n"
     ]
    }
   ],
   "source": [
    "print(\n",
    "      'True recall rate is {}'\\\n",
    "      .format(round(\n",
    "                    confusion_matrix.loc['1', '1']/\n",
    "                    (confusion_matrix.loc['1', '1']+confusion_matrix.loc['0', '1']),\n",
    "                    2\n",
    "                   )\n",
    "             )\n",
    "     )\n",
    "print('Precision is {}'.format(round(precision_test,2)))"
   ]
  },
  {
   "cell_type": "code",
   "execution_count": 83,
   "id": "naval-airplane",
   "metadata": {},
   "outputs": [
    {
     "data": {
      "text/plain": [
       "<matplotlib.legend.Legend at 0x23f7ca0f160>"
      ]
     },
     "execution_count": 83,
     "metadata": {},
     "output_type": "execute_result"
    },
    {
     "data": {
      "image/png": "[encoded data removed]",
      "text/plain": [
       "<Figure size 432x288 with 1 Axes>"
      ]
     },
     "metadata": {
      "needs_background": "light"
     },
     "output_type": "display_data"
    }
   ],
   "source": [
    "from sklearn import metrics\n",
    "from sklearn.utils.class_weight import compute_sample_weight\n",
    "\n",
    "# sample_weights = compute_sample_weight(class_weight='balanced', y=y_test)\n",
    "random_pr = y_test.value_counts().iloc[1] / len(y_test)\n",
    "\n",
    "predictions = best_model.predict(X_test)\n",
    "precision, recall, thresholds = metrics.precision_recall_curve(y_test, predictions)\n",
    "pr_auc = metrics.auc(recall, precision)\n",
    "\n",
    "plt.figure()\n",
    "lw = 2\n",
    "plt.plot(\n",
    "         recall, \n",
    "         precision, \n",
    "         color = 'darkorange',\n",
    "         lw = lw, \n",
    "         label = 'Precision-recall curve (area = {})'.format(round(pr_auc,2))\n",
    "        )\n",
    "plt.plot([0, 1], [random_pr, random_pr], color='navy', lw=lw, linestyle='--', label='Random guess performance')\n",
    "plt.xlim([0.0, 1.0])\n",
    "plt.ylim([0.0, 1.05])\n",
    "plt.xlabel('Recall Rate')\n",
    "plt.ylabel('Precision')\n",
    "plt.title('Precision-recall')\n",
    "plt.legend(loc = 'lower right')"
   ]
  },
  {
   "cell_type": "markdown",
   "id": "plastic-issue",
   "metadata": {},
   "source": [
    "# Save model"
   ]
  },
  {
   "cell_type": "code",
   "execution_count": 32,
   "id": "interim-junction",
   "metadata": {},
   "outputs": [],
   "source": [
    "best_model.save('jazz_model')"
   ]
  }
 ],
 "metadata": {
  "kernelspec": {
   "display_name": "playlistenv",
   "language": "python",
   "name": "playlistenv"
  },
  "language_info": {
   "codemirror_mode": {
    "name": "ipython",
    "version": 3
   },
   "file_extension": ".py",
   "mimetype": "text/x-python",
   "name": "python",
   "nbconvert_exporter": "python",
   "pygments_lexer": "ipython3",
   "version": "3.8.8"
  }
 },
 "nbformat": 4,
 "nbformat_minor": 5
}
