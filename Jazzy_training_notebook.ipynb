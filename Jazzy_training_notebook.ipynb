{
 "cells": [
  {
   "cell_type": "code",
   "execution_count": 1,
   "id": "divided-outside",
   "metadata": {},
   "outputs": [],
   "source": [
    "import pandas as pd\n",
    "import numpy as np\n",
    "from joblib import dump, load\n",
    "import time\n",
    "import datetime\n",
    "import operator\n",
    "\n",
    "from sklearn.model_selection import train_test_split\n",
    "from sklearn.pipeline import Pipeline\n",
    "from sklearn.preprocessing import StandardScaler\n",
    "from sklearn.impute import SimpleImputer\n",
    "\n",
    "import tensorflow as tf\n",
    "import tensorflow.keras as tfk\n",
    "from tensorflow.keras.models import Sequential\n",
    "from tensorflow.keras.layers import Dense\n",
    "from tensorflow.keras.optimizers import Adam\n",
    "from tensorflow.keras.regularizers import l2\n",
    "from tensorflow.keras import callbacks\n",
    "\n",
    "from matplotlib import pyplot as plt"
   ]
  },
  {
   "cell_type": "code",
   "execution_count": 2,
   "id": "characteristic-strap",
   "metadata": {},
   "outputs": [],
   "source": [
    "%load_ext tensorboard"
   ]
  },
  {
   "cell_type": "markdown",
   "id": "damaged-burton",
   "metadata": {},
   "source": [
    "### Some useful functions"
   ]
  },
  {
   "cell_type": "code",
   "execution_count": 3,
   "id": "brazilian-glass",
   "metadata": {},
   "outputs": [],
   "source": [
    "def get_confusion_matrix(true_pos, false_pos, true_neg, false_neg):\n",
    "    conf_matrix = np.array([\n",
    "                            [true_pos, false_pos],\n",
    "                            [false_neg, true_neg]\n",
    "                           ])\n",
    "    \n",
    "    return pd.DataFrame(conf_matrix, columns=['1', '0'], index=['1', '0'])"
   ]
  },
  {
   "cell_type": "code",
   "execution_count": 4,
   "id": "central-parent",
   "metadata": {},
   "outputs": [],
   "source": [
    "def learning_plot(model, metric):\n",
    "    \n",
    "    fig = plt.figure()\n",
    "    \n",
    "    fig = plt.plot(model.history[metric], color='black')\n",
    "    fig = plt.plot(model.history['val_'+metric], color='blue')\n",
    "\n",
    "    plt.title('Changes in {} over training run'.format(metric))\n",
    "    plt.xlabel('Epoch')\n",
    "    plt.ylabel(metric)\n",
    "    \n",
    "    plt.legend(['train', 'val'], loc='upper right')\n",
    "    \n",
    "    return fig"
   ]
  },
  {
   "cell_type": "code",
   "execution_count": 5,
   "id": "recent-court",
   "metadata": {},
   "outputs": [],
   "source": [
    "def learning_recall(model, positives_flag=True):\n",
    "    \n",
    "    if positives_flag:\n",
    "        recall = [tp / (tp+fn) for tp, fn in zip(model.history['true_positives'], model.history['false_negatives'])]\n",
    "        val_recall = [tp / (tp+fn) for tp, fn in zip(model.history['val_true_positives'], model.history['val_false_negatives'])]\n",
    "        recall_type = 'positive'\n",
    "    else:\n",
    "        recall = [tn / (tn+fp) for tn, fp in zip(model.history['true_negatives'], model.history['false_positives'])]\n",
    "        val_recall = [tn / (tn+fp) for tn, fp in zip(model.history['val_true_negatives'], model.history['val_false_positives'])]\n",
    "        recall_type = 'negative'\n",
    "        \n",
    "    fig = plt.figure()\n",
    "    \n",
    "    fig = plt.plot(recall, color='black')\n",
    "    fig = plt.plot(val_recall, color='blue')\n",
    "    \n",
    "    plt.title('Changes in {} recall rate over training run.'.format(recall_type))\n",
    "    plt.xlabel('Epoch')\n",
    "    plt.ylabel('{} recall rate'.format(recall_type))\n",
    "    \n",
    "    return fig"
   ]
  },
  {
   "cell_type": "code",
   "execution_count": 6,
   "id": "prompt-glasgow",
   "metadata": {},
   "outputs": [],
   "source": [
    "def random_search_models(num_models, input_dims, compile_metrics, seed):\n",
    "    \n",
    "    np.random.seed(seed)\n",
    "    \n",
    "    all_models = []\n",
    "    \n",
    "    for m in range(num_models): \n",
    "        \n",
    "        num_hidden_layers = np.random.randint(1, 11)\n",
    "        all_models.append(build_model(num_hidden_layers, input_dims, compile_metrics))\n",
    "    \n",
    "    return all_models\n",
    "\n",
    "def build_layers(num_layers, input_dims):\n",
    "\n",
    "    layers = []\n",
    "    \n",
    "    for i in range(num_layers):\n",
    "        \n",
    "        num_units = np.random.randint(2, 27)\n",
    "        reg_val = 10**(-4*np.random.rand())\n",
    "        if i==0:\n",
    "            layers.append(Dense(\n",
    "                                units = num_units,\n",
    "                                input_dim = input_dims,\n",
    "                                activation = 'relu',\n",
    "                                kernel_regularizer = l2(l2=reg_val)\n",
    "                               ))\n",
    "        else:\n",
    "            layers.append(Dense(\n",
    "                                units = num_units,\n",
    "                                activation = 'relu',\n",
    "                                kernel_regularizer = l2(l2=reg_val)\n",
    "                               ))\n",
    "    reg_val = 10**(-4*np.random.rand())\n",
    "    layers.append(Dense(\n",
    "                        units = 1,\n",
    "                        activation = 'sigmoid',\n",
    "                        kernel_regularizer = l2(l2=reg_val)\n",
    "                       ))\n",
    "    return layers\n",
    "\n",
    "def build_model(num_hidden_layers, input_dims, compile_metrics):\n",
    "\n",
    "    model = Sequential()\n",
    "    \n",
    "    layers = build_layers(num_hidden_layers, input_dims)\n",
    "    for l in layers:\n",
    "        model.add(l)\n",
    "    \n",
    "    learning_rate = 10**(-4*np.random.rand())\n",
    "    model.compile(optimizer = Adam(learning_rate), loss='binary_crossentropy', metrics=[compile_metrics])\n",
    "    \n",
    "    return model"
   ]
  },
  {
   "cell_type": "code",
   "execution_count": 7,
   "id": "configured-excuse",
   "metadata": {},
   "outputs": [],
   "source": [
    "def get_best_models(model_list, metric, descending, num_models):\n",
    "    \n",
    "    m_tuples = []\n",
    "    for model, history, num in model_list:\n",
    "        m_tuples.append((model, history, history.history[metric][-1], num))\n",
    "        \n",
    "    m_tuples.sort(key=operator.itemgetter(2), reverse=descending)\n",
    "    \n",
    "    if num_models:\n",
    "        return m_tuples[:num_models]\n",
    "    else:\n",
    "        return m_tuples"
   ]
  },
  {
   "cell_type": "markdown",
   "id": "prostate-package",
   "metadata": {},
   "source": [
    "### Load and prepare data"
   ]
  },
  {
   "cell_type": "code",
   "execution_count": 8,
   "id": "based-paint",
   "metadata": {},
   "outputs": [],
   "source": [
    "df = pd.read_csv('jazz.csv', sep='|')"
   ]
  },
  {
   "cell_type": "code",
   "execution_count": 9,
   "id": "passing-apparatus",
   "metadata": {},
   "outputs": [],
   "source": [
    "# Define features to analyze\n",
    "features = [\n",
    "            'danceability',\n",
    "            'energy',\n",
    "            'speechiness',\n",
    "            'acousticness',\n",
    "            'instrumentalness',\n",
    "            'liveness',\n",
    "            'valence',\n",
    "            'num_samples',\n",
    "            'end_of_fade_in',\n",
    "            'loudness',\n",
    "            'tempo',\n",
    "            'key',\n",
    "            'mode',\n",
    "            'bars_num',\n",
    "            'bars_duration_var',\n",
    "            'beats_duration_var',\n",
    "            'sections_num',\n",
    "            'sections_duration_mean',\n",
    "            'sections_duration_var',\n",
    "            'loudness_var',\n",
    "            'tempo_var',\n",
    "            'key_var',\n",
    "            'mode_var',\n",
    "            'segments_duration_var',\n",
    "            'segments_duration_mean',\n",
    "            'pitches_mean',\n",
    "            'pitches_var',\n",
    "            'timbre_mean',\n",
    "            'timbre_var',\n",
    "            'tatums_duration_var'\n",
    "           ]\n",
    "\n",
    "df = df[features+['label']]\n",
    "\n",
    "# Shuffle data to ungroup class rows\n",
    "df = df.sample(frac=1, random_state=12).reset_index(drop=True)"
   ]
  },
  {
   "cell_type": "code",
   "execution_count": 10,
   "id": "golden-young",
   "metadata": {},
   "outputs": [
    {
     "data": {
      "text/plain": [
       "(1721, 31)"
      ]
     },
     "execution_count": 10,
     "metadata": {},
     "output_type": "execute_result"
    }
   ],
   "source": [
    "df[df['label']==1].shape"
   ]
  },
  {
   "cell_type": "markdown",
   "id": "smooth-blank",
   "metadata": {},
   "source": [
    "Split dataset into training, validation, and test. 60/20/20 gives ~936 positive training samples, and ~312 each of positive validation and test samples. Quite small, but hopefully big enough to be meaningful."
   ]
  },
  {
   "cell_type": "code",
   "execution_count": 11,
   "id": "brown-lodging",
   "metadata": {},
   "outputs": [],
   "source": [
    "X = df[features].copy()\n",
    "Y = df['label'].copy()\n",
    "\n",
    "X_train, X_test, y_train, y_test = train_test_split(\n",
    "                                                    X,\n",
    "                                                    Y, \n",
    "                                                    stratify = Y,\n",
    "                                                    test_size = 0.2,\n",
    "                                                    random_state = 42\n",
    "                                                   )"
   ]
  },
  {
   "cell_type": "markdown",
   "id": "anticipated-album",
   "metadata": {},
   "source": [
    "# Start building model"
   ]
  },
  {
   "cell_type": "code",
   "execution_count": 12,
   "id": "european-postage",
   "metadata": {},
   "outputs": [
    {
     "data": {
      "text/plain": [
       "['scaler.joblib']"
      ]
     },
     "execution_count": 12,
     "metadata": {},
     "output_type": "execute_result"
    }
   ],
   "source": [
    "# First fit how to scale data for the model\n",
    "pipeline = Pipeline(steps=[('scaler', StandardScaler()), ('imputer', SimpleImputer(strategy='median'))])\n",
    "\n",
    "scale_model = pipeline.fit(X_train)\n",
    "X_train = scale_model.transform(X_train)\n",
    "X_test = scale_model.transform(X_test)\n",
    "\n",
    "# Save for later use\n",
    "dump(scale_model, 'scaler.joblib') "
   ]
  },
  {
   "cell_type": "code",
   "execution_count": 13,
   "id": "ranging-sierra",
   "metadata": {},
   "outputs": [
    {
     "name": "stdout",
     "output_type": "stream",
     "text": [
      "WARNING:tensorflow:From C:\\Users\\Alexander\\anaconda3\\envs\\playlistenv\\lib\\site-packages\\tensorflow\\python\\ops\\summary_ops_v2.py:1277: stop (from tensorflow.python.eager.profiler) is deprecated and will be removed after 2020-07-01.\n",
      "Instructions for updating:\n",
      "use `tf.profiler.experimental.stop` instead.\n",
      "WARNING:tensorflow:Callbacks method `on_train_batch_end` is slow compared to the batch time (batch time: 0.0041s vs `on_train_batch_end` time: 0.0473s). Check your callbacks.\n",
      "Average validation loss for model  1 :  1.124036872267723\n",
      "WARNING:tensorflow:Callbacks method `on_train_batch_end` is slow compared to the batch time (batch time: 0.0010s vs `on_train_batch_end` time: 1.8600s). Check your callbacks.\n",
      "Average validation loss for model  2 :  0.7609253369569778\n",
      "WARNING:tensorflow:Callbacks method `on_train_batch_end` is slow compared to the batch time (batch time: 0.0020s vs `on_train_batch_end` time: 1.5494s). Check your callbacks.\n",
      "Average validation loss for model  3 :  0.7664983897209168\n",
      "WARNING:tensorflow:Callbacks method `on_train_batch_end` is slow compared to the batch time (batch time: 0.0020s vs `on_train_batch_end` time: 1.7360s). Check your callbacks.\n",
      "Average validation loss for model  4 :  0.70808742415905\n",
      "WARNING:tensorflow:Callbacks method `on_train_batch_end` is slow compared to the batch time (batch time: 0.0019s vs `on_train_batch_end` time: 1.6723s). Check your callbacks.\n",
      "Average validation loss for model  5 :  0.6881255884170532\n",
      "WARNING:tensorflow:Callbacks method `on_train_batch_end` is slow compared to the batch time (batch time: 0.0010s vs `on_train_batch_end` time: 1.7919s). Check your callbacks.\n",
      "Average validation loss for model  6 :  0.7400014350414276\n",
      "WARNING:tensorflow:Callbacks method `on_train_batch_end` is slow compared to the batch time (batch time: 0.0020s vs `on_train_batch_end` time: 1.8874s). Check your callbacks.\n",
      "Average validation loss for model  7 :  1.0358307704925538\n",
      "WARNING:tensorflow:Callbacks method `on_train_batch_end` is slow compared to the batch time (batch time: 0.0010s vs `on_train_batch_end` time: 1.7062s). Check your callbacks.\n",
      "Average validation loss for model  8 :  0.5735314404964447\n",
      "WARNING:tensorflow:Callbacks method `on_train_batch_end` is slow compared to the batch time (batch time: 0.0009s vs `on_train_batch_end` time: 1.1500s). Check your callbacks.\n",
      "Average validation loss for model  9 :  0.6907352994680405\n",
      "WARNING:tensorflow:Callbacks method `on_train_batch_end` is slow compared to the batch time (batch time: 0.0020s vs `on_train_batch_end` time: 2.0745s). Check your callbacks.\n",
      "Average validation loss for model  10 :  0.6847808077335358\n",
      "WARNING:tensorflow:Callbacks method `on_train_batch_end` is slow compared to the batch time (batch time: 0.0010s vs `on_train_batch_end` time: 1.0954s). Check your callbacks.\n",
      "Average validation loss for model  11 :  0.5606261806488038\n",
      "WARNING:tensorflow:Callbacks method `on_train_batch_end` is slow compared to the batch time (batch time: 0.0020s vs `on_train_batch_end` time: 1.1804s). Check your callbacks.\n",
      "Average validation loss for model  12 :  0.6831410040855408\n",
      "WARNING:tensorflow:Callbacks method `on_train_batch_end` is slow compared to the batch time (batch time: 0.0019s vs `on_train_batch_end` time: 1.2687s). Check your callbacks.\n",
      "Average validation loss for model  13 :  1.8150993337631225\n",
      "WARNING:tensorflow:Callbacks method `on_train_batch_end` is slow compared to the batch time (batch time: 0.0010s vs `on_train_batch_end` time: 2.2241s). Check your callbacks.\n",
      "Average validation loss for model  14 :  0.5665211938619613\n",
      "WARNING:tensorflow:Callbacks method `on_train_batch_end` is slow compared to the batch time (batch time: 0.0009s vs `on_train_batch_end` time: 2.4147s). Check your callbacks.\n",
      "Average validation loss for model  15 :  0.7971996840238571\n",
      "WARNING:tensorflow:Callbacks method `on_train_batch_end` is slow compared to the batch time (batch time: 0.0020s vs `on_train_batch_end` time: 1.4645s). Check your callbacks.\n",
      "Average validation loss for model  16 :  0.5698051470518112\n",
      "WARNING:tensorflow:Callbacks method `on_train_batch_end` is slow compared to the batch time (batch time: 0.0010s vs `on_train_batch_end` time: 2.0535s). Check your callbacks.\n",
      "Average validation loss for model  17 :  0.6914690653085709\n",
      "WARNING:tensorflow:Callbacks method `on_train_batch_end` is slow compared to the batch time (batch time: 0.0010s vs `on_train_batch_end` time: 1.1171s). Check your callbacks.\n",
      "Average validation loss for model  18 :  0.5470986726284027\n",
      "WARNING:tensorflow:Callbacks method `on_train_batch_end` is slow compared to the batch time (batch time: 0.0010s vs `on_train_batch_end` time: 1.0426s). Check your callbacks.\n",
      "Average validation loss for model  19 :  0.6094401693344116\n",
      "WARNING:tensorflow:Callbacks method `on_train_batch_end` is slow compared to the batch time (batch time: 0.0010s vs `on_train_batch_end` time: 1.0586s). Check your callbacks.\n",
      "Average validation loss for model  20 :  1.2959908423423767\n",
      "WARNING:tensorflow:Callbacks method `on_train_batch_end` is slow compared to the batch time (batch time: 0.0019s vs `on_train_batch_end` time: 2.6404s). Check your callbacks.\n",
      "Average validation loss for model  21 :  0.5758492881059647\n",
      "WARNING:tensorflow:Callbacks method `on_train_batch_end` is slow compared to the batch time (batch time: 0.0010s vs `on_train_batch_end` time: 1.2353s). Check your callbacks.\n",
      "Average validation loss for model  22 :  0.6357515668869018\n",
      "WARNING:tensorflow:Callbacks method `on_train_batch_end` is slow compared to the batch time (batch time: 0.0019s vs `on_train_batch_end` time: 1.3063s). Check your callbacks.\n",
      "Average validation loss for model  23 :  0.6845184792280197\n",
      "WARNING:tensorflow:Callbacks method `on_train_batch_end` is slow compared to the batch time (batch time: 0.0009s vs `on_train_batch_end` time: 2.7970s). Check your callbacks.\n",
      "Average validation loss for model  24 :  0.7072439577579498\n",
      "WARNING:tensorflow:Callbacks method `on_train_batch_end` is slow compared to the batch time (batch time: 0.0018s vs `on_train_batch_end` time: 1.1760s). Check your callbacks.\n",
      "Average validation loss for model  25 :  0.7305501685142517\n",
      "WARNING:tensorflow:Callbacks method `on_train_batch_end` is slow compared to the batch time (batch time: 0.0010s vs `on_train_batch_end` time: 1.2527s). Check your callbacks.\n",
      "Average validation loss for model  26 :  0.5439197084903717\n",
      "WARNING:tensorflow:Callbacks method `on_train_batch_end` is slow compared to the batch time (batch time: 0.0020s vs `on_train_batch_end` time: 3.1257s). Check your callbacks.\n",
      "Average validation loss for model  27 :  0.687009399175644\n",
      "WARNING:tensorflow:Callbacks method `on_train_batch_end` is slow compared to the batch time (batch time: 0.0010s vs `on_train_batch_end` time: 1.1998s). Check your callbacks.\n",
      "Average validation loss for model  28 :  0.8047902895212173\n",
      "WARNING:tensorflow:Callbacks method `on_train_batch_end` is slow compared to the batch time (batch time: 0.0020s vs `on_train_batch_end` time: 1.2956s). Check your callbacks.\n",
      "Average validation loss for model  29 :  1.6305345437526704\n",
      "WARNING:tensorflow:Callbacks method `on_train_batch_end` is slow compared to the batch time (batch time: 0.0019s vs `on_train_batch_end` time: 3.6818s). Check your callbacks.\n",
      "Average validation loss for model  30 :  0.7946264494657517\n",
      "WARNING:tensorflow:Callbacks method `on_train_batch_end` is slow compared to the batch time (batch time: 0.0020s vs `on_train_batch_end` time: 2.4694s). Check your callbacks.\n",
      "Average validation loss for model  31 :  0.5429190170764923\n",
      "WARNING:tensorflow:Callbacks method `on_train_batch_end` is slow compared to the batch time (batch time: 0.0010s vs `on_train_batch_end` time: 3.3783s). Check your callbacks.\n",
      "Average validation loss for model  32 :  0.5358004286289215\n",
      "WARNING:tensorflow:Callbacks method `on_train_batch_end` is slow compared to the batch time (batch time: 0.0030s vs `on_train_batch_end` time: 1.3328s). Check your callbacks.\n",
      "Average validation loss for model  33 :  0.6894490056037903\n",
      "WARNING:tensorflow:Callbacks method `on_train_batch_end` is slow compared to the batch time (batch time: 0.0010s vs `on_train_batch_end` time: 3.7958s). Check your callbacks.\n"
     ]
    },
    {
     "name": "stdout",
     "output_type": "stream",
     "text": [
      "Average validation loss for model  34 :  1.4182272914648055\n",
      "WARNING:tensorflow:Callbacks method `on_train_batch_end` is slow compared to the batch time (batch time: 0.0009s vs `on_train_batch_end` time: 1.1834s). Check your callbacks.\n",
      "Average validation loss for model  35 :  0.6452791116237641\n",
      "WARNING:tensorflow:Callbacks method `on_train_batch_end` is slow compared to the batch time (batch time: 0.0010s vs `on_train_batch_end` time: 3.9464s). Check your callbacks.\n",
      "Average validation loss for model  36 :  0.6854810956716537\n",
      "WARNING:tensorflow:Callbacks method `on_train_batch_end` is slow compared to the batch time (batch time: 0.0030s vs `on_train_batch_end` time: 1.4202s). Check your callbacks.\n",
      "Average validation loss for model  37 :  0.6867051485776902\n",
      "WARNING:tensorflow:Callbacks method `on_train_batch_end` is slow compared to the batch time (batch time: 0.0010s vs `on_train_batch_end` time: 3.8706s). Check your callbacks.\n",
      "Average validation loss for model  38 :  0.6350693125724792\n",
      "WARNING:tensorflow:Callbacks method `on_train_batch_end` is slow compared to the batch time (batch time: 0.0020s vs `on_train_batch_end` time: 1.4972s). Check your callbacks.\n",
      "Average validation loss for model  39 :  0.6860926738977432\n",
      "WARNING:tensorflow:Callbacks method `on_train_batch_end` is slow compared to the batch time (batch time: 0.0010s vs `on_train_batch_end` time: 1.1758s). Check your callbacks.\n",
      "Average validation loss for model  40 :  0.5296123512983322\n",
      "WARNING:tensorflow:Callbacks method `on_train_batch_end` is slow compared to the batch time (batch time: 0.0010s vs `on_train_batch_end` time: 1.3327s). Check your callbacks.\n",
      "Average validation loss for model  41 :  1.1539670872688292\n",
      "WARNING:tensorflow:Callbacks method `on_train_batch_end` is slow compared to the batch time (batch time: 0.0009s vs `on_train_batch_end` time: 1.2679s). Check your callbacks.\n",
      "Average validation loss for model  42 :  0.6072239221334458\n",
      "WARNING:tensorflow:Callbacks method `on_train_batch_end` is slow compared to the batch time (batch time: 0.0017s vs `on_train_batch_end` time: 1.1698s). Check your callbacks.\n",
      "Average validation loss for model  43 :  0.921707515001297\n",
      "WARNING:tensorflow:Callbacks method `on_train_batch_end` is slow compared to the batch time (batch time: 0.0010s vs `on_train_batch_end` time: 1.1522s). Check your callbacks.\n",
      "Average validation loss for model  44 :  0.7074416884183884\n",
      "WARNING:tensorflow:Callbacks method `on_train_batch_end` is slow compared to the batch time (batch time: 0.0010s vs `on_train_batch_end` time: 1.2537s). Check your callbacks.\n",
      "Average validation loss for model  45 :  0.7050622330904007\n",
      "WARNING:tensorflow:Callbacks method `on_train_batch_end` is slow compared to the batch time (batch time: 0.0020s vs `on_train_batch_end` time: 1.2322s). Check your callbacks.\n",
      "Average validation loss for model  46 :  0.6850864299535752\n",
      "WARNING:tensorflow:Callbacks method `on_train_batch_end` is slow compared to the batch time (batch time: 0.0010s vs `on_train_batch_end` time: 1.0731s). Check your callbacks.\n",
      "Average validation loss for model  47 :  0.5617622081041336\n",
      "WARNING:tensorflow:Callbacks method `on_train_batch_end` is slow compared to the batch time (batch time: 0.0020s vs `on_train_batch_end` time: 4.8689s). Check your callbacks.\n",
      "Average validation loss for model  48 :  0.56476866543293\n",
      "WARNING:tensorflow:Callbacks method `on_train_batch_end` is slow compared to the batch time (batch time: 0.0019s vs `on_train_batch_end` time: 1.1556s). Check your callbacks.\n",
      "Average validation loss for model  49 :  0.5213975442051888\n",
      "WARNING:tensorflow:Callbacks method `on_train_batch_end` is slow compared to the batch time (batch time: 0.0010s vs `on_train_batch_end` time: 1.3612s). Check your callbacks.\n",
      "Average validation loss for model  50 :  0.5934495648145676\n",
      "WARNING:tensorflow:Callbacks method `on_train_batch_end` is slow compared to the batch time (batch time: 0.0020s vs `on_train_batch_end` time: 5.1784s). Check your callbacks.\n",
      "Average validation loss for model  51 :  0.6852907301187515\n",
      "WARNING:tensorflow:Callbacks method `on_train_batch_end` is slow compared to the batch time (batch time: 0.0010s vs `on_train_batch_end` time: 1.4417s). Check your callbacks.\n",
      "Average validation loss for model  52 :  0.6898756207227706\n",
      "WARNING:tensorflow:Callbacks method `on_train_batch_end` is slow compared to the batch time (batch time: 0.0020s vs `on_train_batch_end` time: 1.4126s). Check your callbacks.\n",
      "Average validation loss for model  53 :  0.6860844286680221\n",
      "WARNING:tensorflow:Callbacks method `on_train_batch_end` is slow compared to the batch time (batch time: 0.0010s vs `on_train_batch_end` time: 5.5906s). Check your callbacks.\n",
      "Average validation loss for model  54 :  0.7719840553998947\n",
      "WARNING:tensorflow:Callbacks method `on_train_batch_end` is slow compared to the batch time (batch time: 0.0020s vs `on_train_batch_end` time: 1.7972s). Check your callbacks.\n",
      "Average validation loss for model  55 :  0.6972896633148193\n",
      "WARNING:tensorflow:Callbacks method `on_train_batch_end` is slow compared to the batch time (batch time: 0.0019s vs `on_train_batch_end` time: 1.4120s). Check your callbacks.\n",
      "Average validation loss for model  56 :  0.6857582249641418\n",
      "WARNING:tensorflow:Callbacks method `on_train_batch_end` is slow compared to the batch time (batch time: 0.0020s vs `on_train_batch_end` time: 5.5186s). Check your callbacks.\n",
      "Average validation loss for model  57 :  0.6926283586025238\n",
      "WARNING:tensorflow:Callbacks method `on_train_batch_end` is slow compared to the batch time (batch time: 0.0010s vs `on_train_batch_end` time: 1.2868s). Check your callbacks.\n",
      "Average validation loss for model  58 :  0.6393801562786102\n",
      "WARNING:tensorflow:Callbacks method `on_train_batch_end` is slow compared to the batch time (batch time: 0.0015s vs `on_train_batch_end` time: 1.2862s). Check your callbacks.\n",
      "Average validation loss for model  59 :  0.6914178636074066\n",
      "WARNING:tensorflow:Callbacks method `on_train_batch_end` is slow compared to the batch time (batch time: 0.0010s vs `on_train_batch_end` time: 5.7213s). Check your callbacks.\n",
      "Average validation loss for model  60 :  0.7105857306718826\n",
      "WARNING:tensorflow:Callbacks method `on_train_batch_end` is slow compared to the batch time (batch time: 0.0010s vs `on_train_batch_end` time: 1.2139s). Check your callbacks.\n",
      "Average validation loss for model  61 :  0.8158166357278824\n",
      "WARNING:tensorflow:Callbacks method `on_train_batch_end` is slow compared to the batch time (batch time: 0.0020s vs `on_train_batch_end` time: 1.1992s). Check your callbacks.\n",
      "Average validation loss for model  62 :  0.6941868348121643\n",
      "WARNING:tensorflow:Callbacks method `on_train_batch_end` is slow compared to the batch time (batch time: 0.0010s vs `on_train_batch_end` time: 1.2358s). Check your callbacks.\n",
      "Average validation loss for model  63 :  0.6861952977180481\n",
      "WARNING:tensorflow:Callbacks method `on_train_batch_end` is slow compared to the batch time (batch time: 0.0020s vs `on_train_batch_end` time: 1.1638s). Check your callbacks.\n",
      "Average validation loss for model  64 :  0.5288418407440185\n",
      "WARNING:tensorflow:Callbacks method `on_train_batch_end` is slow compared to the batch time (batch time: 0.0010s vs `on_train_batch_end` time: 1.2931s). Check your callbacks.\n",
      "Average validation loss for model  65 :  0.6906905711889267\n",
      "WARNING:tensorflow:Callbacks method `on_train_batch_end` is slow compared to the batch time (batch time: 0.0020s vs `on_train_batch_end` time: 1.3362s). Check your callbacks.\n",
      "Average validation loss for model  66 :  0.53709734749794\n",
      "WARNING:tensorflow:Callbacks method `on_train_batch_end` is slow compared to the batch time (batch time: 0.0010s vs `on_train_batch_end` time: 1.0566s). Check your callbacks.\n",
      "Average validation loss for model  67 :  0.5896007292270661\n",
      "WARNING:tensorflow:Callbacks method `on_train_batch_end` is slow compared to the batch time (batch time: 0.0020s vs `on_train_batch_end` time: 1.2621s). Check your callbacks.\n",
      "Average validation loss for model  68 :  0.6846495177745819\n",
      "WARNING:tensorflow:Callbacks method `on_train_batch_end` is slow compared to the batch time (batch time: 0.0019s vs `on_train_batch_end` time: 1.3603s). Check your callbacks.\n"
     ]
    },
    {
     "name": "stdout",
     "output_type": "stream",
     "text": [
      "Average validation loss for model  69 :  0.9360247708559036\n",
      "WARNING:tensorflow:Callbacks method `on_train_batch_end` is slow compared to the batch time (batch time: 0.0019s vs `on_train_batch_end` time: 1.4473s). Check your callbacks.\n",
      "Average validation loss for model  70 :  0.680007260799408\n",
      "WARNING:tensorflow:Callbacks method `on_train_batch_end` is slow compared to the batch time (batch time: 0.0019s vs `on_train_batch_end` time: 6.5694s). Check your callbacks.\n",
      "Average validation loss for model  71 :  1.040096984744072\n",
      "WARNING:tensorflow:Callbacks method `on_train_batch_end` is slow compared to the batch time (batch time: 0.0013s vs `on_train_batch_end` time: 1.3098s). Check your callbacks.\n",
      "Average validation loss for model  72 :  0.6845673933029175\n",
      "WARNING:tensorflow:Callbacks method `on_train_batch_end` is slow compared to the batch time (batch time: 0.0010s vs `on_train_batch_end` time: 1.3845s). Check your callbacks.\n",
      "Average validation loss for model  73 :  0.6856011786460876\n",
      "WARNING:tensorflow:Callbacks method `on_train_batch_end` is slow compared to the batch time (batch time: 0.0010s vs `on_train_batch_end` time: 1.3761s). Check your callbacks.\n",
      "Average validation loss for model  74 :  0.6927184060811996\n",
      "WARNING:tensorflow:Callbacks method `on_train_batch_end` is slow compared to the batch time (batch time: 0.0009s vs `on_train_batch_end` time: 6.9253s). Check your callbacks.\n",
      "Average validation loss for model  75 :  0.6850451985597611\n",
      "WARNING:tensorflow:Callbacks method `on_train_batch_end` is slow compared to the batch time (batch time: 0.0010s vs `on_train_batch_end` time: 1.2521s). Check your callbacks.\n",
      "Average validation loss for model  76 :  0.6863627361059189\n",
      "WARNING:tensorflow:Callbacks method `on_train_batch_end` is slow compared to the batch time (batch time: 0.0020s vs `on_train_batch_end` time: 1.1757s). Check your callbacks.\n",
      "Average validation loss for model  77 :  0.7274848036766052\n",
      "WARNING:tensorflow:Callbacks method `on_train_batch_end` is slow compared to the batch time (batch time: 0.0019s vs `on_train_batch_end` time: 1.1839s). Check your callbacks.\n",
      "Average validation loss for model  78 :  0.641565971493721\n",
      "WARNING:tensorflow:Callbacks method `on_train_batch_end` is slow compared to the batch time (batch time: 0.0009s vs `on_train_batch_end` time: 1.1165s). Check your callbacks.\n",
      "Average validation loss for model  79 :  0.6938767864704132\n",
      "WARNING:tensorflow:Callbacks method `on_train_batch_end` is slow compared to the batch time (batch time: 0.0010s vs `on_train_batch_end` time: 1.3541s). Check your callbacks.\n",
      "Average validation loss for model  80 :  0.6878964248895645\n",
      "WARNING:tensorflow:Callbacks method `on_train_batch_end` is slow compared to the batch time (batch time: 0.0010s vs `on_train_batch_end` time: 1.4989s). Check your callbacks.\n",
      "Average validation loss for model  81 :  0.6877304916381836\n",
      "WARNING:tensorflow:Callbacks method `on_train_batch_end` is slow compared to the batch time (batch time: 0.0020s vs `on_train_batch_end` time: 1.2937s). Check your callbacks.\n",
      "Average validation loss for model  82 :  0.5618932338953018\n",
      "WARNING:tensorflow:Callbacks method `on_train_batch_end` is slow compared to the batch time (batch time: 0.0020s vs `on_train_batch_end` time: 1.2411s). Check your callbacks.\n",
      "Average validation loss for model  83 :  0.5900901499986648\n",
      "WARNING:tensorflow:Callbacks method `on_train_batch_end` is slow compared to the batch time (batch time: 0.0101s vs `on_train_batch_end` time: 1.3363s). Check your callbacks.\n",
      "Average validation loss for model  84 :  0.6851639040708541\n",
      "WARNING:tensorflow:Callbacks method `on_train_batch_end` is slow compared to the batch time (batch time: 0.0016s vs `on_train_batch_end` time: 1.4025s). Check your callbacks.\n",
      "Average validation loss for model  85 :  1.6751380419731141\n",
      "WARNING:tensorflow:Callbacks method `on_train_batch_end` is slow compared to the batch time (batch time: 0.0020s vs `on_train_batch_end` time: 1.5048s). Check your callbacks.\n",
      "Average validation loss for model  86 :  0.7628043985366821\n",
      "WARNING:tensorflow:Callbacks method `on_train_batch_end` is slow compared to the batch time (batch time: 0.0019s vs `on_train_batch_end` time: 1.3644s). Check your callbacks.\n",
      "Average validation loss for model  87 :  0.7927617731094361\n",
      "WARNING:tensorflow:Callbacks method `on_train_batch_end` is slow compared to the batch time (batch time: 0.0019s vs `on_train_batch_end` time: 8.0444s). Check your callbacks.\n",
      "Average validation loss for model  88 :  0.8714988216161728\n",
      "WARNING:tensorflow:Callbacks method `on_train_batch_end` is slow compared to the batch time (batch time: 0.0020s vs `on_train_batch_end` time: 2.8703s). Check your callbacks.\n",
      "Average validation loss for model  89 :  1.1844935039281845\n",
      "WARNING:tensorflow:Callbacks method `on_train_batch_end` is slow compared to the batch time (batch time: 0.0010s vs `on_train_batch_end` time: 1.4981s). Check your callbacks.\n",
      "Average validation loss for model  90 :  0.889559805393219\n",
      "WARNING:tensorflow:Callbacks method `on_train_batch_end` is slow compared to the batch time (batch time: 0.0009s vs `on_train_batch_end` time: 1.3567s). Check your callbacks.\n",
      "Average validation loss for model  91 :  1.054285947918892\n",
      "WARNING:tensorflow:Callbacks method `on_train_batch_end` is slow compared to the batch time (batch time: 0.0010s vs `on_train_batch_end` time: 1.3933s). Check your callbacks.\n",
      "Average validation loss for model  92 :  0.5631250076293945\n",
      "WARNING:tensorflow:Callbacks method `on_train_batch_end` is slow compared to the batch time (batch time: 0.0013s vs `on_train_batch_end` time: 8.9777s). Check your callbacks.\n",
      "Average validation loss for model  93 :  0.8268177217245102\n",
      "WARNING:tensorflow:Callbacks method `on_train_batch_end` is slow compared to the batch time (batch time: 0.0009s vs `on_train_batch_end` time: 2.6300s). Check your callbacks.\n",
      "Average validation loss for model  94 :  0.7209394954442978\n",
      "WARNING:tensorflow:Callbacks method `on_train_batch_end` is slow compared to the batch time (batch time: 0.0020s vs `on_train_batch_end` time: 2.7536s). Check your callbacks.\n",
      "Average validation loss for model  95 :  1.1515231178998948\n",
      "WARNING:tensorflow:Callbacks method `on_train_batch_end` is slow compared to the batch time (batch time: 0.0020s vs `on_train_batch_end` time: 1.4579s). Check your callbacks.\n",
      "Average validation loss for model  96 :  0.6851378031969071\n",
      "WARNING:tensorflow:Callbacks method `on_train_batch_end` is slow compared to the batch time (batch time: 0.0010s vs `on_train_batch_end` time: 1.5104s). Check your callbacks.\n",
      "Average validation loss for model  97 :  0.685728581905365\n",
      "WARNING:tensorflow:Callbacks method `on_train_batch_end` is slow compared to the batch time (batch time: 0.0020s vs `on_train_batch_end` time: 1.3047s). Check your callbacks.\n",
      "Average validation loss for model  98 :  0.6866242178678512\n",
      "WARNING:tensorflow:Callbacks method `on_train_batch_end` is slow compared to the batch time (batch time: 0.0009s vs `on_train_batch_end` time: 1.3074s). Check your callbacks.\n",
      "Average validation loss for model  99 :  0.6866158913373948\n",
      "WARNING:tensorflow:Callbacks method `on_train_batch_end` is slow compared to the batch time (batch time: 0.0010s vs `on_train_batch_end` time: 1.3710s). Check your callbacks.\n",
      "Average validation loss for model  100 :  0.6853200891017914\n"
     ]
    }
   ],
   "source": [
    "logdir = 'logs/scalars/' + datetime.datetime.now().strftime('%Y%m%d-%H%M%S')\n",
    "tensorboard_callback = callbacks.TensorBoard(log_dir=logdir)\n",
    "\n",
    "metrics = [\n",
    "           tfk.metrics.Precision(),\n",
    "           tfk.metrics.TruePositives(),\n",
    "           tfk.metrics.TrueNegatives(),\n",
    "           tfk.metrics.FalsePositives(),\n",
    "           tfk.metrics.FalseNegatives(),\n",
    "           tfk.metrics.AUC(curve='PR')\n",
    "          ]\n",
    "\n",
    "models = random_search_models(num_models=100, input_dims=len(features), compile_metrics=metrics, seed=42)\n",
    "\n",
    "model_list = []\n",
    "\n",
    "for i, model in enumerate(models):\n",
    "\n",
    "    training_history = model.fit(\n",
    "                                 X_train,\n",
    "                                 y_train,\n",
    "                                 batch_size = 128,\n",
    "                                 verbose = 0,\n",
    "                                 epochs = 500,\n",
    "                                 validation_split = 0.2,\n",
    "                                 callbacks=[callbacks.TensorBoard(log_dir=logdir+'-'+str(i+1))],\n",
    "                                )\n",
    "    model_list.append((model, training_history, i+1))\n",
    "    \n",
    "    print('Average validation loss for model ', str(i+1), ': ', np.average(training_history.history['val_loss']))"
   ]
  },
  {
   "cell_type": "code",
   "execution_count": 20,
   "id": "negative-reference",
   "metadata": {
    "scrolled": false
   },
   "outputs": [
    {
     "data": {
      "text/plain": [
       "Reusing TensorBoard on port 6006 (pid 15196), started 0:01:43 ago. (Use '!kill 15196' to kill it.)"
      ]
     },
     "metadata": {},
     "output_type": "display_data"
    },
    {
     "data": {
      "text/html": [
       "\n",
       "      <iframe id=\"tensorboard-frame-8d050872c2a11b03\" width=\"100%\" height=\"800\" frameborder=\"0\">\n",
       "      </iframe>\n",
       "      <script>\n",
       "        (function() {\n",
       "          const frame = document.getElementById(\"tensorboard-frame-8d050872c2a11b03\");\n",
       "          const url = new URL(\"/\", window.location);\n",
       "          const port = 6006;\n",
       "          if (port) {\n",
       "            url.port = port;\n",
       "          }\n",
       "          frame.src = url;\n",
       "        })();\n",
       "      </script>\n",
       "    "
      ],
      "text/plain": [
       "<IPython.core.display.HTML object>"
      ]
     },
     "metadata": {},
     "output_type": "display_data"
    }
   ],
   "source": [
    "%tensorboard --logdir logs/scalars"
   ]
  },
  {
   "cell_type": "code",
   "execution_count": 18,
   "id": "ceramic-montreal",
   "metadata": {},
   "outputs": [],
   "source": [
    "# Get five best models to evaluate on Tensorboard\n",
    "model_list_sorted = get_best_models(model_list, 'val_loss', descending=False, num_models=5)"
   ]
  },
  {
   "cell_type": "code",
   "execution_count": 19,
   "id": "grateful-conversation",
   "metadata": {},
   "outputs": [
    {
     "data": {
      "text/plain": [
       "[(<tensorflow.python.keras.engine.sequential.Sequential at 0x236432a04f0>,\n",
       "  <tensorflow.python.keras.callbacks.History at 0x236cf6b55b0>,\n",
       "  0.49949291348457336,\n",
       "  49),\n",
       " (<tensorflow.python.keras.engine.sequential.Sequential at 0x23643678e80>,\n",
       "  <tensorflow.python.keras.callbacks.History at 0x23710f04520>,\n",
       "  0.5031855702400208,\n",
       "  66),\n",
       " (<tensorflow.python.keras.engine.sequential.Sequential at 0x23642f29fd0>,\n",
       "  <tensorflow.python.keras.callbacks.History at 0x2368dcbb370>,\n",
       "  0.5242580771446228,\n",
       "  32),\n",
       " (<tensorflow.python.keras.engine.sequential.Sequential at 0x23643cd5a60>,\n",
       "  <tensorflow.python.keras.callbacks.History at 0x23771385820>,\n",
       "  0.5246622562408447,\n",
       "  90),\n",
       " (<tensorflow.python.keras.engine.sequential.Sequential at 0x23643106f10>,\n",
       "  <tensorflow.python.keras.callbacks.History at 0x236add95820>,\n",
       "  0.5255122780799866,\n",
       "  40)]"
      ]
     },
     "execution_count": 19,
     "metadata": {},
     "output_type": "execute_result"
    }
   ],
   "source": [
    "model_list_sorted"
   ]
  },
  {
   "cell_type": "code",
   "execution_count": 76,
   "id": "attempted-former",
   "metadata": {},
   "outputs": [],
   "source": [
    "# Selecting model from top 5 lowest validation loss with highest AUC \n",
    "best_model = model_list_sorted[0][0]\n",
    "best_history = model_list_sorted[0][1]"
   ]
  },
  {
   "cell_type": "code",
   "execution_count": 77,
   "id": "veterinary-overhead",
   "metadata": {},
   "outputs": [
    {
     "name": "stdout",
     "output_type": "stream",
     "text": [
      "Model: \"sequential_48\"\n",
      "_________________________________________________________________\n",
      "Layer (type)                 Output Shape              Param #   \n",
      "=================================================================\n",
      "dense_308 (Dense)            (None, 12)                372       \n",
      "_________________________________________________________________\n",
      "dense_309 (Dense)            (None, 7)                 91        \n",
      "_________________________________________________________________\n",
      "dense_310 (Dense)            (None, 1)                 8         \n",
      "=================================================================\n",
      "Total params: 471\n",
      "Trainable params: 471\n",
      "Non-trainable params: 0\n",
      "_________________________________________________________________\n"
     ]
    }
   ],
   "source": [
    "best_model.summary()"
   ]
  },
  {
   "cell_type": "markdown",
   "id": "serious-canberra",
   "metadata": {},
   "source": [
    "# Evaluate model on validation set"
   ]
  },
  {
   "cell_type": "code",
   "execution_count": 78,
   "id": "activated-intervention",
   "metadata": {},
   "outputs": [
    {
     "data": {
      "text/plain": [
       "[<matplotlib.lines.Line2D at 0x2379f309940>]"
      ]
     },
     "execution_count": 78,
     "metadata": {},
     "output_type": "execute_result"
    },
    {
     "data": {
      "image/png": "[encoded data removed]",
      "text/plain": [
       "<Figure size 432x288 with 1 Axes>"
      ]
     },
     "metadata": {
      "needs_background": "light"
     },
     "output_type": "display_data"
    }
   ],
   "source": [
    "learning_plot(best_history, 'loss')"
   ]
  },
  {
   "cell_type": "code",
   "execution_count": 79,
   "id": "incorporated-arrow",
   "metadata": {},
   "outputs": [
    {
     "data": {
      "text/plain": [
       "[<matplotlib.lines.Line2D at 0x2379f363a00>]"
      ]
     },
     "execution_count": 79,
     "metadata": {},
     "output_type": "execute_result"
    },
    {
     "data": {
      "image/png": "[encoded data removed]",
      "text/plain": [
       "<Figure size 432x288 with 1 Axes>"
      ]
     },
     "metadata": {
      "needs_background": "light"
     },
     "output_type": "display_data"
    }
   ],
   "source": [
    "learning_plot(best_history, 'auc')"
   ]
  },
  {
   "cell_type": "code",
   "execution_count": 80,
   "id": "seeing-brand",
   "metadata": {},
   "outputs": [
    {
     "data": {
      "text/plain": [
       "[<matplotlib.lines.Line2D at 0x2379f3d1430>]"
      ]
     },
     "execution_count": 80,
     "metadata": {},
     "output_type": "execute_result"
    },
    {
     "data": {
      "image/png": "[encoded data removed]",
      "text/plain": [
       "<Figure size 432x288 with 1 Axes>"
      ]
     },
     "metadata": {
      "needs_background": "light"
     },
     "output_type": "display_data"
    }
   ],
   "source": [
    "learning_plot(best_history, 'precision')"
   ]
  },
  {
   "cell_type": "code",
   "execution_count": 81,
   "id": "international-memory",
   "metadata": {},
   "outputs": [
    {
     "data": {
      "text/plain": [
       "[<matplotlib.lines.Line2D at 0x2379f431be0>]"
      ]
     },
     "execution_count": 81,
     "metadata": {},
     "output_type": "execute_result"
    },
    {
     "data": {
      "image/png": "[encoded data removed]",
      "text/plain": [
       "<Figure size 432x288 with 1 Axes>"
      ]
     },
     "metadata": {
      "needs_background": "light"
     },
     "output_type": "display_data"
    }
   ],
   "source": [
    "learning_recall(best_history, True)"
   ]
  },
  {
   "cell_type": "code",
   "execution_count": 82,
   "id": "identical-mortality",
   "metadata": {},
   "outputs": [
    {
     "data": {
      "text/plain": [
       "[<matplotlib.lines.Line2D at 0x2379f486e20>]"
      ]
     },
     "execution_count": 82,
     "metadata": {},
     "output_type": "execute_result"
    },
    {
     "data": {
      "image/png": "[encoded data removed]",
      "text/plain": [
       "<Figure size 432x288 with 1 Axes>"
      ]
     },
     "metadata": {
      "needs_background": "light"
     },
     "output_type": "display_data"
    }
   ],
   "source": [
    "learning_recall(best_history, False)"
   ]
  },
  {
   "cell_type": "code",
   "execution_count": 83,
   "id": "static-arctic",
   "metadata": {},
   "outputs": [
    {
     "name": "stdout",
     "output_type": "stream",
     "text": [
      "Loss for training set is 0.4653, while loss for validation set is 0.4995. This gives a difference of 0.0342\n"
     ]
    }
   ],
   "source": [
    "loss = best_history.history['loss'][-1]\n",
    "val_loss = best_history.history['val_loss'][-1]\n",
    "print('Loss for training set is {}, while loss for validation set is {}. This gives a difference of {}'\\\n",
    "      .format(\n",
    "              round(loss,4),\n",
    "              round(val_loss,4), \n",
    "              round(val_loss-loss, 4))\n",
    "             )"
   ]
  },
  {
   "cell_type": "code",
   "execution_count": 84,
   "id": "corrected-serve",
   "metadata": {},
   "outputs": [
    {
     "name": "stdout",
     "output_type": "stream",
     "text": [
      "AUC for training set is 0.85, while AUC for validation set is 0.84. This gives a difference of 0.01\n"
     ]
    }
   ],
   "source": [
    "auc = best_history.history['auc'][-1]\n",
    "val_auc = best_history.history['val_auc'][-1]\n",
    "print('AUC for training set is {}, while AUC for validation set is {}. This gives a difference of {}'\\\n",
    "      .format(round(auc, 2), round(val_auc, 2), round(auc-val_auc,2)))"
   ]
  },
  {
   "cell_type": "code",
   "execution_count": 85,
   "id": "postal-basis",
   "metadata": {},
   "outputs": [
    {
     "name": "stdout",
     "output_type": "stream",
     "text": [
      "Confusion_matrix:\n",
      "       1      0\n",
      "1  210.0   65.0\n",
      "0   76.0  313.0\n"
     ]
    }
   ],
   "source": [
    "true_positives_val = best_history.history['val_true_positives'][-1]\n",
    "false_positives_val = best_history.history['val_false_positives'][-1]\n",
    "true_negatives_val = best_history.history['val_true_negatives'][-1]\n",
    "false_negatives_val = best_history.history['val_false_negatives'][-1]\n",
    "\n",
    "val_conf_matrix = get_confusion_matrix(\n",
    "                                       true_positives_val,\n",
    "                                       false_positives_val,\n",
    "                                       true_negatives_val,\n",
    "                                       false_negatives_val\n",
    "                                      )\n",
    "\n",
    "print('Confusion_matrix:\\n{}'.format(val_conf_matrix))"
   ]
  },
  {
   "cell_type": "code",
   "execution_count": 87,
   "id": "tracked-consideration",
   "metadata": {},
   "outputs": [
    {
     "name": "stdout",
     "output_type": "stream",
     "text": [
      "True recall rate is 0.73\n",
      "Precision is 0.7636363506317139\n"
     ]
    }
   ],
   "source": [
    "print('True recall rate is {}'\\\n",
    "      .format(round(val_conf_matrix.loc['1', '1']/(val_conf_matrix.loc['1', '1']+val_conf_matrix.loc['0', '1']),2)))\n",
    "print('Precision is {}'.format(best_history.history['val_precision'][-1]))"
   ]
  },
  {
   "cell_type": "markdown",
   "id": "opening-shuttle",
   "metadata": {},
   "source": [
    "Looks very promising on validation set! Let's check test set"
   ]
  },
  {
   "cell_type": "code",
   "execution_count": 88,
   "id": "conventional-chile",
   "metadata": {},
   "outputs": [
    {
     "name": "stdout",
     "output_type": "stream",
     "text": [
      "26/26 [==============================] - 0s 5ms/step - loss: 0.4783 - precision: 0.7391 - true_positives: 272.0000 - true_negatives: 389.0000 - false_positives: 96.0000 - false_negatives: 72.0000 - auc: 0.8206\n"
     ]
    }
   ],
   "source": [
    "loss_test, precision_test, true_positives_test, true_negatives_test, false_positives_test, false_negatives_test, auc_test = best_model.evaluate(X_test, y_test)"
   ]
  },
  {
   "cell_type": "code",
   "execution_count": 89,
   "id": "renewable-prior",
   "metadata": {},
   "outputs": [
    {
     "name": "stdout",
     "output_type": "stream",
     "text": [
      "AUC for test set is 0.82.\n"
     ]
    }
   ],
   "source": [
    "print('AUC for test set is {}.'.format(round(auc_test,2)))"
   ]
  },
  {
   "cell_type": "code",
   "execution_count": 90,
   "id": "unlike-immune",
   "metadata": {},
   "outputs": [],
   "source": [
    "confusion_matrix = get_confusion_matrix(\n",
    "                                        true_positives_test,\n",
    "                                        false_positives_test,\n",
    "                                        true_negatives_test,\n",
    "                                        false_negatives_test\n",
    "                                       )"
   ]
  },
  {
   "cell_type": "code",
   "execution_count": 91,
   "id": "painted-planet",
   "metadata": {},
   "outputs": [
    {
     "name": "stdout",
     "output_type": "stream",
     "text": [
      "       1      0\n",
      "1  272.0   96.0\n",
      "0   72.0  389.0\n"
     ]
    }
   ],
   "source": [
    "print(confusion_matrix)"
   ]
  },
  {
   "cell_type": "code",
   "execution_count": 92,
   "id": "extensive-conversion",
   "metadata": {},
   "outputs": [
    {
     "name": "stdout",
     "output_type": "stream",
     "text": [
      "True recall rate is 0.79\n",
      "Precision is 0.74\n"
     ]
    }
   ],
   "source": [
    "print(\n",
    "      'True recall rate is {}'\\\n",
    "      .format(round(\n",
    "                    confusion_matrix.loc['1', '1']/\n",
    "                    (confusion_matrix.loc['1', '1']+confusion_matrix.loc['0', '1']),\n",
    "                    2\n",
    "                   )\n",
    "             )\n",
    "     )\n",
    "print('Precision is {}'.format(round(precision_test,2)))"
   ]
  },
  {
   "cell_type": "code",
   "execution_count": 93,
   "id": "obvious-trick",
   "metadata": {},
   "outputs": [
    {
     "data": {
      "text/plain": [
       "<matplotlib.legend.Legend at 0x2379f553430>"
      ]
     },
     "execution_count": 93,
     "metadata": {},
     "output_type": "execute_result"
    },
    {
     "data": {
      "image/png": "[encoded data removed]",
      "text/plain": [
       "<Figure size 432x288 with 1 Axes>"
      ]
     },
     "metadata": {
      "needs_background": "light"
     },
     "output_type": "display_data"
    }
   ],
   "source": [
    "from sklearn import metrics\n",
    "from sklearn.utils.class_weight import compute_sample_weight\n",
    "\n",
    "# sample_weights = compute_sample_weight(class_weight='balanced', y=y_test)\n",
    "random_pr = y_test.value_counts().iloc[1] / len(y_test)\n",
    "\n",
    "predictions = best_model.predict(X_test)\n",
    "precision, recall, thresholds = metrics.precision_recall_curve(y_test, predictions)\n",
    "pr_auc = metrics.auc(recall, precision)\n",
    "\n",
    "plt.figure()\n",
    "lw = 2\n",
    "plt.plot(\n",
    "         recall, \n",
    "         precision, \n",
    "         color = 'darkorange',\n",
    "         lw = lw, \n",
    "         label = 'Precision-recall curve (area = {})'.format(round(pr_auc,2))\n",
    "        )\n",
    "plt.plot([0, 1], [random_pr, random_pr], color='navy', lw=lw, linestyle='--', label='Random guess performance')\n",
    "plt.xlim([0.0, 1.0])\n",
    "plt.ylim([0.0, 1.05])\n",
    "plt.xlabel('Recall Rate')\n",
    "plt.ylabel('Precision')\n",
    "plt.title('Precision-recall')\n",
    "plt.legend(loc = 'lower right')"
   ]
  },
  {
   "cell_type": "markdown",
   "id": "corrected-description",
   "metadata": {},
   "source": [
    "# Save model"
   ]
  },
  {
   "cell_type": "code",
   "execution_count": 94,
   "id": "light-biotechnology",
   "metadata": {},
   "outputs": [
    {
     "name": "stdout",
     "output_type": "stream",
     "text": [
      "WARNING:tensorflow:From C:\\Users\\Alexander\\anaconda3\\envs\\playlistenv\\lib\\site-packages\\tensorflow\\python\\training\\tracking\\tracking.py:111: Model.state_updates (from tensorflow.python.keras.engine.training) is deprecated and will be removed in a future version.\n",
      "Instructions for updating:\n",
      "This property should not be used in TensorFlow 2.0, as updates are applied automatically.\n",
      "WARNING:tensorflow:From C:\\Users\\Alexander\\anaconda3\\envs\\playlistenv\\lib\\site-packages\\tensorflow\\python\\training\\tracking\\tracking.py:111: Layer.updates (from tensorflow.python.keras.engine.base_layer) is deprecated and will be removed in a future version.\n",
      "Instructions for updating:\n",
      "This property should not be used in TensorFlow 2.0, as updates are applied automatically.\n",
      "INFO:tensorflow:Assets written to: jazz_model\\assets\n"
     ]
    }
   ],
   "source": [
    "best_model.save('jazz_model')"
   ]
  }
 ],
 "metadata": {
  "kernelspec": {
   "display_name": "playlistenv",
   "language": "python",
   "name": "playlistenv"
  },
  "language_info": {
   "codemirror_mode": {
    "name": "ipython",
    "version": 3
   },
   "file_extension": ".py",
   "mimetype": "text/x-python",
   "name": "python",
   "nbconvert_exporter": "python",
   "pygments_lexer": "ipython3",
   "version": "3.8.8"
  }
 },
 "nbformat": 4,
 "nbformat_minor": 5
}
