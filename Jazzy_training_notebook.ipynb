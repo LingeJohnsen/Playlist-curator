{
 "cells": [
  {
   "cell_type": "code",
   "execution_count": 1,
   "id": "divided-outside",
   "metadata": {},
   "outputs": [],
   "source": [
    "import pandas as pd\n",
    "import numpy as np\n",
    "from joblib import dump, load\n",
    "import time\n",
    "import datetime\n",
    "import operator\n",
    "\n",
    "from sklearn.model_selection import train_test_split\n",
    "from sklearn.pipeline import Pipeline\n",
    "from sklearn.preprocessing import StandardScaler\n",
    "from sklearn.impute import SimpleImputer\n",
    "\n",
    "import tensorflow as tf\n",
    "import tensorflow.keras as tfk\n",
    "from tensorflow.keras.models import Sequential\n",
    "from tensorflow.keras.layers import Dense\n",
    "from tensorflow.keras.optimizers import Adam\n",
    "from tensorflow.keras.regularizers import l2\n",
    "from tensorflow.keras import callbacks\n",
    "\n",
    "from matplotlib import pyplot as plt"
   ]
  },
  {
   "cell_type": "code",
   "execution_count": 2,
   "id": "characteristic-strap",
   "metadata": {},
   "outputs": [],
   "source": [
    "%load_ext tensorboard"
   ]
  },
  {
   "cell_type": "markdown",
   "id": "damaged-burton",
   "metadata": {},
   "source": [
    "### Some useful functions"
   ]
  },
  {
   "cell_type": "code",
   "execution_count": 3,
   "id": "brazilian-glass",
   "metadata": {},
   "outputs": [],
   "source": [
    "def get_confusion_matrix(true_pos, false_pos, true_neg, false_neg):\n",
    "    conf_matrix = np.array([\n",
    "                            [true_pos, false_pos],\n",
    "                            [false_neg, true_neg]\n",
    "                           ])\n",
    "    \n",
    "    return pd.DataFrame(conf_matrix, columns=['1', '0'], index=['1', '0'])"
   ]
  },
  {
   "cell_type": "code",
   "execution_count": 4,
   "id": "central-parent",
   "metadata": {},
   "outputs": [],
   "source": [
    "def learning_plot(model, metric):\n",
    "    \n",
    "    fig = plt.figure()\n",
    "    \n",
    "    fig = plt.plot(model.history[metric], color='black')\n",
    "    fig = plt.plot(model.history['val_'+metric], color='blue')\n",
    "\n",
    "    plt.title('Changes in {} over training run'.format(metric))\n",
    "    plt.xlabel('Epoch')\n",
    "    plt.ylabel(metric)\n",
    "    \n",
    "    plt.legend(['train', 'val'], loc='upper right')\n",
    "    \n",
    "    return fig"
   ]
  },
  {
   "cell_type": "code",
   "execution_count": 5,
   "id": "recent-court",
   "metadata": {},
   "outputs": [],
   "source": [
    "def learning_recall(model, positives_flag=True):\n",
    "    \n",
    "    if positives_flag:\n",
    "        recall = [tp / (tp+fn) for tp, fn in zip(model.history['true_positives'], model.history['false_negatives'])]\n",
    "        val_recall = [tp / (tp+fn) for tp, fn in zip(model.history['val_true_positives'], model.history['val_false_negatives'])]\n",
    "        recall_type = 'positive'\n",
    "    else:\n",
    "        recall = [tn / (tn+fp) for tn, fp in zip(model.history['true_negatives'], model.history['false_positives'])]\n",
    "        val_recall = [tn / (tn+fp) for tn, fp in zip(model.history['val_true_negatives'], model.history['val_false_positives'])]\n",
    "        recall_type = 'negative'\n",
    "        \n",
    "    fig = plt.figure()\n",
    "    \n",
    "    fig = plt.plot(recall, color='black')\n",
    "    fig = plt.plot(val_recall, color='blue')\n",
    "    \n",
    "    plt.title('Changes in {} recall rate over training run.'.format(recall_type))\n",
    "    plt.xlabel('Epoch')\n",
    "    plt.ylabel('{} recall rate'.format(recall_type))\n",
    "    \n",
    "    return fig"
   ]
  },
  {
   "cell_type": "code",
   "execution_count": 6,
   "id": "prompt-glasgow",
   "metadata": {},
   "outputs": [],
   "source": [
    "def random_search_models(num_models, input_dims, compile_metrics, seed):\n",
    "    \n",
    "    np.random.seed(seed)\n",
    "    \n",
    "    all_models = []\n",
    "    \n",
    "    for m in range(num_models): \n",
    "        \n",
    "        num_hidden_layers = np.random.randint(1, 6)\n",
    "        all_models.append(build_model(num_hidden_layers, input_dims, compile_metrics))\n",
    "    \n",
    "    return all_models\n",
    "\n",
    "def build_layers(num_layers, input_dims):\n",
    "\n",
    "    layers = []\n",
    "    \n",
    "    for i in range(num_layers):\n",
    "        \n",
    "        num_units = np.random.randint(2, 27)\n",
    "        reg_val = 10**(-4*np.random.rand())\n",
    "        if i==0:\n",
    "            layers.append(Dense(\n",
    "                                units = num_units,\n",
    "                                input_dim = input_dims,\n",
    "                                activation = 'relu',\n",
    "                                kernel_regularizer = l2(l2=reg_val)\n",
    "                               ))\n",
    "        else:\n",
    "            layers.append(Dense(\n",
    "                                units = num_units,\n",
    "                                activation = 'relu',\n",
    "                                kernel_regularizer = l2(l2=reg_val)\n",
    "                               ))\n",
    "    reg_val = 10**(-4*np.random.rand())\n",
    "    layers.append(Dense(\n",
    "                        units = 1,\n",
    "                        activation = 'sigmoid',\n",
    "                        kernel_regularizer = l2(l2=reg_val)\n",
    "                       ))\n",
    "    return layers\n",
    "\n",
    "def build_model(num_hidden_layers, input_dims, compile_metrics):\n",
    "\n",
    "    model = Sequential()\n",
    "    \n",
    "    layers = build_layers(num_hidden_layers, input_dims)\n",
    "    for l in layers:\n",
    "        model.add(l)\n",
    "    \n",
    "    learning_rate = 10**(-4*np.random.rand())\n",
    "    model.compile(optimizer = Adam(learning_rate), loss='binary_crossentropy', metrics=[compile_metrics])\n",
    "    \n",
    "    return model"
   ]
  },
  {
   "cell_type": "code",
   "execution_count": 7,
   "id": "configured-excuse",
   "metadata": {},
   "outputs": [],
   "source": [
    "def get_best_models(model_list, metric, descending, num_models):\n",
    "    \n",
    "    m_tuples = []\n",
    "    for model, history, num in model_list:\n",
    "        m_tuples.append((model, history, history.history[metric][-1], num))\n",
    "        \n",
    "    m_tuples.sort(key=operator.itemgetter(2), reverse=descending)\n",
    "    \n",
    "    if num_models:\n",
    "        return m_tuples[:num_models]\n",
    "    else:\n",
    "        return m_tuples"
   ]
  },
  {
   "cell_type": "markdown",
   "id": "prostate-package",
   "metadata": {},
   "source": [
    "### Load and prepare data"
   ]
  },
  {
   "cell_type": "code",
   "execution_count": 8,
   "id": "based-paint",
   "metadata": {},
   "outputs": [],
   "source": [
    "df = pd.read_csv('jazz.csv', sep='|')"
   ]
  },
  {
   "cell_type": "code",
   "execution_count": 9,
   "id": "passing-apparatus",
   "metadata": {},
   "outputs": [],
   "source": [
    "# Define features to analyze\n",
    "features = [\n",
    "            'danceability',\n",
    "            'energy',\n",
    "            'speechiness',\n",
    "            'acousticness',\n",
    "            'instrumentalness',\n",
    "            'liveness',\n",
    "            'valence',\n",
    "            'num_samples',\n",
    "            'end_of_fade_in',\n",
    "            'loudness',\n",
    "            'tempo',\n",
    "            'key',\n",
    "            'mode',\n",
    "            'bars_num',\n",
    "            'bars_duration_var',\n",
    "            'beats_duration_var',\n",
    "            'sections_num',\n",
    "            'sections_duration_mean',\n",
    "            'sections_duration_var',\n",
    "            'loudness_var',\n",
    "            'tempo_var',\n",
    "            'key_var',\n",
    "            'mode_var',\n",
    "            'segments_duration_var',\n",
    "            'segments_duration_mean',\n",
    "            'pitches_mean',\n",
    "            'pitches_var',\n",
    "            'timbre_mean',\n",
    "            'timbre_var',\n",
    "            'tatums_duration_var'\n",
    "           ]\n",
    "\n",
    "df = df[features+['label']]\n",
    "\n",
    "# Shuffle data to ungroup class rows\n",
    "df = df.sample(frac=1, random_state=12).reset_index(drop=True)"
   ]
  },
  {
   "cell_type": "code",
   "execution_count": 10,
   "id": "d3f62f63",
   "metadata": {},
   "outputs": [
    {
     "data": {
      "text/plain": [
       "(5656, 31)"
      ]
     },
     "execution_count": 10,
     "metadata": {},
     "output_type": "execute_result"
    }
   ],
   "source": [
    "df.shape"
   ]
  },
  {
   "cell_type": "code",
   "execution_count": 11,
   "id": "golden-young",
   "metadata": {},
   "outputs": [
    {
     "data": {
      "text/plain": [
       "(2543, 31)"
      ]
     },
     "execution_count": 11,
     "metadata": {},
     "output_type": "execute_result"
    }
   ],
   "source": [
    "df[df['label']==1].shape"
   ]
  },
  {
   "cell_type": "markdown",
   "id": "smooth-blank",
   "metadata": {},
   "source": [
    "Split dataset into training, validation, and test. 60/20/20 gives ~936 positive training samples, and ~312 each of positive validation and test samples. Quite small, but hopefully big enough to be meaningful."
   ]
  },
  {
   "cell_type": "code",
   "execution_count": 12,
   "id": "brown-lodging",
   "metadata": {},
   "outputs": [],
   "source": [
    "X = df[features].copy()\n",
    "Y = df['label'].copy()\n",
    "\n",
    "X_train, X_test, y_train, y_test = train_test_split(\n",
    "                                                    X,\n",
    "                                                    Y, \n",
    "                                                    stratify = Y,\n",
    "                                                    test_size = 0.2,\n",
    "                                                    random_state = 42\n",
    "                                                   )"
   ]
  },
  {
   "cell_type": "markdown",
   "id": "anticipated-album",
   "metadata": {},
   "source": [
    "# Start building model"
   ]
  },
  {
   "cell_type": "code",
   "execution_count": 13,
   "id": "european-postage",
   "metadata": {},
   "outputs": [
    {
     "data": {
      "text/plain": [
       "['scaler.joblib']"
      ]
     },
     "execution_count": 13,
     "metadata": {},
     "output_type": "execute_result"
    }
   ],
   "source": [
    "# First fit how to scale data for the model\n",
    "pipeline = Pipeline(steps=[('scaler', StandardScaler()), ('imputer', SimpleImputer(strategy='median'))])\n",
    "\n",
    "scale_model = pipeline.fit(X_train)\n",
    "X_train = scale_model.transform(X_train)\n",
    "X_test = scale_model.transform(X_test)\n",
    "\n",
    "# Save for later use\n",
    "dump(scale_model, 'scaler.joblib') "
   ]
  },
  {
   "cell_type": "code",
   "execution_count": 14,
   "id": "b4ebeef1",
   "metadata": {},
   "outputs": [
    {
     "data": {
      "text/plain": [
       "(4524, 30)"
      ]
     },
     "execution_count": 14,
     "metadata": {},
     "output_type": "execute_result"
    }
   ],
   "source": [
    "X_train.shape"
   ]
  },
  {
   "cell_type": "code",
   "execution_count": 15,
   "id": "ranging-sierra",
   "metadata": {},
   "outputs": [
    {
     "name": "stdout",
     "output_type": "stream",
     "text": [
      "WARNING:tensorflow:From C:\\Users\\Alexander\\miniconda3\\envs\\spotify\\lib\\site-packages\\tensorflow\\python\\ops\\summary_ops_v2.py:1277: stop (from tensorflow.python.eager.profiler) is deprecated and will be removed after 2020-07-01.\n",
      "Instructions for updating:\n",
      "use `tf.profiler.experimental.stop` instead.\n",
      "Average validation loss for model  1 :  2.529551661849022\n",
      "Average validation loss for model  2 :  0.9257205452919006\n",
      "Average validation loss for model  3 :  0.7821866065263748\n",
      "Average validation loss for model  4 :  0.5627231793403625\n",
      "Average validation loss for model  5 :  0.7196673785448074\n",
      "Average validation loss for model  6 :  1.6223282392024994\n",
      "Average validation loss for model  7 :  0.6775791679620743\n",
      "Average validation loss for model  8 :  0.7579326845407486\n",
      "Average validation loss for model  9 :  0.7061482101678849\n",
      "Average validation loss for model  10 :  0.5544859055280685\n",
      "Average validation loss for model  11 :  0.644752170085907\n",
      "Average validation loss for model  12 :  1.0278416609764098\n",
      "Average validation loss for model  13 :  0.6869957314729691\n",
      "Average validation loss for model  14 :  1.9986510031223297\n",
      "Average validation loss for model  15 :  1.716935844540596\n",
      "Average validation loss for model  16 :  0.642184498667717\n",
      "Average validation loss for model  17 :  0.701556147813797\n",
      "Average validation loss for model  18 :  1.2970410726070405\n",
      "Average validation loss for model  19 :  1.1224605011940003\n",
      "Average validation loss for model  20 :  5.487951707601547\n",
      "Average validation loss for model  21 :  0.8141043329238892\n",
      "Average validation loss for model  22 :  0.7389533251523972\n",
      "Average validation loss for model  23 :  0.7464684138298034\n",
      "Average validation loss for model  24 :  1.6019306797981263\n",
      "Average validation loss for model  25 :  0.6067302398681641\n",
      "Average validation loss for model  26 :  0.6022489207983017\n",
      "Average validation loss for model  27 :  0.6401556245088578\n",
      "Average validation loss for model  28 :  0.5823454015254974\n",
      "Average validation loss for model  29 :  5.177268507957458\n",
      "Average validation loss for model  30 :  0.8487108050584793\n",
      "Average validation loss for model  31 :  1.341779619216919\n",
      "Average validation loss for model  32 :  0.8096962653398514\n",
      "Average validation loss for model  33 :  9.469685960769654\n",
      "Average validation loss for model  34 :  0.5963018029928208\n",
      "Average validation loss for model  35 :  1.7171045653820038\n",
      "Average validation loss for model  36 :  0.5937203176021576\n",
      "Average validation loss for model  37 :  0.6046698017120361\n",
      "Average validation loss for model  38 :  0.5818117043972015\n",
      "Average validation loss for model  39 :  0.7060446276664734\n",
      "Average validation loss for model  40 :  0.7137912003993988\n",
      "Average validation loss for model  41 :  0.8464674557447434\n",
      "Average validation loss for model  42 :  0.6883624459505081\n",
      "Average validation loss for model  43 :  0.7670184197425842\n",
      "Average validation loss for model  44 :  0.5497149754762649\n",
      "Average validation loss for model  45 :  0.8515407972335816\n",
      "Average validation loss for model  46 :  0.8488981490135192\n",
      "Average validation loss for model  47 :  0.6792664996385575\n",
      "Average validation loss for model  48 :  5.205649358987809\n",
      "Average validation loss for model  49 :  0.5940331239700317\n",
      "Average validation loss for model  50 :  6.045605159759521\n",
      "Average validation loss for model  51 :  0.9388591524362564\n",
      "Average validation loss for model  52 :  0.7343294944763183\n",
      "Average validation loss for model  53 :  2.5028825588226318\n",
      "Average validation loss for model  54 :  0.8013756620883942\n",
      "Average validation loss for model  55 :  1.6249410247802734\n",
      "Average validation loss for model  56 :  3.112120183348656\n",
      "Average validation loss for model  57 :  0.771813915014267\n",
      "Average validation loss for model  58 :  2.094900286436081\n",
      "Average validation loss for model  59 :  0.5871478453874588\n",
      "Average validation loss for model  60 :  2.39437202000618\n",
      "Average validation loss for model  61 :  0.5388403475284577\n",
      "Average validation loss for model  62 :  0.851429406285286\n",
      "Average validation loss for model  63 :  0.987180125951767\n",
      "Average validation loss for model  64 :  0.5736252250671386\n",
      "Average validation loss for model  65 :  0.6813185050487518\n",
      "Average validation loss for model  66 :  0.650313558101654\n",
      "Average validation loss for model  67 :  0.9164186891317367\n",
      "Average validation loss for model  68 :  0.7399980067014694\n",
      "Average validation loss for model  69 :  3.128225988149643\n",
      "Average validation loss for model  70 :  1.6924363987445832\n",
      "Average validation loss for model  71 :  1.6733059668540955\n",
      "Average validation loss for model  72 :  0.7305771287679672\n",
      "Average validation loss for model  73 :  0.8089150671958923\n",
      "Average validation loss for model  74 :  0.7501499192714691\n",
      "Average validation loss for model  75 :  0.7040713361501694\n",
      "Average validation loss for model  76 :  0.8456143139600754\n",
      "Average validation loss for model  77 :  0.6545908656120301\n",
      "Average validation loss for model  78 :  0.6168025261163712\n",
      "Average validation loss for model  79 :  0.7776409395933152\n",
      "Average validation loss for model  80 :  0.7929914938211441\n",
      "Average validation loss for model  81 :  0.6351013749837875\n",
      "Average validation loss for model  82 :  0.7325507359504699\n",
      "Average validation loss for model  83 :  0.9276140241622924\n",
      "Average validation loss for model  84 :  0.6151378886699677\n",
      "Average validation loss for model  85 :  0.6306523945331574\n",
      "Average validation loss for model  86 :  0.7082846298217773\n",
      "Average validation loss for model  87 :  1.3581253958940507\n",
      "Average validation loss for model  88 :  1.607391914844513\n",
      "Average validation loss for model  89 :  0.6490808641910553\n",
      "Average validation loss for model  90 :  15.006011276245117\n",
      "Average validation loss for model  91 :  0.6751584029197693\n",
      "Average validation loss for model  92 :  0.8253376170396804\n",
      "Average validation loss for model  93 :  0.8583535902500152\n",
      "Average validation loss for model  94 :  1.020129508972168\n",
      "Average validation loss for model  95 :  0.6896391241550446\n",
      "Average validation loss for model  96 :  2.7179522747993468\n",
      "Average validation loss for model  97 :  1.2489482312202453\n",
      "Average validation loss for model  98 :  0.577682632803917\n",
      "Average validation loss for model  99 :  2.887910386323929\n",
      "Average validation loss for model  100 :  1.8083183941841126\n",
      "Average validation loss for model  101 :  0.6282368307113647\n",
      "Average validation loss for model  102 :  2.201031913518906\n",
      "Average validation loss for model  103 :  0.6546563597917556\n",
      "Average validation loss for model  104 :  4.776697672843933\n",
      "Average validation loss for model  105 :  0.7714829124212265\n",
      "Average validation loss for model  106 :  1.2472878749370575\n",
      "Average validation loss for model  107 :  0.5880331742763519\n",
      "Average validation loss for model  108 :  0.8976847836971283\n",
      "Average validation loss for model  109 :  0.5937066823244095\n",
      "Average validation loss for model  110 :  0.718003027677536\n",
      "Average validation loss for model  111 :  0.6127557338476181\n",
      "Average validation loss for model  112 :  0.8498078896999359\n",
      "Average validation loss for model  113 :  1.0427292985916137\n",
      "Average validation loss for model  114 :  0.6133555482625961\n",
      "Average validation loss for model  115 :  0.8732152273654937\n",
      "Average validation loss for model  116 :  0.6877256723642349\n",
      "Average validation loss for model  117 :  0.8788712759017945\n",
      "Average validation loss for model  118 :  0.5392173554897308\n",
      "Average validation loss for model  119 :  1.209012705683708\n",
      "Average validation loss for model  120 :  0.5340858474969864\n",
      "Average validation loss for model  121 :  1.193724225282669\n",
      "Average validation loss for model  122 :  0.8675783504247665\n",
      "Average validation loss for model  123 :  0.7224746593236924\n",
      "Average validation loss for model  124 :  0.5888443077802659\n",
      "Average validation loss for model  125 :  1.4052037047147752\n",
      "Average validation loss for model  126 :  0.6304370844364167\n",
      "Average validation loss for model  127 :  2.870062574505806\n",
      "Average validation loss for model  128 :  0.9131039974689483\n",
      "Average validation loss for model  129 :  0.546050281047821\n",
      "Average validation loss for model  130 :  0.7465782514810562\n",
      "Average validation loss for model  131 :  5.839883451461792\n",
      "Average validation loss for model  132 :  1.4898801827430725\n"
     ]
    },
    {
     "name": "stdout",
     "output_type": "stream",
     "text": [
      "Average validation loss for model  133 :  0.5676875215768814\n",
      "Average validation loss for model  134 :  1.2160202258825301\n",
      "Average validation loss for model  135 :  0.8607229877710343\n",
      "Average validation loss for model  136 :  0.6005900863409043\n",
      "Average validation loss for model  137 :  6.17528111743927\n",
      "Average validation loss for model  138 :  0.6508215464353562\n",
      "Average validation loss for model  139 :  1.6715639954805375\n",
      "Average validation loss for model  140 :  0.56950936627388\n",
      "Average validation loss for model  141 :  0.6708740131855011\n",
      "Average validation loss for model  142 :  0.7805880762338638\n",
      "Average validation loss for model  143 :  0.5703671268224716\n",
      "Average validation loss for model  144 :  0.5729639066457748\n",
      "Average validation loss for model  145 :  0.5709446560144424\n",
      "Average validation loss for model  146 :  2.0095081442594527\n",
      "Average validation loss for model  147 :  0.5712987556457519\n",
      "Average validation loss for model  148 :  7.225725240707398\n",
      "Average validation loss for model  149 :  0.6790434221029281\n",
      "Average validation loss for model  150 :  1.0336234033107758\n"
     ]
    }
   ],
   "source": [
    "logdir = 'logs/scalars/' + datetime.datetime.now().strftime('%Y%m%d-%H%M%S')\n",
    "tensorboard_callback = callbacks.TensorBoard(log_dir=logdir)\n",
    "\n",
    "metrics = [\n",
    "           tfk.metrics.Precision(),\n",
    "           tfk.metrics.TruePositives(),\n",
    "           tfk.metrics.TrueNegatives(),\n",
    "           tfk.metrics.FalsePositives(),\n",
    "           tfk.metrics.FalseNegatives(),\n",
    "           tfk.metrics.AUC(curve='PR')\n",
    "          ]\n",
    "\n",
    "models = random_search_models(num_models=150, input_dims=len(features), compile_metrics=metrics, seed=42)\n",
    "\n",
    "model_list = []\n",
    "\n",
    "for i, model in enumerate(models):\n",
    "\n",
    "    training_history = model.fit(\n",
    "                                 X_train,\n",
    "                                 y_train,\n",
    "                                 batch_size = 4524,\n",
    "                                 verbose = 0,\n",
    "                                 epochs = 500,\n",
    "                                 validation_split = 0.2,\n",
    "                                 callbacks=[callbacks.TensorBoard(log_dir=logdir+'-'+str(i+1))],\n",
    "                                )\n",
    "    model_list.append((model, training_history, i+1))\n",
    "    \n",
    "    print('Average validation loss for model ', str(i+1), ': ', np.average(training_history.history['val_loss']))"
   ]
  },
  {
   "cell_type": "code",
   "execution_count": 16,
   "id": "negative-reference",
   "metadata": {
    "scrolled": false
   },
   "outputs": [
    {
     "data": {
      "text/plain": [
       "ERROR: Timed out waiting for TensorBoard to start. It may still be running as pid 17244."
      ]
     },
     "metadata": {},
     "output_type": "display_data"
    }
   ],
   "source": [
    "%tensorboard --logdir logs/scalars"
   ]
  },
  {
   "cell_type": "code",
   "execution_count": 30,
   "id": "ceramic-montreal",
   "metadata": {},
   "outputs": [],
   "source": [
    "# Get five best models to evaluate on Tensorboard\n",
    "model_list_sorted = get_best_models(model_list, 'val_precision', descending=True, num_models=5)"
   ]
  },
  {
   "cell_type": "code",
   "execution_count": 31,
   "id": "grateful-conversation",
   "metadata": {},
   "outputs": [
    {
     "data": {
      "text/plain": [
       "[(<tensorflow.python.keras.engine.sequential.Sequential at 0x210b95e1580>,\n",
       "  <tensorflow.python.keras.callbacks.History at 0x210a59025e0>,\n",
       "  1.0,\n",
       "  29),\n",
       " (<tensorflow.python.keras.engine.sequential.Sequential at 0x210ba1c2be0>,\n",
       "  <tensorflow.python.keras.callbacks.History at 0x211dcd8e520>,\n",
       "  0.7429378628730774,\n",
       "  89),\n",
       " (<tensorflow.python.keras.engine.sequential.Sequential at 0x210ba5a39d0>,\n",
       "  <tensorflow.python.keras.callbacks.History at 0x2122d2343d0>,\n",
       "  0.7412399053573608,\n",
       "  111),\n",
       " (<tensorflow.python.keras.engine.sequential.Sequential at 0x210ba66fee0>,\n",
       "  <tensorflow.python.keras.callbacks.History at 0x21230cd02e0>,\n",
       "  0.7368420958518982,\n",
       "  116),\n",
       " (<tensorflow.python.keras.engine.sequential.Sequential at 0x210b9b2fbb0>,\n",
       "  <tensorflow.python.keras.callbacks.History at 0x2113ea9fe50>,\n",
       "  0.7352246046066284,\n",
       "  46)]"
      ]
     },
     "execution_count": 31,
     "metadata": {},
     "output_type": "execute_result"
    }
   ],
   "source": [
    "model_list_sorted"
   ]
  },
  {
   "cell_type": "code",
   "execution_count": 60,
   "id": "attempted-former",
   "metadata": {},
   "outputs": [],
   "source": [
    "# Selecting model from top 5 lowest validation loss with highest AUC \n",
    "best_model = model_list_sorted[2][0]\n",
    "best_history = model_list_sorted[2][1]"
   ]
  },
  {
   "cell_type": "code",
   "execution_count": 61,
   "id": "veterinary-overhead",
   "metadata": {},
   "outputs": [
    {
     "name": "stdout",
     "output_type": "stream",
     "text": [
      "Model: \"sequential_110\"\n",
      "_________________________________________________________________\n",
      "Layer (type)                 Output Shape              Param #   \n",
      "=================================================================\n",
      "dense_426 (Dense)            (None, 12)                372       \n",
      "_________________________________________________________________\n",
      "dense_427 (Dense)            (None, 19)                247       \n",
      "_________________________________________________________________\n",
      "dense_428 (Dense)            (None, 8)                 160       \n",
      "_________________________________________________________________\n",
      "dense_429 (Dense)            (None, 10)                90        \n",
      "_________________________________________________________________\n",
      "dense_430 (Dense)            (None, 23)                253       \n",
      "_________________________________________________________________\n",
      "dense_431 (Dense)            (None, 1)                 24        \n",
      "=================================================================\n",
      "Total params: 1,146\n",
      "Trainable params: 1,146\n",
      "Non-trainable params: 0\n",
      "_________________________________________________________________\n"
     ]
    }
   ],
   "source": [
    "best_model.summary()"
   ]
  },
  {
   "cell_type": "markdown",
   "id": "serious-canberra",
   "metadata": {},
   "source": [
    "# Evaluate model on validation set"
   ]
  },
  {
   "cell_type": "code",
   "execution_count": 62,
   "id": "activated-intervention",
   "metadata": {},
   "outputs": [
    {
     "data": {
      "text/plain": [
       "[<matplotlib.lines.Line2D at 0x212bf1f4fa0>]"
      ]
     },
     "execution_count": 62,
     "metadata": {},
     "output_type": "execute_result"
    },
    {
     "data": {
      "image/png": "[encoded data removed]",
      "text/plain": [
       "<Figure size 432x288 with 1 Axes>"
      ]
     },
     "metadata": {
      "needs_background": "light"
     },
     "output_type": "display_data"
    }
   ],
   "source": [
    "learning_plot(best_history, 'loss')"
   ]
  },
  {
   "cell_type": "code",
   "execution_count": 63,
   "id": "incorporated-arrow",
   "metadata": {},
   "outputs": [
    {
     "data": {
      "text/plain": [
       "[<matplotlib.lines.Line2D at 0x212bf262820>]"
      ]
     },
     "execution_count": 63,
     "metadata": {},
     "output_type": "execute_result"
    },
    {
     "data": {
      "image/png": "[encoded data removed]",
      "text/plain": [
       "<Figure size 432x288 with 1 Axes>"
      ]
     },
     "metadata": {
      "needs_background": "light"
     },
     "output_type": "display_data"
    }
   ],
   "source": [
    "learning_plot(best_history, 'auc')"
   ]
  },
  {
   "cell_type": "code",
   "execution_count": 64,
   "id": "seeing-brand",
   "metadata": {},
   "outputs": [
    {
     "data": {
      "text/plain": [
       "[<matplotlib.lines.Line2D at 0x212bf2d22e0>]"
      ]
     },
     "execution_count": 64,
     "metadata": {},
     "output_type": "execute_result"
    },
    {
     "data": {
      "image/png": "[encoded data removed]",
      "text/plain": [
       "<Figure size 432x288 with 1 Axes>"
      ]
     },
     "metadata": {
      "needs_background": "light"
     },
     "output_type": "display_data"
    }
   ],
   "source": [
    "learning_plot(best_history, 'precision')"
   ]
  },
  {
   "cell_type": "code",
   "execution_count": 65,
   "id": "international-memory",
   "metadata": {},
   "outputs": [
    {
     "data": {
      "text/plain": [
       "[<matplotlib.lines.Line2D at 0x212bf340820>]"
      ]
     },
     "execution_count": 65,
     "metadata": {},
     "output_type": "execute_result"
    },
    {
     "data": {
      "image/png": "[encoded data removed]",
      "text/plain": [
       "<Figure size 432x288 with 1 Axes>"
      ]
     },
     "metadata": {
      "needs_background": "light"
     },
     "output_type": "display_data"
    }
   ],
   "source": [
    "learning_recall(best_history, True)"
   ]
  },
  {
   "cell_type": "code",
   "execution_count": 66,
   "id": "identical-mortality",
   "metadata": {},
   "outputs": [
    {
     "data": {
      "text/plain": [
       "[<matplotlib.lines.Line2D at 0x212bf39df10>]"
      ]
     },
     "execution_count": 66,
     "metadata": {},
     "output_type": "execute_result"
    },
    {
     "data": {
      "image/png": "[encoded data removed]",
      "text/plain": [
       "<Figure size 432x288 with 1 Axes>"
      ]
     },
     "metadata": {
      "needs_background": "light"
     },
     "output_type": "display_data"
    }
   ],
   "source": [
    "learning_recall(best_history, False)"
   ]
  },
  {
   "cell_type": "code",
   "execution_count": 67,
   "id": "static-arctic",
   "metadata": {},
   "outputs": [
    {
     "name": "stdout",
     "output_type": "stream",
     "text": [
      "Loss for training set is 0.4808, while loss for validation set is 0.589. This gives a difference of 0.1082\n"
     ]
    }
   ],
   "source": [
    "loss = best_history.history['loss'][-1]\n",
    "val_loss = best_history.history['val_loss'][-1]\n",
    "print('Loss for training set is {}, while loss for validation set is {}. This gives a difference of {}'\\\n",
    "      .format(\n",
    "              round(loss,4),\n",
    "              round(val_loss,4), \n",
    "              round(val_loss-loss, 4))\n",
    "             )"
   ]
  },
  {
   "cell_type": "code",
   "execution_count": 68,
   "id": "corrected-serve",
   "metadata": {},
   "outputs": [
    {
     "name": "stdout",
     "output_type": "stream",
     "text": [
      "AUC for training set is 0.84, while AUC for validation set is 0.8. This gives a difference of 0.03\n"
     ]
    }
   ],
   "source": [
    "auc = best_history.history['auc'][-1]\n",
    "val_auc = best_history.history['val_auc'][-1]\n",
    "print('AUC for training set is {}, while AUC for validation set is {}. This gives a difference of {}'\\\n",
    "      .format(round(auc, 2), round(val_auc, 2), round(auc-val_auc,2)))"
   ]
  },
  {
   "cell_type": "code",
   "execution_count": 69,
   "id": "postal-basis",
   "metadata": {},
   "outputs": [
    {
     "name": "stdout",
     "output_type": "stream",
     "text": [
      "Confusion_matrix:\n",
      "       1      0\n",
      "1  275.0   96.0\n",
      "0  144.0  390.0\n"
     ]
    }
   ],
   "source": [
    "true_positives_val = best_history.history['val_true_positives'][-1]\n",
    "false_positives_val = best_history.history['val_false_positives'][-1]\n",
    "true_negatives_val = best_history.history['val_true_negatives'][-1]\n",
    "false_negatives_val = best_history.history['val_false_negatives'][-1]\n",
    "\n",
    "val_conf_matrix = get_confusion_matrix(\n",
    "                                       true_positives_val,\n",
    "                                       false_positives_val,\n",
    "                                       true_negatives_val,\n",
    "                                       false_negatives_val\n",
    "                                      )\n",
    "\n",
    "print('Confusion_matrix:\\n{}'.format(val_conf_matrix))"
   ]
  },
  {
   "cell_type": "code",
   "execution_count": 70,
   "id": "tracked-consideration",
   "metadata": {},
   "outputs": [
    {
     "name": "stdout",
     "output_type": "stream",
     "text": [
      "True recall rate is 0.66\n",
      "Precision is 0.7412399053573608\n"
     ]
    }
   ],
   "source": [
    "print('True recall rate is {}'\\\n",
    "      .format(round(val_conf_matrix.loc['1', '1']/(val_conf_matrix.loc['1', '1']+val_conf_matrix.loc['0', '1']),2)))\n",
    "print('Precision is {}'.format(best_history.history['val_precision'][-1]))"
   ]
  },
  {
   "cell_type": "markdown",
   "id": "opening-shuttle",
   "metadata": {},
   "source": [
    "Looks very promising on validation set! Let's check test set"
   ]
  },
  {
   "cell_type": "code",
   "execution_count": 71,
   "id": "conventional-chile",
   "metadata": {},
   "outputs": [
    {
     "name": "stdout",
     "output_type": "stream",
     "text": [
      "36/36 [==============================] - 0s 7ms/step - loss: 0.5536 - precision: 0.7355 - true_positives: 342.0000 - true_negatives: 500.0000 - false_positives: 123.0000 - false_negatives: 167.0000 - auc: 0.7940\n"
     ]
    }
   ],
   "source": [
    "loss_test, precision_test, true_positives_test, true_negatives_test, false_positives_test, false_negatives_test, auc_test = best_model.evaluate(X_test, y_test)"
   ]
  },
  {
   "cell_type": "code",
   "execution_count": 72,
   "id": "renewable-prior",
   "metadata": {},
   "outputs": [
    {
     "name": "stdout",
     "output_type": "stream",
     "text": [
      "AUC for test set is 0.79.\n"
     ]
    }
   ],
   "source": [
    "print('AUC for test set is {}.'.format(round(auc_test,2)))"
   ]
  },
  {
   "cell_type": "code",
   "execution_count": 73,
   "id": "unlike-immune",
   "metadata": {},
   "outputs": [],
   "source": [
    "confusion_matrix = get_confusion_matrix(\n",
    "                                        true_positives_test,\n",
    "                                        false_positives_test,\n",
    "                                        true_negatives_test,\n",
    "                                        false_negatives_test\n",
    "                                       )"
   ]
  },
  {
   "cell_type": "code",
   "execution_count": 74,
   "id": "painted-planet",
   "metadata": {},
   "outputs": [
    {
     "name": "stdout",
     "output_type": "stream",
     "text": [
      "       1      0\n",
      "1  342.0  123.0\n",
      "0  167.0  500.0\n"
     ]
    }
   ],
   "source": [
    "print(confusion_matrix)"
   ]
  },
  {
   "cell_type": "code",
   "execution_count": 75,
   "id": "extensive-conversion",
   "metadata": {},
   "outputs": [
    {
     "name": "stdout",
     "output_type": "stream",
     "text": [
      "True recall rate is 0.67\n",
      "Precision is 0.74\n"
     ]
    }
   ],
   "source": [
    "print(\n",
    "      'True recall rate is {}'\\\n",
    "      .format(round(\n",
    "                    confusion_matrix.loc['1', '1']/\n",
    "                    (confusion_matrix.loc['1', '1']+confusion_matrix.loc['0', '1']),\n",
    "                    2\n",
    "                   )\n",
    "             )\n",
    "     )\n",
    "print('Precision is {}'.format(round(precision_test,2)))"
   ]
  },
  {
   "cell_type": "code",
   "execution_count": 76,
   "id": "obvious-trick",
   "metadata": {},
   "outputs": [
    {
     "data": {
      "text/plain": [
       "<matplotlib.legend.Legend at 0x212bf2f2be0>"
      ]
     },
     "execution_count": 76,
     "metadata": {},
     "output_type": "execute_result"
    },
    {
     "data": {
      "image/png": "[encoded data removed]",
      "text/plain": [
       "<Figure size 432x288 with 1 Axes>"
      ]
     },
     "metadata": {
      "needs_background": "light"
     },
     "output_type": "display_data"
    }
   ],
   "source": [
    "from sklearn import metrics\n",
    "from sklearn.utils.class_weight import compute_sample_weight\n",
    "\n",
    "# sample_weights = compute_sample_weight(class_weight='balanced', y=y_test)\n",
    "random_pr = y_test.value_counts().iloc[1] / len(y_test)\n",
    "\n",
    "predictions = best_model.predict(X_test)\n",
    "precision, recall, thresholds = metrics.precision_recall_curve(y_test, predictions)\n",
    "pr_auc = metrics.auc(recall, precision)\n",
    "\n",
    "plt.figure()\n",
    "lw = 2\n",
    "plt.plot(\n",
    "         recall, \n",
    "         precision, \n",
    "         color = 'darkorange',\n",
    "         lw = lw, \n",
    "         label = 'Precision-recall curve (area = {})'.format(round(pr_auc,2))\n",
    "        )\n",
    "plt.plot([0, 1], [random_pr, random_pr], color='navy', lw=lw, linestyle='--', label='Random guess performance')\n",
    "plt.xlim([0.0, 1.0])\n",
    "plt.ylim([0.0, 1.05])\n",
    "plt.xlabel('Recall Rate')\n",
    "plt.ylabel('Precision')\n",
    "plt.title('Precision-recall')\n",
    "plt.legend(loc = 'lower right')"
   ]
  },
  {
   "cell_type": "markdown",
   "id": "corrected-description",
   "metadata": {},
   "source": [
    "# Save model"
   ]
  },
  {
   "cell_type": "code",
   "execution_count": 77,
   "id": "light-biotechnology",
   "metadata": {},
   "outputs": [
    {
     "name": "stdout",
     "output_type": "stream",
     "text": [
      "WARNING:tensorflow:From C:\\Users\\Alexander\\miniconda3\\envs\\spotify\\lib\\site-packages\\tensorflow\\python\\training\\tracking\\tracking.py:111: Model.state_updates (from tensorflow.python.keras.engine.training) is deprecated and will be removed in a future version.\n",
      "Instructions for updating:\n",
      "This property should not be used in TensorFlow 2.0, as updates are applied automatically.\n",
      "WARNING:tensorflow:From C:\\Users\\Alexander\\miniconda3\\envs\\spotify\\lib\\site-packages\\tensorflow\\python\\training\\tracking\\tracking.py:111: Layer.updates (from tensorflow.python.keras.engine.base_layer) is deprecated and will be removed in a future version.\n",
      "Instructions for updating:\n",
      "This property should not be used in TensorFlow 2.0, as updates are applied automatically.\n",
      "INFO:tensorflow:Assets written to: jazz_model\\assets\n"
     ]
    }
   ],
   "source": [
    "best_model.save('jazz_model')"
   ]
  },
  {
   "cell_type": "code",
   "execution_count": null,
   "id": "2fa103b7",
   "metadata": {},
   "outputs": [],
   "source": []
  }
 ],
 "metadata": {
  "kernelspec": {
   "display_name": "jazzy",
   "language": "python",
   "name": "jazzy"
  },
  "language_info": {
   "codemirror_mode": {
    "name": "ipython",
    "version": 3
   },
   "file_extension": ".py",
   "mimetype": "text/x-python",
   "name": "python",
   "nbconvert_exporter": "python",
   "pygments_lexer": "ipython3",
   "version": "3.8.10"
  }
 },
 "nbformat": 4,
 "nbformat_minor": 5
}
