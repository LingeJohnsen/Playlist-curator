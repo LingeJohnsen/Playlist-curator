{
 "cells": [
  {
   "cell_type": "code",
   "execution_count": 1,
   "id": "significant-generator",
   "metadata": {},
   "outputs": [],
   "source": [
    "import pandas as pd\n",
    "import numpy as np\n",
    "from joblib import dump, load\n",
    "import time\n",
    "import datetime\n",
    "import operator\n",
    "\n",
    "from sklearn.model_selection import train_test_split\n",
    "from sklearn.pipeline import Pipeline\n",
    "from sklearn.preprocessing import StandardScaler\n",
    "from sklearn.impute import SimpleImputer\n",
    "\n",
    "import tensorflow as tf\n",
    "import tensorflow.keras as tfk\n",
    "from tensorflow.keras.models import Sequential\n",
    "from tensorflow.keras.layers import Dense\n",
    "from tensorflow.keras.optimizers import Adam\n",
    "from tensorflow.keras.regularizers import l2\n",
    "from tensorflow.keras import callbacks\n",
    "\n",
    "from matplotlib import pyplot as plt"
   ]
  },
  {
   "cell_type": "code",
   "execution_count": 2,
   "id": "anonymous-times",
   "metadata": {},
   "outputs": [],
   "source": [
    "%load_ext tensorboard"
   ]
  },
  {
   "cell_type": "markdown",
   "id": "configured-mechanics",
   "metadata": {},
   "source": [
    "### Some useful functions"
   ]
  },
  {
   "cell_type": "code",
   "execution_count": 3,
   "id": "biological-treasure",
   "metadata": {},
   "outputs": [],
   "source": [
    "def get_confusion_matrix(true_pos, false_pos, true_neg, false_neg):\n",
    "    conf_matrix = np.array([\n",
    "                            [true_pos, false_pos],\n",
    "                            [false_neg, true_neg]\n",
    "                           ])\n",
    "    \n",
    "    return pd.DataFrame(conf_matrix, columns=['1', '0'], index=['1', '0'])"
   ]
  },
  {
   "cell_type": "code",
   "execution_count": 4,
   "id": "herbal-laundry",
   "metadata": {},
   "outputs": [],
   "source": [
    "def learning_plot(model, metric):\n",
    "    \n",
    "    fig = plt.figure()\n",
    "    \n",
    "    fig = plt.plot(model.history[metric], color='black')\n",
    "    fig = plt.plot(model.history['val_'+metric], color='blue')\n",
    "\n",
    "    plt.title('Changes in {} over training run'.format(metric))\n",
    "    plt.xlabel('Epoch')\n",
    "    plt.ylabel(metric)\n",
    "    \n",
    "    plt.legend(['train', 'val'], loc='upper right')\n",
    "    \n",
    "    return fig"
   ]
  },
  {
   "cell_type": "code",
   "execution_count": 5,
   "id": "japanese-fairy",
   "metadata": {},
   "outputs": [],
   "source": [
    "def learning_recall(model, positives_flag=True):\n",
    "    \n",
    "    if positives_flag:\n",
    "        recall = [tp / (tp+fn) for tp, fn in zip(model.history['true_positives'], model.history['false_negatives'])]\n",
    "        val_recall = [tp / (tp+fn) for tp, fn in zip(model.history['val_true_positives'], model.history['val_false_negatives'])]\n",
    "        recall_type = 'positive'\n",
    "    else:\n",
    "        recall = [tn / (tn+fp) for tn, fp in zip(model.history['true_negatives'], model.history['false_positives'])]\n",
    "        val_recall = [tn / (tn+fp) for tn, fp in zip(model.history['val_true_negatives'], model.history['val_false_positives'])]\n",
    "        recall_type = 'negative'\n",
    "        \n",
    "    fig = plt.figure()\n",
    "    \n",
    "    fig = plt.plot(recall, color='black')\n",
    "    fig = plt.plot(val_recall, color='blue')\n",
    "    \n",
    "    plt.title('Changes in {} recall rate over training run.'.format(recall_type))\n",
    "    plt.xlabel('Epoch')\n",
    "    plt.ylabel('{} recall rate'.format(recall_type))\n",
    "    \n",
    "    return fig"
   ]
  },
  {
   "cell_type": "code",
   "execution_count": 6,
   "id": "featured-system",
   "metadata": {},
   "outputs": [],
   "source": [
    "def random_search_models(num_models, input_dims, compile_metrics, seed):\n",
    "    \n",
    "    np.random.seed(seed)\n",
    "    \n",
    "    all_models = []\n",
    "    \n",
    "    for m in range(num_models): \n",
    "        \n",
    "        num_hidden_layers = np.random.randint(1, 11)\n",
    "        all_models.append(build_model(num_hidden_layers, input_dims, compile_metrics))\n",
    "    \n",
    "    return all_models\n",
    "\n",
    "def build_layers(num_layers, input_dims):\n",
    "\n",
    "    layers = []\n",
    "    \n",
    "    for i in range(num_layers):\n",
    "        \n",
    "        num_units = np.random.randint(2, 27)\n",
    "        reg_val = 10**(-4*np.random.rand())\n",
    "        if i==0:\n",
    "            layers.append(Dense(\n",
    "                                units = num_units,\n",
    "                                input_dim = input_dims,\n",
    "                                activation = 'relu',\n",
    "                                kernel_regularizer = l2(l2=reg_val)\n",
    "                               ))\n",
    "        else:\n",
    "            layers.append(Dense(\n",
    "                                units = num_units,\n",
    "                                activation = 'relu',\n",
    "                                kernel_regularizer = l2(l2=reg_val)\n",
    "                               ))\n",
    "    reg_val = 10**(-4*np.random.rand())\n",
    "    layers.append(Dense(\n",
    "                        units = 1,\n",
    "                        activation = 'sigmoid',\n",
    "                        kernel_regularizer = l2(l2=reg_val)\n",
    "                       ))\n",
    "    return layers\n",
    "\n",
    "def build_model(num_hidden_layers, input_dims, compile_metrics):\n",
    "\n",
    "    model = Sequential()\n",
    "    \n",
    "    layers = build_layers(num_hidden_layers, input_dims)\n",
    "    for l in layers:\n",
    "        model.add(l)\n",
    "    \n",
    "    learning_rate = 10**(-4*np.random.rand())\n",
    "    model.compile(optimizer = Adam(learning_rate), loss='binary_crossentropy', metrics=[compile_metrics])\n",
    "    \n",
    "    return model"
   ]
  },
  {
   "cell_type": "code",
   "execution_count": 7,
   "id": "wanted-solid",
   "metadata": {},
   "outputs": [],
   "source": [
    "def get_best_models(model_list, metric, descending, num_models):\n",
    "    \n",
    "    m_tuples = []\n",
    "    for model, history, num in model_list:\n",
    "        m_tuples.append((model, history, history.history[metric][-1], num))\n",
    "        \n",
    "    m_tuples.sort(key=operator.itemgetter(2), reverse=descending)\n",
    "    \n",
    "    if num_models:\n",
    "        return m_tuples[:num_models]\n",
    "    else:\n",
    "        return m_tuples"
   ]
  },
  {
   "cell_type": "markdown",
   "id": "linear-twist",
   "metadata": {},
   "source": [
    "### Load and prepare data"
   ]
  },
  {
   "cell_type": "code",
   "execution_count": 8,
   "id": "solved-upset",
   "metadata": {},
   "outputs": [],
   "source": [
    "df = pd.read_csv('jazz.csv', sep='|')"
   ]
  },
  {
   "cell_type": "code",
   "execution_count": 9,
   "id": "circular-chance",
   "metadata": {},
   "outputs": [],
   "source": [
    "# Define features to analyze\n",
    "features = [\n",
    "            'danceability',\n",
    "            'energy',\n",
    "            'speechiness',\n",
    "            'acousticness',\n",
    "            'instrumentalness',\n",
    "            'liveness',\n",
    "            'valence',\n",
    "            'num_samples',\n",
    "            'end_of_fade_in',\n",
    "            'loudness',\n",
    "            'tempo',\n",
    "            'key',\n",
    "            'mode',\n",
    "            'bars_num',\n",
    "            'bars_duration_var',\n",
    "            'beats_duration_var',\n",
    "            'sections_num',\n",
    "            'sections_duration_mean',\n",
    "            'sections_duration_var',\n",
    "            'loudness_var',\n",
    "            'tempo_var',\n",
    "            'key_var',\n",
    "            'mode_var',\n",
    "            'segments_duration_var',\n",
    "            'segments_duration_mean',\n",
    "            'pitches_mean',\n",
    "            'pitches_var',\n",
    "            'timbre_mean',\n",
    "            'timbre_var',\n",
    "            'tatums_duration_var'\n",
    "           ]\n",
    "\n",
    "df = df[features+['label']]\n",
    "\n",
    "# Shuffle data to ungroup class rows\n",
    "df = df.sample(frac=1, random_state=12).reset_index(drop=True)"
   ]
  },
  {
   "cell_type": "code",
   "execution_count": 10,
   "id": "distinguished-crossing",
   "metadata": {},
   "outputs": [
    {
     "data": {
      "text/plain": [
       "(1648, 31)"
      ]
     },
     "execution_count": 10,
     "metadata": {},
     "output_type": "execute_result"
    }
   ],
   "source": [
    "df[df['label']==1].shape"
   ]
  },
  {
   "cell_type": "markdown",
   "id": "aging-better",
   "metadata": {},
   "source": [
    "Split dataset into training, validation, and test. 60/20/20 gives ~936 positive training samples, and ~312 each of positive validation and test samples. Quite small, but hopefully big enough to be meaningful."
   ]
  },
  {
   "cell_type": "code",
   "execution_count": 11,
   "id": "likely-mathematics",
   "metadata": {},
   "outputs": [],
   "source": [
    "X = df[features].copy()\n",
    "Y = df['label'].copy()\n",
    "\n",
    "X_train, X_test, y_train, y_test = train_test_split(\n",
    "                                                    X,\n",
    "                                                    Y, \n",
    "                                                    stratify = Y,\n",
    "                                                    test_size = 0.2,\n",
    "                                                    random_state = 42\n",
    "                                                   )"
   ]
  },
  {
   "cell_type": "markdown",
   "id": "inappropriate-broadcasting",
   "metadata": {},
   "source": [
    "# Start building model"
   ]
  },
  {
   "cell_type": "code",
   "execution_count": 12,
   "id": "parental-directory",
   "metadata": {},
   "outputs": [
    {
     "data": {
      "text/plain": [
       "['scaler.joblib']"
      ]
     },
     "execution_count": 12,
     "metadata": {},
     "output_type": "execute_result"
    }
   ],
   "source": [
    "# First fit how to scale data for the model\n",
    "pipeline = Pipeline(steps=[('scaler', StandardScaler()), ('imputer', SimpleImputer(strategy='median'))])\n",
    "\n",
    "scale_model = pipeline.fit(X_train)\n",
    "X_train = scale_model.transform(X_train)\n",
    "X_test = scale_model.transform(X_test)\n",
    "\n",
    "# Save for later use\n",
    "dump(scale_model, 'scaler.joblib') "
   ]
  },
  {
   "cell_type": "code",
   "execution_count": 13,
   "id": "digital-reverse",
   "metadata": {},
   "outputs": [
    {
     "name": "stdout",
     "output_type": "stream",
     "text": [
      "WARNING:tensorflow:From C:\\Users\\Alexander\\anaconda3\\envs\\playlistenv\\lib\\site-packages\\tensorflow\\python\\ops\\summary_ops_v2.py:1277: stop (from tensorflow.python.eager.profiler) is deprecated and will be removed after 2020-07-01.\n",
      "Instructions for updating:\n",
      "use `tf.profiler.experimental.stop` instead.\n",
      "WARNING:tensorflow:Callbacks method `on_train_batch_end` is slow compared to the batch time (batch time: 0.0035s vs `on_train_batch_end` time: 0.0943s). Check your callbacks.\n",
      "Average validation loss for model  1 :  1.074791887283325\n",
      "WARNING:tensorflow:Callbacks method `on_train_batch_end` is slow compared to the batch time (batch time: 0.0010s vs `on_train_batch_end` time: 1.9722s). Check your callbacks.\n",
      "Average validation loss for model  2 :  0.770148980140686\n",
      "WARNING:tensorflow:Callbacks method `on_train_batch_end` is slow compared to the batch time (batch time: 0.0010s vs `on_train_batch_end` time: 1.6604s). Check your callbacks.\n",
      "Average validation loss for model  3 :  0.7833348174095154\n",
      "WARNING:tensorflow:Callbacks method `on_train_batch_end` is slow compared to the batch time (batch time: 0.0020s vs `on_train_batch_end` time: 1.8461s). Check your callbacks.\n",
      "Average validation loss for model  4 :  0.7044922070503234\n",
      "WARNING:tensorflow:Callbacks method `on_train_batch_end` is slow compared to the batch time (batch time: 0.0010s vs `on_train_batch_end` time: 1.8180s). Check your callbacks.\n",
      "Average validation loss for model  5 :  0.6850508999824524\n",
      "WARNING:tensorflow:Callbacks method `on_train_batch_end` is slow compared to the batch time (batch time: 0.0010s vs `on_train_batch_end` time: 2.2261s). Check your callbacks.\n",
      "Average validation loss for model  6 :  0.736177613735199\n",
      "WARNING:tensorflow:Callbacks method `on_train_batch_end` is slow compared to the batch time (batch time: 0.0020s vs `on_train_batch_end` time: 3.9715s). Check your callbacks.\n",
      "Average validation loss for model  7 :  1.0503609644174576\n",
      "WARNING:tensorflow:Callbacks method `on_train_batch_end` is slow compared to the batch time (batch time: 0.0014s vs `on_train_batch_end` time: 1.6504s). Check your callbacks.\n",
      "Average validation loss for model  8 :  0.537205762386322\n",
      "WARNING:tensorflow:Callbacks method `on_train_batch_end` is slow compared to the batch time (batch time: 0.0011s vs `on_train_batch_end` time: 1.1699s). Check your callbacks.\n",
      "Average validation loss for model  9 :  0.5905480197668076\n",
      "WARNING:tensorflow:Callbacks method `on_train_batch_end` is slow compared to the batch time (batch time: 0.0009s vs `on_train_batch_end` time: 2.0717s). Check your callbacks.\n",
      "Average validation loss for model  10 :  0.6816741652488708\n",
      "WARNING:tensorflow:Callbacks method `on_train_batch_end` is slow compared to the batch time (batch time: 0.0019s vs `on_train_batch_end` time: 1.0688s). Check your callbacks.\n",
      "Average validation loss for model  11 :  0.5224599255919457\n",
      "WARNING:tensorflow:Callbacks method `on_train_batch_end` is slow compared to the batch time (batch time: 0.0010s vs `on_train_batch_end` time: 1.2466s). Check your callbacks.\n",
      "Average validation loss for model  12 :  0.7585353825092316\n",
      "WARNING:tensorflow:Callbacks method `on_train_batch_end` is slow compared to the batch time (batch time: 0.0009s vs `on_train_batch_end` time: 1.1887s). Check your callbacks.\n",
      "Average validation loss for model  13 :  0.7599738101959228\n",
      "WARNING:tensorflow:Callbacks method `on_train_batch_end` is slow compared to the batch time (batch time: 0.0020s vs `on_train_batch_end` time: 2.8646s). Check your callbacks.\n",
      "Average validation loss for model  14 :  0.5279103149175643\n",
      "WARNING:tensorflow:Callbacks method `on_train_batch_end` is slow compared to the batch time (batch time: 0.0020s vs `on_train_batch_end` time: 3.7120s). Check your callbacks.\n",
      "Average validation loss for model  15 :  0.7629369660615921\n",
      "WARNING:tensorflow:Callbacks method `on_train_batch_end` is slow compared to the batch time (batch time: 0.0020s vs `on_train_batch_end` time: 1.4174s). Check your callbacks.\n",
      "Average validation loss for model  16 :  0.5321096110343934\n",
      "WARNING:tensorflow:Callbacks method `on_train_batch_end` is slow compared to the batch time (batch time: 0.0020s vs `on_train_batch_end` time: 1.6975s). Check your callbacks.\n",
      "Average validation loss for model  17 :  0.68854711830616\n",
      "WARNING:tensorflow:Callbacks method `on_train_batch_end` is slow compared to the batch time (batch time: 0.0020s vs `on_train_batch_end` time: 1.7717s). Check your callbacks.\n",
      "Average validation loss for model  18 :  0.5279498307704925\n",
      "WARNING:tensorflow:Callbacks method `on_train_batch_end` is slow compared to the batch time (batch time: 0.0020s vs `on_train_batch_end` time: 1.5761s). Check your callbacks.\n",
      "Average validation loss for model  19 :  0.5749576367139816\n",
      "WARNING:tensorflow:Callbacks method `on_train_batch_end` is slow compared to the batch time (batch time: 0.0010s vs `on_train_batch_end` time: 1.8375s). Check your callbacks.\n",
      "Average validation loss for model  20 :  1.3095190604925155\n",
      "WARNING:tensorflow:Callbacks method `on_train_batch_end` is slow compared to the batch time (batch time: 0.0010s vs `on_train_batch_end` time: 3.7972s). Check your callbacks.\n",
      "Average validation loss for model  21 :  0.5099963750839234\n",
      "WARNING:tensorflow:Callbacks method `on_train_batch_end` is slow compared to the batch time (batch time: 0.0020s vs `on_train_batch_end` time: 2.2656s). Check your callbacks.\n",
      "Average validation loss for model  22 :  0.7322549419403076\n",
      "WARNING:tensorflow:Callbacks method `on_train_batch_end` is slow compared to the batch time (batch time: 0.0020s vs `on_train_batch_end` time: 1.8928s). Check your callbacks.\n",
      "Average validation loss for model  23 :  0.6814413970708847\n",
      "WARNING:tensorflow:Callbacks method `on_train_batch_end` is slow compared to the batch time (batch time: 0.0020s vs `on_train_batch_end` time: 3.7756s). Check your callbacks.\n",
      "Average validation loss for model  24 :  0.7044158675670624\n",
      "WARNING:tensorflow:Callbacks method `on_train_batch_end` is slow compared to the batch time (batch time: 0.0021s vs `on_train_batch_end` time: 1.9328s). Check your callbacks.\n",
      "Average validation loss for model  25 :  0.8133115618228912\n",
      "WARNING:tensorflow:Callbacks method `on_train_batch_end` is slow compared to the batch time (batch time: 0.0016s vs `on_train_batch_end` time: 1.9022s). Check your callbacks.\n",
      "Average validation loss for model  26 :  0.5176508271098137\n",
      "WARNING:tensorflow:Callbacks method `on_train_batch_end` is slow compared to the batch time (batch time: 0.0020s vs `on_train_batch_end` time: 3.6636s). Check your callbacks.\n",
      "Average validation loss for model  27 :  0.6838660173416138\n",
      "WARNING:tensorflow:Callbacks method `on_train_batch_end` is slow compared to the batch time (batch time: 0.0020s vs `on_train_batch_end` time: 1.3055s). Check your callbacks.\n",
      "Average validation loss for model  28 :  0.8150145556926728\n",
      "WARNING:tensorflow:Callbacks method `on_train_batch_end` is slow compared to the batch time (batch time: 0.0022s vs `on_train_batch_end` time: 1.4479s). Check your callbacks.\n",
      "Average validation loss for model  29 :  1.6373304260969161\n",
      "WARNING:tensorflow:Callbacks method `on_train_batch_end` is slow compared to the batch time (batch time: 0.0020s vs `on_train_batch_end` time: 1.6385s). Check your callbacks.\n",
      "Average validation loss for model  30 :  0.7921047517061234\n",
      "WARNING:tensorflow:Callbacks method `on_train_batch_end` is slow compared to the batch time (batch time: 0.0020s vs `on_train_batch_end` time: 1.1761s). Check your callbacks.\n",
      "Average validation loss for model  31 :  0.5099342880249024\n",
      "WARNING:tensorflow:Callbacks method `on_train_batch_end` is slow compared to the batch time (batch time: 0.0010s vs `on_train_batch_end` time: 3.5812s). Check your callbacks.\n",
      "Average validation loss for model  32 :  0.5311502500176429\n",
      "WARNING:tensorflow:Callbacks method `on_train_batch_end` is slow compared to the batch time (batch time: 0.0017s vs `on_train_batch_end` time: 1.6944s). Check your callbacks.\n",
      "Average validation loss for model  33 :  0.6867606558799744\n",
      "WARNING:tensorflow:Callbacks method `on_train_batch_end` is slow compared to the batch time (batch time: 0.0010s vs `on_train_batch_end` time: 4.2653s). Check your callbacks.\n"
     ]
    },
    {
     "name": "stdout",
     "output_type": "stream",
     "text": [
      "Average validation loss for model  34 :  1.281163642525673\n",
      "WARNING:tensorflow:Callbacks method `on_train_batch_end` is slow compared to the batch time (batch time: 0.0020s vs `on_train_batch_end` time: 1.5436s). Check your callbacks.\n",
      "Average validation loss for model  35 :  0.7041807556152344\n",
      "WARNING:tensorflow:Callbacks method `on_train_batch_end` is slow compared to the batch time (batch time: 0.0020s vs `on_train_batch_end` time: 1.6876s). Check your callbacks.\n",
      "Average validation loss for model  36 :  0.6822975541353226\n",
      "WARNING:tensorflow:Callbacks method `on_train_batch_end` is slow compared to the batch time (batch time: 0.0010s vs `on_train_batch_end` time: 1.9515s). Check your callbacks.\n",
      "Average validation loss for model  37 :  0.6836830507516861\n",
      "WARNING:tensorflow:Callbacks method `on_train_batch_end` is slow compared to the batch time (batch time: 0.0010s vs `on_train_batch_end` time: 1.3658s). Check your callbacks.\n",
      "Average validation loss for model  38 :  0.6053261585235595\n",
      "WARNING:tensorflow:Callbacks method `on_train_batch_end` is slow compared to the batch time (batch time: 0.0020s vs `on_train_batch_end` time: 1.6767s). Check your callbacks.\n",
      "Average validation loss for model  39 :  0.6829038876295089\n",
      "WARNING:tensorflow:Callbacks method `on_train_batch_end` is slow compared to the batch time (batch time: 0.0010s vs `on_train_batch_end` time: 1.2827s). Check your callbacks.\n",
      "Average validation loss for model  40 :  0.4994904072880745\n",
      "WARNING:tensorflow:Callbacks method `on_train_batch_end` is slow compared to the batch time (batch time: 0.0010s vs `on_train_batch_end` time: 1.4662s). Check your callbacks.\n",
      "Average validation loss for model  41 :  1.1581480093002319\n",
      "WARNING:tensorflow:Callbacks method `on_train_batch_end` is slow compared to the batch time (batch time: 0.0010s vs `on_train_batch_end` time: 1.2815s). Check your callbacks.\n",
      "Average validation loss for model  42 :  0.560954592704773\n",
      "WARNING:tensorflow:Callbacks method `on_train_batch_end` is slow compared to the batch time (batch time: 0.0010s vs `on_train_batch_end` time: 4.5787s). Check your callbacks.\n",
      "Average validation loss for model  43 :  0.981311800122261\n",
      "WARNING:tensorflow:Callbacks method `on_train_batch_end` is slow compared to the batch time (batch time: 0.0010s vs `on_train_batch_end` time: 1.2869s). Check your callbacks.\n",
      "Average validation loss for model  44 :  0.7262413486242294\n",
      "WARNING:tensorflow:Callbacks method `on_train_batch_end` is slow compared to the batch time (batch time: 0.0020s vs `on_train_batch_end` time: 1.8441s). Check your callbacks.\n",
      "Average validation loss for model  45 :  0.6679092574119568\n",
      "WARNING:tensorflow:Callbacks method `on_train_batch_end` is slow compared to the batch time (batch time: 0.0020s vs `on_train_batch_end` time: 1.8291s). Check your callbacks.\n",
      "Average validation loss for model  46 :  0.6817970708608627\n",
      "WARNING:tensorflow:Callbacks method `on_train_batch_end` is slow compared to the batch time (batch time: 0.0010s vs `on_train_batch_end` time: 1.2946s). Check your callbacks.\n",
      "Average validation loss for model  47 :  0.5215190678834916\n",
      "WARNING:tensorflow:Callbacks method `on_train_batch_end` is slow compared to the batch time (batch time: 0.0010s vs `on_train_batch_end` time: 1.6718s). Check your callbacks.\n",
      "Average validation loss for model  48 :  0.5325997664928436\n",
      "WARNING:tensorflow:Callbacks method `on_train_batch_end` is slow compared to the batch time (batch time: 0.0010s vs `on_train_batch_end` time: 1.3247s). Check your callbacks.\n",
      "Average validation loss for model  49 :  0.4933627819418907\n",
      "WARNING:tensorflow:Callbacks method `on_train_batch_end` is slow compared to the batch time (batch time: 0.0010s vs `on_train_batch_end` time: 1.2647s). Check your callbacks.\n",
      "Average validation loss for model  50 :  0.5529277874231339\n",
      "WARNING:tensorflow:Callbacks method `on_train_batch_end` is slow compared to the batch time (batch time: 0.0020s vs `on_train_batch_end` time: 1.6164s). Check your callbacks.\n",
      "Average validation loss for model  51 :  0.5283539787530899\n",
      "WARNING:tensorflow:Callbacks method `on_train_batch_end` is slow compared to the batch time (batch time: 0.0010s vs `on_train_batch_end` time: 1.6619s). Check your callbacks.\n",
      "Average validation loss for model  52 :  0.6871041070222854\n",
      "WARNING:tensorflow:Callbacks method `on_train_batch_end` is slow compared to the batch time (batch time: 0.0010s vs `on_train_batch_end` time: 1.7612s). Check your callbacks.\n",
      "Average validation loss for model  53 :  0.6829901512861252\n",
      "WARNING:tensorflow:Callbacks method `on_train_batch_end` is slow compared to the batch time (batch time: 0.0020s vs `on_train_batch_end` time: 6.2399s). Check your callbacks.\n",
      "Average validation loss for model  54 :  0.768396537899971\n",
      "WARNING:tensorflow:Callbacks method `on_train_batch_end` is slow compared to the batch time (batch time: 0.0016s vs `on_train_batch_end` time: 1.6106s). Check your callbacks.\n",
      "Average validation loss for model  55 :  0.7169513745307923\n",
      "WARNING:tensorflow:Callbacks method `on_train_batch_end` is slow compared to the batch time (batch time: 0.0010s vs `on_train_batch_end` time: 1.8344s). Check your callbacks.\n",
      "Average validation loss for model  56 :  0.6824435660839081\n",
      "WARNING:tensorflow:Callbacks method `on_train_batch_begin` is slow compared to the batch time (batch time: 0.0006s vs `on_train_batch_begin` time: 0.0010s). Check your callbacks.\n",
      "WARNING:tensorflow:Callbacks method `on_train_batch_end` is slow compared to the batch time (batch time: 0.0006s vs `on_train_batch_end` time: 7.1100s). Check your callbacks.\n",
      "Average validation loss for model  57 :  0.690894448876381\n",
      "WARNING:tensorflow:Callbacks method `on_train_batch_end` is slow compared to the batch time (batch time: 0.0020s vs `on_train_batch_end` time: 1.4946s). Check your callbacks.\n",
      "Average validation loss for model  58 :  0.6032195749282837\n",
      "WARNING:tensorflow:Callbacks method `on_train_batch_end` is slow compared to the batch time (batch time: 0.0019s vs `on_train_batch_end` time: 1.3834s). Check your callbacks.\n",
      "Average validation loss for model  59 :  0.6883463132381439\n",
      "WARNING:tensorflow:Callbacks method `on_train_batch_end` is slow compared to the batch time (batch time: 0.0040s vs `on_train_batch_end` time: 2.3153s). Check your callbacks.\n",
      "Average validation loss for model  60 :  0.6834551807641983\n",
      "WARNING:tensorflow:Callbacks method `on_train_batch_end` is slow compared to the batch time (batch time: 0.0014s vs `on_train_batch_end` time: 1.2312s). Check your callbacks.\n",
      "Average validation loss for model  61 :  0.7856929137706756\n",
      "WARNING:tensorflow:Callbacks method `on_train_batch_end` is slow compared to the batch time (batch time: 0.0021s vs `on_train_batch_end` time: 1.4310s). Check your callbacks.\n",
      "Average validation loss for model  62 :  0.6887307367324829\n",
      "WARNING:tensorflow:Callbacks method `on_train_batch_end` is slow compared to the batch time (batch time: 0.0019s vs `on_train_batch_end` time: 1.3886s). Check your callbacks.\n",
      "Average validation loss for model  63 :  0.6830201081037521\n",
      "WARNING:tensorflow:Callbacks method `on_train_batch_end` is slow compared to the batch time (batch time: 0.0012s vs `on_train_batch_end` time: 6.2217s). Check your callbacks.\n",
      "Average validation loss for model  64 :  0.5177253031730652\n",
      "WARNING:tensorflow:Callbacks method `on_train_batch_end` is slow compared to the batch time (batch time: 0.0021s vs `on_train_batch_end` time: 1.4240s). Check your callbacks.\n",
      "Average validation loss for model  65 :  0.5837232203483581\n",
      "WARNING:tensorflow:Callbacks method `on_train_batch_end` is slow compared to the batch time (batch time: 0.0010s vs `on_train_batch_end` time: 1.3224s). Check your callbacks.\n",
      "Average validation loss for model  66 :  0.4980621139407158\n",
      "WARNING:tensorflow:Callbacks method `on_train_batch_end` is slow compared to the batch time (batch time: 0.0010s vs `on_train_batch_end` time: 1.2657s). Check your callbacks.\n",
      "Average validation loss for model  67 :  0.5603236427307129\n",
      "WARNING:tensorflow:Callbacks method `on_train_batch_end` is slow compared to the batch time (batch time: 0.0010s vs `on_train_batch_end` time: 1.2823s). Check your callbacks.\n",
      "Average validation loss for model  68 :  0.681558916091919\n"
     ]
    },
    {
     "name": "stdout",
     "output_type": "stream",
     "text": [
      "WARNING:tensorflow:Callbacks method `on_train_batch_end` is slow compared to the batch time (batch time: 0.0030s vs `on_train_batch_end` time: 1.6848s). Check your callbacks.\n",
      "Average validation loss for model  69 :  0.9522357105016709\n",
      "WARNING:tensorflow:Callbacks method `on_train_batch_end` is slow compared to the batch time (batch time: 0.0020s vs `on_train_batch_end` time: 1.7300s). Check your callbacks.\n",
      "Average validation loss for model  70 :  0.6680014578104019\n",
      "WARNING:tensorflow:Callbacks method `on_train_batch_end` is slow compared to the batch time (batch time: 0.0010s vs `on_train_batch_end` time: 1.7941s). Check your callbacks.\n",
      "Average validation loss for model  71 :  1.0056280450820922\n",
      "WARNING:tensorflow:Callbacks method `on_train_batch_end` is slow compared to the batch time (batch time: 0.0020s vs `on_train_batch_end` time: 2.2418s). Check your callbacks.\n",
      "Average validation loss for model  72 :  0.6816249704360962\n",
      "WARNING:tensorflow:Callbacks method `on_train_batch_end` is slow compared to the batch time (batch time: 0.0006s vs `on_train_batch_end` time: 1.5718s). Check your callbacks.\n",
      "Average validation loss for model  73 :  0.6828915566205979\n",
      "WARNING:tensorflow:Callbacks method `on_train_batch_end` is slow compared to the batch time (batch time: 0.0030s vs `on_train_batch_end` time: 2.8811s). Check your callbacks.\n",
      "Average validation loss for model  74 :  0.6902096041440964\n",
      "WARNING:tensorflow:Callbacks method `on_train_batch_end` is slow compared to the batch time (batch time: 0.0020s vs `on_train_batch_end` time: 7.0724s). Check your callbacks.\n",
      "Average validation loss for model  75 :  0.6819925225973129\n",
      "WARNING:tensorflow:Callbacks method `on_train_batch_end` is slow compared to the batch time (batch time: 0.0010s vs `on_train_batch_end` time: 1.5817s). Check your callbacks.\n",
      "Average validation loss for model  76 :  0.6829729088544846\n",
      "WARNING:tensorflow:Callbacks method `on_train_batch_end` is slow compared to the batch time (batch time: 0.0020s vs `on_train_batch_end` time: 1.6317s). Check your callbacks.\n",
      "Average validation loss for model  77 :  0.6523498187065124\n",
      "WARNING:tensorflow:Callbacks method `on_train_batch_end` is slow compared to the batch time (batch time: 0.0016s vs `on_train_batch_end` time: 1.3278s). Check your callbacks.\n",
      "Average validation loss for model  78 :  0.6188367758989334\n",
      "WARNING:tensorflow:Callbacks method `on_train_batch_end` is slow compared to the batch time (batch time: 0.0013s vs `on_train_batch_end` time: 1.2366s). Check your callbacks.\n",
      "Average validation loss for model  79 :  0.6925904395580291\n",
      "WARNING:tensorflow:Callbacks method `on_train_batch_end` is slow compared to the batch time (batch time: 0.0020s vs `on_train_batch_end` time: 1.4855s). Check your callbacks.\n",
      "Average validation loss for model  80 :  0.6847021640539169\n",
      "WARNING:tensorflow:Callbacks method `on_train_batch_end` is slow compared to the batch time (batch time: 0.0023s vs `on_train_batch_end` time: 1.6597s). Check your callbacks.\n",
      "Average validation loss for model  81 :  0.6844090280532837\n",
      "WARNING:tensorflow:Callbacks method `on_train_batch_end` is slow compared to the batch time (batch time: 0.0016s vs `on_train_batch_end` time: 1.4958s). Check your callbacks.\n",
      "Average validation loss for model  82 :  0.5119225209355355\n",
      "WARNING:tensorflow:Callbacks method `on_train_batch_end` is slow compared to the batch time (batch time: 0.0010s vs `on_train_batch_end` time: 1.3681s). Check your callbacks.\n",
      "Average validation loss for model  83 :  0.5494461736679077\n",
      "WARNING:tensorflow:Callbacks method `on_train_batch_end` is slow compared to the batch time (batch time: 0.0010s vs `on_train_batch_end` time: 8.2370s). Check your callbacks.\n",
      "Average validation loss for model  84 :  0.6822003543376922\n",
      "WARNING:tensorflow:Callbacks method `on_train_batch_end` is slow compared to the batch time (batch time: 0.0039s vs `on_train_batch_end` time: 1.6110s). Check your callbacks.\n",
      "Average validation loss for model  85 :  1.6930812212228774\n",
      "WARNING:tensorflow:Callbacks method `on_train_batch_end` is slow compared to the batch time (batch time: 0.0019s vs `on_train_batch_end` time: 1.6957s). Check your callbacks.\n",
      "Average validation loss for model  86 :  0.7373307480812072\n",
      "WARNING:tensorflow:Callbacks method `on_train_batch_end` is slow compared to the batch time (batch time: 0.0010s vs `on_train_batch_end` time: 1.5556s). Check your callbacks.\n",
      "Average validation loss for model  87 :  0.8053141727447509\n",
      "WARNING:tensorflow:Callbacks method `on_train_batch_end` is slow compared to the batch time (batch time: 0.0020s vs `on_train_batch_end` time: 1.8753s). Check your callbacks.\n",
      "Average validation loss for model  88 :  0.8869197018146515\n",
      "WARNING:tensorflow:Callbacks method `on_train_batch_end` is slow compared to the batch time (batch time: 0.0024s vs `on_train_batch_end` time: 1.6121s). Check your callbacks.\n",
      "Average validation loss for model  89 :  1.366712055683136\n",
      "WARNING:tensorflow:Callbacks method `on_train_batch_end` is slow compared to the batch time (batch time: 0.0020s vs `on_train_batch_end` time: 1.4430s). Check your callbacks.\n",
      "Average validation loss for model  90 :  0.8770921304821968\n",
      "WARNING:tensorflow:Callbacks method `on_train_batch_end` is slow compared to the batch time (batch time: 0.0020s vs `on_train_batch_end` time: 1.5625s). Check your callbacks.\n",
      "Average validation loss for model  91 :  0.9313466854095459\n",
      "WARNING:tensorflow:Callbacks method `on_train_batch_end` is slow compared to the batch time (batch time: 0.0021s vs `on_train_batch_end` time: 1.4577s). Check your callbacks.\n",
      "Average validation loss for model  92 :  0.5651661921739578\n",
      "WARNING:tensorflow:Callbacks method `on_train_batch_end` is slow compared to the batch time (batch time: 0.0020s vs `on_train_batch_end` time: 1.8931s). Check your callbacks.\n",
      "Average validation loss for model  93 :  0.8068461284637451\n",
      "WARNING:tensorflow:Callbacks method `on_train_batch_end` is slow compared to the batch time (batch time: 0.0010s vs `on_train_batch_end` time: 1.5040s). Check your callbacks.\n",
      "Average validation loss for model  94 :  0.7248498764038086\n",
      "WARNING:tensorflow:Callbacks method `on_train_batch_end` is slow compared to the batch time (batch time: 0.0010s vs `on_train_batch_end` time: 3.4488s). Check your callbacks.\n",
      "Average validation loss for model  95 :  1.1913944190740586\n",
      "WARNING:tensorflow:Callbacks method `on_train_batch_end` is slow compared to the batch time (batch time: 0.0030s vs `on_train_batch_end` time: 4.3832s). Check your callbacks.\n",
      "Average validation loss for model  96 :  0.6820780967473984\n",
      "WARNING:tensorflow:Callbacks method `on_train_batch_end` is slow compared to the batch time (batch time: 0.0010s vs `on_train_batch_end` time: 1.7105s). Check your callbacks.\n",
      "Average validation loss for model  97 :  0.6826490622758865\n",
      "WARNING:tensorflow:Callbacks method `on_train_batch_end` is slow compared to the batch time (batch time: 0.0020s vs `on_train_batch_end` time: 1.5734s). Check your callbacks.\n",
      "Average validation loss for model  98 :  0.5695805047750473\n",
      "WARNING:tensorflow:Callbacks method `on_train_batch_end` is slow compared to the batch time (batch time: 0.0020s vs `on_train_batch_end` time: 1.7639s). Check your callbacks.\n",
      "Average validation loss for model  99 :  0.5687951958179474\n",
      "WARNING:tensorflow:Callbacks method `on_train_batch_end` is slow compared to the batch time (batch time: 0.0010s vs `on_train_batch_end` time: 1.8459s). Check your callbacks.\n",
      "Average validation loss for model  100 :  0.6822799770832062\n"
     ]
    }
   ],
   "source": [
    "logdir = 'logs/scalars/' + datetime.datetime.now().strftime('%Y%m%d-%H%M%S')\n",
    "tensorboard_callback = callbacks.TensorBoard(log_dir=logdir)\n",
    "\n",
    "metrics = [\n",
    "           tfk.metrics.Precision(),\n",
    "           tfk.metrics.TruePositives(),\n",
    "           tfk.metrics.TrueNegatives(),\n",
    "           tfk.metrics.FalsePositives(),\n",
    "           tfk.metrics.FalseNegatives(),\n",
    "           tfk.metrics.AUC(curve='PR')\n",
    "          ]\n",
    "\n",
    "models = random_search_models(num_models=100, input_dims=len(features), compile_metrics=metrics, seed=42)\n",
    "\n",
    "model_list = []\n",
    "\n",
    "for i, model in enumerate(models):\n",
    "\n",
    "    training_history = model.fit(\n",
    "                                 X_train,\n",
    "                                 y_train,\n",
    "                                 batch_size = 128,\n",
    "                                 verbose = 0,\n",
    "                                 epochs = 500,\n",
    "                                 validation_split = 0.2,\n",
    "                                 callbacks=[callbacks.TensorBoard(log_dir=logdir+'-'+str(i+1))],\n",
    "                                )\n",
    "    model_list.append((model, training_history, i+1))\n",
    "    \n",
    "    print('Average validation loss for model ', str(i+1), ': ', np.average(training_history.history['val_loss']))"
   ]
  },
  {
   "cell_type": "code",
   "execution_count": 34,
   "id": "driven-marsh",
   "metadata": {
    "scrolled": false
   },
   "outputs": [
    {
     "data": {
      "text/plain": [
       "Reusing TensorBoard on port 6006 (pid 6736), started 0:02:29 ago. (Use '!kill 6736' to kill it.)"
      ]
     },
     "metadata": {},
     "output_type": "display_data"
    },
    {
     "data": {
      "text/html": [
       "\n",
       "      <iframe id=\"tensorboard-frame-2388bd726082cac9\" width=\"100%\" height=\"800\" frameborder=\"0\">\n",
       "      </iframe>\n",
       "      <script>\n",
       "        (function() {\n",
       "          const frame = document.getElementById(\"tensorboard-frame-2388bd726082cac9\");\n",
       "          const url = new URL(\"/\", window.location);\n",
       "          const port = 6006;\n",
       "          if (port) {\n",
       "            url.port = port;\n",
       "          }\n",
       "          frame.src = url;\n",
       "        })();\n",
       "      </script>\n",
       "    "
      ],
      "text/plain": [
       "<IPython.core.display.HTML object>"
      ]
     },
     "metadata": {},
     "output_type": "display_data"
    }
   ],
   "source": [
    "%tensorboard --logdir logs/scalars"
   ]
  },
  {
   "cell_type": "code",
   "execution_count": 109,
   "id": "prescribed-institute",
   "metadata": {},
   "outputs": [],
   "source": [
    "# Get five best models to evaluate on Tensorboard\n",
    "model_list_sorted = get_best_models(model_list, 'val_loss', descending=False, num_models=5)"
   ]
  },
  {
   "cell_type": "code",
   "execution_count": 200,
   "id": "thick-prisoner",
   "metadata": {},
   "outputs": [
    {
     "data": {
      "text/plain": [
       "(<tensorflow.python.keras.engine.sequential.Sequential at 0x1ef808feb20>,\n",
       " <tensorflow.python.keras.callbacks.History at 0x1f02cd90ac0>,\n",
       " 0.4967952072620392,\n",
       " 40)"
      ]
     },
     "execution_count": 200,
     "metadata": {},
     "output_type": "execute_result"
    }
   ],
   "source": [
    "model_list_sorted[4]"
   ]
  },
  {
   "cell_type": "code",
   "execution_count": 201,
   "id": "revolutionary-illinois",
   "metadata": {},
   "outputs": [],
   "source": [
    "# Selecting model from top 5 lowest validation loss with highest AUC \n",
    "best_model = model_list_sorted[4][0]\n",
    "best_history = model_list_sorted[4][1]"
   ]
  },
  {
   "cell_type": "code",
   "execution_count": 202,
   "id": "interracial-hammer",
   "metadata": {},
   "outputs": [
    {
     "name": "stdout",
     "output_type": "stream",
     "text": [
      "Model: \"sequential_39\"\n",
      "_________________________________________________________________\n",
      "Layer (type)                 Output Shape              Param #   \n",
      "=================================================================\n",
      "dense_268 (Dense)            (None, 22)                682       \n",
      "_________________________________________________________________\n",
      "dense_269 (Dense)            (None, 1)                 23        \n",
      "=================================================================\n",
      "Total params: 705\n",
      "Trainable params: 705\n",
      "Non-trainable params: 0\n",
      "_________________________________________________________________\n"
     ]
    }
   ],
   "source": [
    "best_model.summary()"
   ]
  },
  {
   "cell_type": "markdown",
   "id": "affiliated-vulnerability",
   "metadata": {},
   "source": [
    "# Evaluate model on validation set"
   ]
  },
  {
   "cell_type": "code",
   "execution_count": 203,
   "id": "limiting-plane",
   "metadata": {},
   "outputs": [
    {
     "data": {
      "text/plain": [
       "[<matplotlib.lines.Line2D at 0x1f120585eb0>]"
      ]
     },
     "execution_count": 203,
     "metadata": {},
     "output_type": "execute_result"
    },
    {
     "data": {
      "image/png": "[encoded data removed]",
      "text/plain": [
       "<Figure size 432x288 with 1 Axes>"
      ]
     },
     "metadata": {
      "needs_background": "light"
     },
     "output_type": "display_data"
    }
   ],
   "source": [
    "learning_plot(best_history, 'loss')"
   ]
  },
  {
   "cell_type": "code",
   "execution_count": 204,
   "id": "acquired-lesson",
   "metadata": {},
   "outputs": [
    {
     "data": {
      "text/plain": [
       "[<matplotlib.lines.Line2D at 0x1f1205f4670>]"
      ]
     },
     "execution_count": 204,
     "metadata": {},
     "output_type": "execute_result"
    },
    {
     "data": {
      "image/png": "[encoded data removed]",
      "text/plain": [
       "<Figure size 432x288 with 1 Axes>"
      ]
     },
     "metadata": {
      "needs_background": "light"
     },
     "output_type": "display_data"
    }
   ],
   "source": [
    "learning_plot(best_history, 'auc')"
   ]
  },
  {
   "cell_type": "code",
   "execution_count": 205,
   "id": "handed-sigma",
   "metadata": {},
   "outputs": [
    {
     "data": {
      "text/plain": [
       "[<matplotlib.lines.Line2D at 0x1f120626520>]"
      ]
     },
     "execution_count": 205,
     "metadata": {},
     "output_type": "execute_result"
    },
    {
     "data": {
      "image/png": "[encoded data removed]",
      "text/plain": [
       "<Figure size 432x288 with 1 Axes>"
      ]
     },
     "metadata": {
      "needs_background": "light"
     },
     "output_type": "display_data"
    }
   ],
   "source": [
    "learning_plot(best_history, 'precision')"
   ]
  },
  {
   "cell_type": "code",
   "execution_count": 206,
   "id": "requested-picnic",
   "metadata": {},
   "outputs": [
    {
     "data": {
      "text/plain": [
       "[<matplotlib.lines.Line2D at 0x1f120691610>]"
      ]
     },
     "execution_count": 206,
     "metadata": {},
     "output_type": "execute_result"
    },
    {
     "data": {
      "image/png": "[encoded data removed]",
      "text/plain": [
       "<Figure size 432x288 with 1 Axes>"
      ]
     },
     "metadata": {
      "needs_background": "light"
     },
     "output_type": "display_data"
    }
   ],
   "source": [
    "learning_recall(best_history, True)"
   ]
  },
  {
   "cell_type": "code",
   "execution_count": 207,
   "id": "limited-madagascar",
   "metadata": {},
   "outputs": [
    {
     "data": {
      "text/plain": [
       "[<matplotlib.lines.Line2D at 0x1f1206e7850>]"
      ]
     },
     "execution_count": 207,
     "metadata": {},
     "output_type": "execute_result"
    },
    {
     "data": {
      "image/png": "[encoded data removed]",
      "text/plain": [
       "<Figure size 432x288 with 1 Axes>"
      ]
     },
     "metadata": {
      "needs_background": "light"
     },
     "output_type": "display_data"
    }
   ],
   "source": [
    "learning_recall(best_history, False)"
   ]
  },
  {
   "cell_type": "code",
   "execution_count": 208,
   "id": "editorial-protest",
   "metadata": {},
   "outputs": [
    {
     "name": "stdout",
     "output_type": "stream",
     "text": [
      "Loss for training set is 0.4609, while loss for validation set is 0.4968. This gives a difference of 0.0359\n"
     ]
    }
   ],
   "source": [
    "loss = best_history.history['loss'][-1]\n",
    "val_loss = best_history.history['val_loss'][-1]\n",
    "print('Loss for training set is {}, while loss for validation set is {}. This gives a difference of {}'\\\n",
    "      .format(\n",
    "              round(loss,4),\n",
    "              round(val_loss,4), \n",
    "              round(val_loss-loss, 4))\n",
    "             )"
   ]
  },
  {
   "cell_type": "code",
   "execution_count": 209,
   "id": "sweet-watts",
   "metadata": {},
   "outputs": [
    {
     "name": "stdout",
     "output_type": "stream",
     "text": [
      "AUC for training set is 0.87, while AUC for validation set is 0.84. This gives a difference of 0.03\n"
     ]
    }
   ],
   "source": [
    "auc = best_history.history['auc'][-1]\n",
    "val_auc = best_history.history['val_auc'][-1]\n",
    "print('AUC for training set is {}, while AUC for validation set is {}. This gives a difference of {}'\\\n",
    "      .format(round(auc, 2), round(val_auc, 2), round(auc-val_auc,2)))"
   ]
  },
  {
   "cell_type": "code",
   "execution_count": 210,
   "id": "macro-magic",
   "metadata": {},
   "outputs": [
    {
     "name": "stdout",
     "output_type": "stream",
     "text": [
      "Confusion_matrix:\n",
      "       1      0\n",
      "1  203.0   67.0\n",
      "0   64.0  298.0\n"
     ]
    }
   ],
   "source": [
    "true_positives_val = best_history.history['val_true_positives'][-1]\n",
    "false_positives_val = best_history.history['val_false_positives'][-1]\n",
    "true_negatives_val = best_history.history['val_true_negatives'][-1]\n",
    "false_negatives_val = best_history.history['val_false_negatives'][-1]\n",
    "\n",
    "val_conf_matrix = get_confusion_matrix(\n",
    "                                       true_positives_val,\n",
    "                                       false_positives_val,\n",
    "                                       true_negatives_val,\n",
    "                                       false_negatives_val\n",
    "                                      )\n",
    "\n",
    "print('Confusion_matrix:\\n{}'.format(val_conf_matrix))"
   ]
  },
  {
   "cell_type": "code",
   "execution_count": 211,
   "id": "unsigned-acrobat",
   "metadata": {},
   "outputs": [
    {
     "name": "stdout",
     "output_type": "stream",
     "text": [
      "True recall rate is 0.76\n",
      "Precision is 0.7518518567085266\n"
     ]
    }
   ],
   "source": [
    "print('True recall rate is {}'\\\n",
    "      .format(round(val_conf_matrix.loc['1', '1']/(val_conf_matrix.loc['1', '1']+val_conf_matrix.loc['0', '1']),2)))\n",
    "print('Precision is {}'.format(best_history.history['val_precision'][-1]))"
   ]
  },
  {
   "cell_type": "markdown",
   "id": "varied-article",
   "metadata": {},
   "source": [
    "Looks very promising on validation set! Let's check test set"
   ]
  },
  {
   "cell_type": "code",
   "execution_count": 212,
   "id": "loving-couple",
   "metadata": {},
   "outputs": [
    {
     "name": "stdout",
     "output_type": "stream",
     "text": [
      "25/25 [==============================] - 0s 1ms/step - loss: 0.5257 - precision: 0.7147 - true_positives: 248.0000 - true_negatives: 361.0000 - false_positives: 99.0000 - false_negatives: 82.0000 - auc: 0.8043\n"
     ]
    }
   ],
   "source": [
    "loss_test, precision_test, true_positives_test, true_negatives_test, false_positives_test, false_negatives_test, auc_test = best_model.evaluate(X_test, y_test)"
   ]
  },
  {
   "cell_type": "code",
   "execution_count": 213,
   "id": "abroad-tokyo",
   "metadata": {},
   "outputs": [
    {
     "name": "stdout",
     "output_type": "stream",
     "text": [
      "AUC for test set is 0.8.\n"
     ]
    }
   ],
   "source": [
    "print('AUC for test set is {}.'.format(round(auc_test,2)))"
   ]
  },
  {
   "cell_type": "code",
   "execution_count": 214,
   "id": "fundamental-somerset",
   "metadata": {},
   "outputs": [],
   "source": [
    "confusion_matrix = get_confusion_matrix(\n",
    "                                        true_positives_test,\n",
    "                                        false_positives_test,\n",
    "                                        true_negatives_test,\n",
    "                                        false_negatives_test\n",
    "                                       )"
   ]
  },
  {
   "cell_type": "code",
   "execution_count": 215,
   "id": "plastic-spyware",
   "metadata": {},
   "outputs": [
    {
     "name": "stdout",
     "output_type": "stream",
     "text": [
      "       1      0\n",
      "1  248.0   99.0\n",
      "0   82.0  361.0\n"
     ]
    }
   ],
   "source": [
    "print(confusion_matrix)"
   ]
  },
  {
   "cell_type": "code",
   "execution_count": 216,
   "id": "incredible-continuity",
   "metadata": {},
   "outputs": [
    {
     "name": "stdout",
     "output_type": "stream",
     "text": [
      "True recall rate is 0.75\n",
      "Precision is 0.71\n"
     ]
    }
   ],
   "source": [
    "print(\n",
    "      'True recall rate is {}'\\\n",
    "      .format(round(\n",
    "                    confusion_matrix.loc['1', '1']/\n",
    "                    (confusion_matrix.loc['1', '1']+confusion_matrix.loc['0', '1']),\n",
    "                    2\n",
    "                   )\n",
    "             )\n",
    "     )\n",
    "print('Precision is {}'.format(round(precision_test,2)))"
   ]
  },
  {
   "cell_type": "code",
   "execution_count": 217,
   "id": "respiratory-forth",
   "metadata": {},
   "outputs": [
    {
     "data": {
      "text/plain": [
       "<matplotlib.legend.Legend at 0x1f12073cfd0>"
      ]
     },
     "execution_count": 217,
     "metadata": {},
     "output_type": "execute_result"
    },
    {
     "data": {
      "image/png": "[encoded data removed]",
      "text/plain": [
       "<Figure size 432x288 with 1 Axes>"
      ]
     },
     "metadata": {
      "needs_background": "light"
     },
     "output_type": "display_data"
    }
   ],
   "source": [
    "from sklearn import metrics\n",
    "from sklearn.utils.class_weight import compute_sample_weight\n",
    "\n",
    "# sample_weights = compute_sample_weight(class_weight='balanced', y=y_test)\n",
    "random_pr = y_test.value_counts().iloc[1] / len(y_test)\n",
    "\n",
    "predictions = best_model.predict(X_test)\n",
    "precision, recall, thresholds = metrics.precision_recall_curve(y_test, predictions)\n",
    "pr_auc = metrics.auc(recall, precision)\n",
    "\n",
    "plt.figure()\n",
    "lw = 2\n",
    "plt.plot(\n",
    "         recall, \n",
    "         precision, \n",
    "         color = 'darkorange',\n",
    "         lw = lw, \n",
    "         label = 'Precision-recall curve (area = {})'.format(round(pr_auc,2))\n",
    "        )\n",
    "plt.plot([0, 1], [random_pr, random_pr], color='navy', lw=lw, linestyle='--', label='Random guess performance')\n",
    "plt.xlim([0.0, 1.0])\n",
    "plt.ylim([0.0, 1.05])\n",
    "plt.xlabel('Recall Rate')\n",
    "plt.ylabel('Precision')\n",
    "plt.title('Precision-recall')\n",
    "plt.legend(loc = 'lower right')"
   ]
  },
  {
   "cell_type": "markdown",
   "id": "funky-traffic",
   "metadata": {},
   "source": [
    "# Save model"
   ]
  },
  {
   "cell_type": "code",
   "execution_count": 218,
   "id": "parallel-policy",
   "metadata": {},
   "outputs": [
    {
     "name": "stdout",
     "output_type": "stream",
     "text": [
      "WARNING:tensorflow:From C:\\Users\\Alexander\\anaconda3\\envs\\playlistenv\\lib\\site-packages\\tensorflow\\python\\training\\tracking\\tracking.py:111: Model.state_updates (from tensorflow.python.keras.engine.training) is deprecated and will be removed in a future version.\n",
      "Instructions for updating:\n",
      "This property should not be used in TensorFlow 2.0, as updates are applied automatically.\n",
      "WARNING:tensorflow:From C:\\Users\\Alexander\\anaconda3\\envs\\playlistenv\\lib\\site-packages\\tensorflow\\python\\training\\tracking\\tracking.py:111: Layer.updates (from tensorflow.python.keras.engine.base_layer) is deprecated and will be removed in a future version.\n",
      "Instructions for updating:\n",
      "This property should not be used in TensorFlow 2.0, as updates are applied automatically.\n",
      "INFO:tensorflow:Assets written to: jazz_model\\assets\n"
     ]
    }
   ],
   "source": [
    "best_model.save('jazz_model')"
   ]
  }
 ],
 "metadata": {
  "kernelspec": {
   "display_name": "playlistenv",
   "language": "python",
   "name": "playlistenv"
  },
  "language_info": {
   "codemirror_mode": {
    "name": "ipython",
    "version": 3
   },
   "file_extension": ".py",
   "mimetype": "text/x-python",
   "name": "python",
   "nbconvert_exporter": "python",
   "pygments_lexer": "ipython3",
   "version": "3.8.8"
  }
 },
 "nbformat": 4,
 "nbformat_minor": 5
}
